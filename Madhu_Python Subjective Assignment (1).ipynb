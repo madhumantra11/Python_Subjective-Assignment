{
 "cells": [
  {
   "cell_type": "markdown",
   "metadata": {},
   "source": [
    "Q1. Write a Python program to get the string from the given string where\n",
    "    all the occurrence of its first char has been changed to '$,' except first\n",
    "    char itself?"
   ]
  },
  {
   "cell_type": "code",
   "execution_count": 1,
   "metadata": {},
   "outputs": [
    {
     "name": "stdout",
     "output_type": "stream",
     "text": [
      "pros$ect\n"
     ]
    }
   ],
   "source": [
    "def change_char(str1):\n",
    "    char = str1[0]\n",
    "    str1 = str1.replace(char, '$')\n",
    "    str1 = char + str1[1:]\n",
    "    return str1\n",
    "print(change_char('prospect'))"
   ]
  },
  {
   "cell_type": "markdown",
   "metadata": {},
   "source": [
    "Q2. Write a Python program to get the single string from the two given\n",
    "    strings, and separated by the space and swap the first two characters of\n",
    "    each string?"
   ]
  },
  {
   "cell_type": "code",
   "execution_count": 2,
   "metadata": {},
   "outputs": [
    {
     "name": "stdout",
     "output_type": "stream",
     "text": [
      "xyc abz\n"
     ]
    }
   ],
   "source": [
    "def chars_mix_up(a, b):\n",
    "    new_a = b[:2] + a[2:]\n",
    "    new_b = a[:2] + b[2:]\n",
    "    return new_a + ' ' + new_b\n",
    "print(chars_mix_up('abc', 'xyz'))"
   ]
  },
  {
   "cell_type": "markdown",
   "metadata": {},
   "source": [
    "Q3. Write the Python program to add 'ing' at the end of the given string\n",
    "    (length of the string should be at least 3). If given string already ends\n",
    "    with 'ing,' then add 'ly' instead. If string length of the given string is less\n",
    "    than 3, leave it unchanged?\n"
   ]
  },
  {
   "cell_type": "code",
   "execution_count": 3,
   "metadata": {},
   "outputs": [
    {
     "name": "stdout",
     "output_type": "stream",
     "text": [
      "ab\n",
      "abcing\n",
      "stringly\n"
     ]
    }
   ],
   "source": [
    "def add_chars(str1):\n",
    "    if len(str1)>2:\n",
    "        if str1[-3:]=='ing':\n",
    "            str1+='ly'\n",
    "        else:\n",
    "            str1+='ing'\n",
    "    return str1\n",
    "print(add_chars('ab'))\n",
    "print(add_chars('abc'))\n",
    "print(add_chars('string'))\n"
   ]
  },
  {
   "cell_type": "markdown",
   "metadata": {},
   "source": [
    "Q4. Write the Python program to find the first appearance of the\n",
    "    substring 'not' and 'poor' from the given string, if 'not' follows the 'poor',\n",
    "    replace the whole 'not'...' poor' substring with 'good'.Return the resulting\n",
    "    string.\n"
   ]
  },
  {
   "cell_type": "code",
   "execution_count": 4,
   "metadata": {},
   "outputs": [
    {
     "name": "stdout",
     "output_type": "stream",
     "text": [
      "The lyrics are good!\n",
      "The lyrics are poor!\n"
     ]
    }
   ],
   "source": [
    "def first_appear(str1):\n",
    "    str_not=str1.find('not')\n",
    "    str_poor=str1.find('poor')\n",
    "    if str_poor>str_not and str_not>0 and str_poor>0:\n",
    "        str1=str1.replace(str1[str_not:(str_poor+4)],'good')\n",
    "        return str1\n",
    "    else:\n",
    "        return str1\n",
    "print(first_appear('The lyrics are not that poor!'))\n",
    "print(first_appear('The lyrics are poor!'))\n"
   ]
  },
  {
   "cell_type": "markdown",
   "metadata": {},
   "source": [
    "Q5. Write the Python program to remove the characters which have odd\n",
    "    index values of a given string.\n"
   ]
  },
  {
   "cell_type": "code",
   "execution_count": 5,
   "metadata": {},
   "outputs": [
    {
     "name": "stdout",
     "output_type": "stream",
     "text": [
      "aceg\n",
      "pto\n"
     ]
    }
   ],
   "source": [
    "def remove_odd_chars(str1):\n",
    "    result=\"\"\n",
    "    for i in range(len(str1)):\n",
    "        if i%2==0:\n",
    "            result=result+str1[i]\n",
    "    return result\n",
    "print(remove_odd_chars('abcdefgh'))\n",
    "print(remove_odd_chars('python'))"
   ]
  },
  {
   "cell_type": "markdown",
   "metadata": {},
   "source": [
    "Q6. Write the Python function to get a string made of 4 copies of the last\n",
    "    two characters of the specified string (length must be at least 2)."
   ]
  },
  {
   "cell_type": "code",
   "execution_count": 6,
   "metadata": {},
   "outputs": [
    {
     "name": "stdout",
     "output_type": "stream",
     "text": [
      "onononon\n",
      "eseseses\n"
     ]
    }
   ],
   "source": [
    "def insert_end(str): \n",
    "    sub_str = str[-2:] \n",
    "    return sub_str * 4 \n",
    "print(insert_end('Python')) \n",
    "print(insert_end('Exercises'))"
   ]
  },
  {
   "cell_type": "markdown",
   "metadata": {},
   "source": [
    "Q7. Write the python function to get a string made of its first three\n",
    "    characters of a specified string. If the length of the string is less than 3\n",
    "    then return the original string.\n"
   ]
  },
  {
   "cell_type": "code",
   "execution_count": 7,
   "metadata": {},
   "outputs": [
    {
     "name": "stdout",
     "output_type": "stream",
     "text": [
      "ipy\n",
      "pyt\n",
      "ip\n"
     ]
    }
   ],
   "source": [
    "def frst_three(str1):\n",
    "    result=\"\"\n",
    "    if len(str1)>3:\n",
    "        result=str1[:3]\n",
    "        return result\n",
    "    else:\n",
    "        return str1\n",
    "print(frst_three('ipy'))\n",
    "print(frst_three('python'))\n",
    "print(frst_three('ip'))"
   ]
  },
  {
   "cell_type": "markdown",
   "metadata": {},
   "source": [
    "Q8. Write the python program to print the following floating numbers up\n",
    "    to 2 decimal places\n"
   ]
  },
  {
   "cell_type": "code",
   "execution_count": 8,
   "metadata": {},
   "outputs": [
    {
     "name": "stdout",
     "output_type": "stream",
     "text": [
      "Original num: 3.1457\n",
      "Floating num upto 2 decimal places: 3.15\n"
     ]
    }
   ],
   "source": [
    "x=3.1457\n",
    "print(\"Original num:\", x)\n",
    "print(\"Floating num upto 2 decimal places:\",\"{:.2f}\".format(x))"
   ]
  },
  {
   "cell_type": "markdown",
   "metadata": {},
   "source": [
    "Q9. Write the Python program to format a number with a percentage"
   ]
  },
  {
   "cell_type": "code",
   "execution_count": 9,
   "metadata": {},
   "outputs": [
    {
     "name": "stdout",
     "output_type": "stream",
     "text": [
      "Original num: 0.5\n",
      "Formatted num with percentage: 50.00%\n"
     ]
    }
   ],
   "source": [
    "x=0.50\n",
    "print(\"Original num:\", x)\n",
    "print(\"Formatted num with percentage:\",\"{:.2%}\".format(x))"
   ]
  },
  {
   "cell_type": "markdown",
   "metadata": {},
   "source": [
    "Q10. Write the Python program to count occurrences of a substring in a\n",
    "     String"
   ]
  },
  {
   "cell_type": "code",
   "execution_count": 10,
   "metadata": {},
   "outputs": [
    {
     "data": {
      "text/plain": [
       "2"
      ]
     },
     "execution_count": 10,
     "metadata": {},
     "output_type": "execute_result"
    }
   ],
   "source": [
    "str1=\"The quick brown fox jumps over the lazy fox\"\n",
    "substr= str1.count('fox')\n",
    "substr"
   ]
  },
  {
   "cell_type": "markdown",
   "metadata": {},
   "source": [
    "Q11. Write the Python program to count repeated characters in a string"
   ]
  },
  {
   "cell_type": "code",
   "execution_count": 11,
   "metadata": {},
   "outputs": [
    {
     "name": "stdout",
     "output_type": "stream",
     "text": [
      "(t, 2)\n",
      "(h, 2)\n",
      "(e, 3)\n",
      "(u, 2)\n",
      "(r, 2)\n",
      "(o, 3)\n"
     ]
    }
   ],
   "source": [
    "from collections import Counter\n",
    "def calc_char_freq(string):\n",
    "    freq_count = Counter(string)\n",
    "    for key in freq_count.keys():\n",
    "        if freq_count.get(key) > 1: \n",
    "            print(\"(\" + key + \", \" + str(freq_count.get(key)) + \")\")\n",
    "myStr = 'thequickbrownjumpsoverthelazydog'\n",
    "calc_char_freq(myStr)"
   ]
  },
  {
   "cell_type": "markdown",
   "metadata": {},
   "source": [
    "Q12. Write the Python program to print the square and cube symbol in\n",
    "     the area of a rectangle and volume of a cylinder\n"
   ]
  },
  {
   "cell_type": "code",
   "execution_count": 12,
   "metadata": {},
   "outputs": [
    {
     "name": "stdout",
     "output_type": "stream",
     "text": [
      "The area of the rectangle is 1256.66cm²\n",
      "The volume of the cylinder is 1254.725cm³\n"
     ]
    }
   ],
   "source": [
    "area = 1256.66\n",
    "volume = 1254.725 \n",
    "decimals = 2 \n",
    "print(\"The area of the rectangle is {0:.{1}f}cm\\u00b2\".format(area, decimals))\n",
    "decimals = 3 \n",
    "print(\"The volume of the cylinder is {0:.{1}f}cm\\u00b3\".format(volume, decimals))"
   ]
  },
  {
   "cell_type": "markdown",
   "metadata": {},
   "source": [
    "Q13. Write the Python program to check if a string contains all letters of\n",
    "     the alphabet"
   ]
  },
  {
   "cell_type": "code",
   "execution_count": 13,
   "metadata": {},
   "outputs": [
    {
     "name": "stdout",
     "output_type": "stream",
     "text": [
      "True\n",
      "False\n"
     ]
    }
   ],
   "source": [
    "import string\n",
    "alphabet = set(string.ascii_lowercase) \n",
    "input_string = 'The quick brown fox jumps over the lazy dog' \n",
    "print(set(input_string.lower()) >= alphabet) \n",
    "input_string = 'The quick brown fox jumps over the lazy cat' \n",
    "print(set(input_string.lower()) >= alphabet)"
   ]
  },
  {
   "cell_type": "markdown",
   "metadata": {},
   "source": [
    "Q14. Write the Python program to find the second most repeated word\n",
    "     in a given string"
   ]
  },
  {
   "cell_type": "code",
   "execution_count": 14,
   "metadata": {},
   "outputs": [
    {
     "name": "stdout",
     "output_type": "stream",
     "text": [
      "('you', 6)\n"
     ]
    }
   ],
   "source": [
    "def word_count(str): \n",
    "    counts = dict() \n",
    "    words = str.split()\n",
    "    for word in words: \n",
    "        if word in counts: \n",
    "            counts[word] += 1 \n",
    "        else:\n",
    "            counts[word] = 1\n",
    "    counts_x = sorted(counts.items(), key=lambda kv: kv[1]) #print(counts_x) \n",
    "    return counts_x[-2]\n",
    "print(word_count(\"Be happy because being happy will make you feel happy, hope you are liking the act of being happy, you are are genious, you are great, you are wise, you are strong\"))"
   ]
  },
  {
   "cell_type": "markdown",
   "metadata": {},
   "source": [
    "Q15. Write the Python program to find the minimum window in the given\n",
    "     string, which will contains all the characters of another given\n",
    "     strings"
   ]
  },
  {
   "cell_type": "code",
   "execution_count": 15,
   "metadata": {},
   "outputs": [
    {
     "name": "stdout",
     "output_type": "stream",
     "text": [
      "Original Strings:\n",
      " PRWSOERIUSFK \n",
      " OSU\n",
      "Minimum window:\n",
      "OERIUS\n"
     ]
    }
   ],
   "source": [
    "import collections \n",
    "def min_window(str1, str2): \n",
    "        result_char, missing_char = collections.Counter(str2), len(str2) \n",
    "        i = p = q = 0 \n",
    "        for j, c in enumerate(str1, 1): \n",
    "            missing_char -= result_char[c] > 0 \n",
    "            result_char[c] -= 1 \n",
    "            if not missing_char: \n",
    "                while i < q and result_char[str1[i]] < 0: \n",
    "                    result_char[str1[i]] += 1 \n",
    "                    i += 1 \n",
    "                if not q or j - i <= q - p: \n",
    "                    p, q = i, j \n",
    "        return str1[p:q]\n",
    "str1 = \"PRWSOERIUSFK\" \n",
    "str2 = \"OSU\"\n",
    "print(\"Original Strings:\\n\",str1,\"\\n\",str2)\n",
    "print(\"Minimum window:\") \n",
    "print(min_window(str1,str2))"
   ]
  },
  {
   "cell_type": "markdown",
   "metadata": {},
   "source": [
    "Q16. Write the Python program to find smallest window that contains all\n",
    "     characters of the given string"
   ]
  },
  {
   "cell_type": "code",
   "execution_count": 16,
   "metadata": {},
   "outputs": [
    {
     "name": "stdout",
     "output_type": "stream",
     "text": [
      "Original Strings:\n",
      " asdaewsqgtwwsa\n",
      "\n",
      "Smallest window that contains all characters of the said string:\n",
      "a\n"
     ]
    }
   ],
   "source": [
    "from collections import defaultdict\n",
    "def find_sub_string(str): \n",
    "    str_len = len(str)\n",
    "    # Count all distinct characters. dist_count_char = len(set([x for x in str]))\n",
    "    dist_count_char = len(set([x for x in str]))\n",
    "    ctr, start_pos, start_pos_index, min_len = 0, 0, -1, 9999999999 \n",
    "    curr_count = defaultdict(lambda: 0) \n",
    "    for i in range(str_len): \n",
    "        curr_count[str[i]] += 1\n",
    "        if curr_count[str[i]] == 1: \n",
    "            ctr += 1\n",
    "        if ctr == dist_count_char: \n",
    "            while curr_count[str[start_pos]] > 1: \n",
    "                if curr_count[str[start_pos]] > 1: \n",
    "                    curr_count[str[start_pos]] -= 1 \n",
    "                    start_pos += 1\n",
    "        len_window = i - start_pos + 1 \n",
    "        if min_len > len_window:\n",
    "            min_len = len_window \n",
    "            start_pos_index = start_pos \n",
    "    return str[start_pos_index: start_pos_index + min_len]\n",
    "str1 = \"asdaewsqgtwwsa\" \n",
    "print(\"Original Strings:\\n\",str1)\n",
    "print(\"\\nSmallest window that contains all characters of the said string:\") \n",
    "print(find_sub_string(str1))"
   ]
  },
  {
   "cell_type": "markdown",
   "metadata": {},
   "source": [
    "Q17. Write the Python program to count number of substrings from a\n",
    "     given string of lowercase alphabets with exactly k distinct (given)\n",
    "     characters"
   ]
  },
  {
   "cell_type": "code",
   "execution_count": 17,
   "metadata": {
    "cocalc": {
     "outputs": {
      "0": {
       "name": "input",
       "opts": {
        "password": false,
        "prompt": "Input a string (lowercase alphabets):"
       },
       "output_type": "stream",
       "value": "help"
      },
      "1": {
       "name": "input",
       "opts": {
        "password": false,
        "prompt": "Input k: "
       },
       "output_type": "stream",
       "value": "4"
      }
     }
    }
   },
   "outputs": [
    {
     "name": "stdout",
     "output_type": "stream",
     "text": [
      "Input a string (lowercase alphabets):help\n",
      "Input k: 4\n",
      "Number of substrings with exactly 4 distinct characters : 1\n"
     ]
    }
   ],
   "source": [
    "def count_k_dist(str1, k): \n",
    "    str_len = len(str1) \n",
    "    result = 0\n",
    "    ctr = [0] * 27\n",
    "    for i in range(0, str_len): \n",
    "        dist_ctr = 0\n",
    "        ctr = [0] * 27\n",
    "        for j in range(i, str_len): \n",
    "            if(ctr[ord(str1[j]) - 97] == 0): \n",
    "                dist_ctr += 1\n",
    "                ctr[ord(str1[j]) - 97] += 1\n",
    "                if(dist_ctr == k): \n",
    "                    result += 1 \n",
    "                    if(dist_ctr > k): \n",
    "                        break\n",
    "    return result\n",
    "str1 = input(\"Input a string (lowercase alphabets):\") \n",
    "k = int(input(\"Input k: \"))\n",
    "print(\"Number of substrings with exactly\", k, \"distinct characters : \", end = \"\") \n",
    "print(count_k_dist(str1, k))"
   ]
  },
  {
   "cell_type": "markdown",
   "metadata": {},
   "source": [
    "Q18. Write the Python program to count number of non-empty\n",
    "     substrings of the given string"
   ]
  },
  {
   "cell_type": "code",
   "execution_count": 18,
   "metadata": {
    "cocalc": {
     "outputs": {
      "0": {
       "name": "input",
       "opts": {
        "password": false,
        "prompt": "Input a string: "
       },
       "output_type": "stream",
       "value": "hello world"
      }
     }
    }
   },
   "outputs": [
    {
     "name": "stdout",
     "output_type": "stream",
     "text": [
      "Input a string: help me\n",
      "Number of substrings:\n",
      "28\n"
     ]
    }
   ],
   "source": [
    "def number_of_substrings(str): \n",
    "    str_len = len(str); \n",
    "    return int(str_len * (str_len + 1) / 2);\n",
    "str1 = input(\"Input a string: \")\n",
    "print(\"Number of substrings:\") \n",
    "print(number_of_substrings(str1))"
   ]
  },
  {
   "cell_type": "markdown",
   "metadata": {},
   "source": [
    "Q19. Write the Python program to count number of substrings with same\n",
    "     first and last characters of the given string"
   ]
  },
  {
   "cell_type": "code",
   "execution_count": 19,
   "metadata": {
    "cocalc": {
     "outputs": {
      "0": {
       "name": "input",
       "opts": {
        "password": false,
        "prompt": "Input a string: "
       },
       "output_type": "stream",
       "value": "abcd"
      }
     }
    }
   },
   "outputs": [
    {
     "name": "stdout",
     "output_type": "stream",
     "text": [
      "Input a string: wolf\n",
      "4\n"
     ]
    }
   ],
   "source": [
    "def no_of_substring_with_equalEnds(str1): \n",
    "    result = 0; \n",
    "    n = len(str1); \n",
    "    for i in range(n): \n",
    "        for j in range(i, n): \n",
    "            if (str1[i] == str1[j]): \n",
    "                result = result + 1 \n",
    "    return result \n",
    "str1 = input(\"Input a string: \") \n",
    "print(no_of_substring_with_equalEnds(str1))\n"
   ]
  },
  {
   "cell_type": "markdown",
   "metadata": {},
   "source": [
    "Q20. Write the Python program to count the number of strings where the\n",
    "     string length is 2 or more, and first and last character are same\n",
    "     from a given list of strings."
   ]
  },
  {
   "cell_type": "code",
   "execution_count": 20,
   "metadata": {},
   "outputs": [
    {
     "name": "stdout",
     "output_type": "stream",
     "text": [
      "4\n"
     ]
    }
   ],
   "source": [
    "def frst_last_same(str1):\n",
    "    count=0\n",
    "    for i in str1:\n",
    "        if len(str1)>1 and i[0]==i[-1]:\n",
    "            count=count+1\n",
    "    return count\n",
    "print(frst_last_same(['aba','tab','pop','wow','flag','1221']))"
   ]
  },
  {
   "cell_type": "markdown",
   "metadata": {},
   "source": [
    "Q21. Write the Python program to get a list, sorted in increasing order by\n",
    "     the last element in each tuple from the given list of non-empty\n",
    "     tuples."
   ]
  },
  {
   "cell_type": "code",
   "execution_count": 21,
   "metadata": {},
   "outputs": [
    {
     "name": "stdout",
     "output_type": "stream",
     "text": [
      "[(2, 1), (1, 2), (2, 3), (4, 4), (2, 5)]\n"
     ]
    }
   ],
   "source": [
    "def last(n): \n",
    "    return n[-1]\n",
    "def sort_list_last(tuples): \n",
    "    return sorted(tuples, key=last)\n",
    "print(sort_list_last([(2, 5), (1, 2), (4, 4), (2, 3), (2, 1)]))"
   ]
  },
  {
   "cell_type": "markdown",
   "metadata": {},
   "source": [
    "Q22. Write the Python program to remove duplicates from a list."
   ]
  },
  {
   "cell_type": "code",
   "execution_count": 22,
   "metadata": {},
   "outputs": [
    {
     "name": "stdout",
     "output_type": "stream",
     "text": [
      "{40, 10, 80, 50, 20, 60, 30}\n"
     ]
    }
   ],
   "source": [
    "a = [10,20,30,20,10,50,60,40,80,50,40] \n",
    "dup_items = set() \n",
    "uniq_items = [] \n",
    "for x in a: \n",
    "    if x not in dup_items: \n",
    "        uniq_items.append(x) \n",
    "        dup_items.add(x) \n",
    "print(dup_items)"
   ]
  },
  {
   "cell_type": "markdown",
   "metadata": {},
   "source": [
    "Q23. Write the Python program to find the list of words that are longer\n",
    "     than n from a given list of words."
   ]
  },
  {
   "cell_type": "code",
   "execution_count": 23,
   "metadata": {},
   "outputs": [
    {
     "name": "stdout",
     "output_type": "stream",
     "text": [
      "['quick', 'brown', 'jumps', 'over', 'lazy']\n"
     ]
    }
   ],
   "source": [
    "def long_words(n, str): \n",
    "    word_len = [] \n",
    "    txt = str.split(\" \") \n",
    "    for x in txt: \n",
    "        if len(x) > n:\n",
    "            word_len.append(x) \n",
    "    return word_len \n",
    "print(long_words(3, \"The quick brown fox jumps over the lazy dog\"))"
   ]
  },
  {
   "cell_type": "markdown",
   "metadata": {},
   "source": [
    "Q24. Write the Python program to print a specified list after removing the\n",
    "     0th, 4th, and 5th elements."
   ]
  },
  {
   "cell_type": "code",
   "execution_count": 24,
   "metadata": {},
   "outputs": [
    {
     "name": "stdout",
     "output_type": "stream",
     "text": [
      "['Green', 'White', 'Black']\n"
     ]
    }
   ],
   "source": [
    "color = ['Red', 'Green', 'White', 'Black', 'Pink', 'Yellow'] \n",
    "color = [x for (i,x) in enumerate(color) if i not in (0,4,5)] \n",
    "print(color)"
   ]
  },
  {
   "cell_type": "markdown",
   "metadata": {},
   "source": [
    "Q25. Write the Python program to generate all permutations of a list in Python"
   ]
  },
  {
   "cell_type": "code",
   "execution_count": 26,
   "metadata": {},
   "outputs": [
    {
     "name": "stdout",
     "output_type": "stream",
     "text": [
      "[(1, 2, 3), (1, 3, 2), (2, 1, 3), (2, 3, 1), (3, 1, 2), (3, 2, 1)]\n"
     ]
    }
   ],
   "source": [
    "import itertools \n",
    "print(list(itertools.permutations([1,2,3])))"
   ]
  },
  {
   "cell_type": "markdown",
   "metadata": {},
   "source": [
    "Q26. Write the Python program to convert a pair of values into a sorted unique array"
   ]
  },
  {
   "cell_type": "code",
   "execution_count": 27,
   "metadata": {},
   "outputs": [
    {
     "name": "stdout",
     "output_type": "stream",
     "text": [
      "Original List:  [(1, 2), (3, 4), (1, 2), (5, 6), (7, 8), (1, 2), (3, 4), (3, 4), (7, 8), (9, 10)]\n",
      "Sorted Unique Data: [1, 2, 3, 4, 5, 6, 7, 8, 9, 10]\n"
     ]
    }
   ],
   "source": [
    "L = [(1, 2), (3, 4), (1, 2), (5, 6), (7, 8), (1, 2), (3, 4), (3, 4), (7, 8), (9, 10)] \n",
    "print(\"Original List: \", L) \n",
    "print(\"Sorted Unique Data:\",sorted(set().union(*L)))"
   ]
  },
  {
   "cell_type": "markdown",
   "metadata": {},
   "source": [
    "Q27. Write the Python class to convert an integer to a roman numeral"
   ]
  },
  {
   "cell_type": "code",
   "execution_count": 28,
   "metadata": {},
   "outputs": [
    {
     "name": "stdout",
     "output_type": "stream",
     "text": [
      "I\n",
      "C\n"
     ]
    }
   ],
   "source": [
    "class py_solution: \n",
    "    def int_to_Roman(self, num): \n",
    "        val = [ 1000, 900, 500, 400, 100, 90, 50, 40, 10, 9, 5, 4, 1 ] \n",
    "        syb = [ \"M\", \"CM\", \"D\", \"CD\", \"C\", \"XC\", \"L\", \"XL\", \"X\", \"IX\", \"V\", \"IV\", \"I\" ] \n",
    "        roman_num = '' \n",
    "        i = 0 \n",
    "        while num > 0: \n",
    "            for _ in range(num // val[i]):\n",
    "                roman_num += syb[i] \n",
    "                num -= val[i] \n",
    "            i += 1\n",
    "        return roman_num\n",
    "print(py_solution().int_to_Roman(1)) \n",
    "print(py_solution().int_to_Roman(100))"
   ]
  },
  {
   "cell_type": "markdown",
   "metadata": {},
   "source": [
    "Q28 Write the Python class to convert a Roman numeral to an integer"
   ]
  },
  {
   "cell_type": "code",
   "execution_count": 29,
   "metadata": {},
   "outputs": [
    {
     "name": "stdout",
     "output_type": "stream",
     "text": [
      "3986\n",
      "4000\n",
      "100\n"
     ]
    }
   ],
   "source": [
    "class py_solution: \n",
    "    def roman_to_int(self, s): \n",
    "        rom_val = {'I': 1, 'V': 5, 'X': 10, 'L': 50, 'C': 100, 'D': 500, 'M': 1000}\n",
    "        int_val = 0 \n",
    "        for i in range(len(s)): \n",
    "            if i > 0 and rom_val[s[i]] > rom_val[s[i - 1]]: \n",
    "                int_val += rom_val[s[i]] - 2 * rom_val[s[i - 1]] \n",
    "            else: int_val += rom_val[s[i]] \n",
    "        return int_val\n",
    "print(py_solution().roman_to_int('MMMCMLXXXVI'))\n",
    "print(py_solution().roman_to_int('MMMM')) \n",
    "print(py_solution().roman_to_int('C'))"
   ]
  },
  {
   "cell_type": "markdown",
   "metadata": {},
   "source": [
    "Q29. Write the Python class to find the validity of the string of the parentheses, '(', ')', '{', '}', '[' and '] and the brackets must be closed      in the correct order, example - \"()\" and \"()[]{}\" are valid but \"[)\", \"({[)]\" and \"{{{\" are invalid."
   ]
  },
  {
   "cell_type": "code",
   "execution_count": 30,
   "metadata": {},
   "outputs": [
    {
     "name": "stdout",
     "output_type": "stream",
     "text": [
      "False\n",
      "False\n",
      "False\n"
     ]
    }
   ],
   "source": [
    "class py_solution: \n",
    "    def is_valid_parenthese(self, str1): \n",
    "        stack, pchar = [], {\"(\": \")\", \"{\": \"}\", \"[\": \"]\"} \n",
    "        for parenthese in str1: \n",
    "            if parenthese in pchar: \n",
    "                stack.append(parenthese) \n",
    "            elif len(stack) == 0 or pchar[stack.pop()] != parenthese: \n",
    "                return False \n",
    "            return len(stack) == 0 \n",
    "print(py_solution().is_valid_parenthese(\"(){}[]\"))\n",
    "print(py_solution().is_valid_parenthese(\"()[{)}\")) \n",
    "print(py_solution().is_valid_parenthese(\"()\"))"
   ]
  },
  {
   "cell_type": "markdown",
   "metadata": {},
   "source": [
    "Q30. Write the Python class to get all possible unique subsets from a set of distinct integers"
   ]
  },
  {
   "cell_type": "code",
   "execution_count": 31,
   "metadata": {},
   "outputs": [
    {
     "name": "stdout",
     "output_type": "stream",
     "text": [
      "[[], [6], [5], [5, 6], [4], [4, 6], [4, 5], [4, 5, 6]]\n"
     ]
    }
   ],
   "source": [
    "class py_solution: \n",
    "    def sub_sets(self, sset): \n",
    "        return self.subsetsRecur([], sorted(sset))\n",
    "    def subsetsRecur(self, current, sset): \n",
    "        if sset: \n",
    "            return self.subsetsRecur(current, sset[1:]) + self.subsetsRecur(current + [sset[0]], sset[1:]) \n",
    "        return [current]\n",
    "print(py_solution().sub_sets([4,5,6]))"
   ]
  },
  {
   "cell_type": "markdown",
   "metadata": {},
   "source": [
    "Q31. Write the Python class to find a pair of elements (indices of the two numbers) from a \n",
    "     given array whose sum equals the specific target number"
   ]
  },
  {
   "cell_type": "code",
   "execution_count": 32,
   "metadata": {},
   "outputs": [
    {
     "name": "stdout",
     "output_type": "stream",
     "text": [
      "index1=2, index2=3\n"
     ]
    }
   ],
   "source": [
    "class py_solution: \n",
    "    def twoSum(self, nums, target): \n",
    "        lookup = {} \n",
    "        for i, num in enumerate(nums): \n",
    "            if target - num in lookup: \n",
    "                return (lookup[target - num], i ) \n",
    "            lookup[num] = i \n",
    "print(\"index1=%d, index2=%d\" % py_solution().twoSum((10,20,10,40,50,60,70),50))"
   ]
  },
  {
   "cell_type": "markdown",
   "metadata": {},
   "source": [
    "Q32. Write the Python class to find the three elements that sum to zero from the set of n real numbers"
   ]
  },
  {
   "cell_type": "code",
   "execution_count": 33,
   "metadata": {},
   "outputs": [
    {
     "name": "stdout",
     "output_type": "stream",
     "text": [
      "[[-7, -3, 10]]\n"
     ]
    }
   ],
   "source": [
    "class py_solution:\n",
    "    def threeSum(self, nums): \n",
    "        nums, result, i = sorted(nums), [], 0 \n",
    "        while i < len(nums) - 2: \n",
    "            j, k = i + 1, len(nums) - 1 \n",
    "            while j < k: \n",
    "                if nums[i] + nums[j] + nums[k] < 0:\n",
    "                    j += 1 \n",
    "                elif nums[i] + nums[j] + nums[k] > 0:\n",
    "                    k -= 1 \n",
    "                else:\n",
    "                    result.append([nums[i], nums[j], nums[k]]) \n",
    "                    j, k = j + 1, k - 1 \n",
    "                    while j < k and nums[j] == nums[j - 1]:\n",
    "                        j += 1 \n",
    "                    while j < k and nums[k] == nums[k + 1]: \n",
    "                        k -= 1\n",
    "                i += 1 \n",
    "                while i < len(nums) - 2 and nums[i] == nums[i - 1]:\n",
    "                    i += 1\n",
    "            return result \n",
    "print(py_solution().threeSum([-25, -10, -7, -3, 2, 4, 8, 10]))"
   ]
  },
  {
   "cell_type": "markdown",
   "metadata": {},
   "source": [
    "Q33. Write the Python class to implement pow(x, n)"
   ]
  },
  {
   "cell_type": "code",
   "execution_count": 34,
   "metadata": {},
   "outputs": [
    {
     "name": "stdout",
     "output_type": "stream",
     "text": [
      "0.125\n",
      "81\n",
      "1\n"
     ]
    }
   ],
   "source": [
    "class py_solution: \n",
    "    def pow(self, x, n): \n",
    "        if x==0 or x==1 or n==1: \n",
    "            return x\n",
    "        if x==-1: \n",
    "            if n%2 ==0:\n",
    "                return 1 \n",
    "            else: \n",
    "                return -1 \n",
    "        if n==0: \n",
    "            return 1 \n",
    "        if n<0: \n",
    "            return 1/self.pow(x,-n) \n",
    "        val = self.pow(x,n//2) \n",
    "        if n%2 ==0:\n",
    "            return val*val \n",
    "        return val*val*x\n",
    "print(py_solution().pow(2, -3)); \n",
    "print(py_solution().pow(3, 4)); \n",
    "print(py_solution().pow(100, 0));"
   ]
  },
  {
   "cell_type": "markdown",
   "metadata": {},
   "source": [
    "Q34. Write the Python class which has two methods get_String and print_String. get_String accept the string from the user and\n",
    "     print_String print the string in upper case."
   ]
  },
  {
   "cell_type": "code",
   "execution_count": 35,
   "metadata": {
    "cocalc": {
     "outputs": {
      "0": {
       "name": "input",
       "opts": {
        "password": false,
        "prompt": ""
       },
       "output_type": "stream",
       "value": "hello world"
      }
     }
    }
   },
   "outputs": [
    {
     "name": "stdout",
     "output_type": "stream",
     "text": [
      "hello world\n",
      "HELLO WORLD\n"
     ]
    }
   ],
   "source": [
    "class IOString(): \n",
    "    def __init__(self): \n",
    "        self.str1 = \"\"\n",
    "    def get_String(self): \n",
    "        self.str1 = input()\n",
    "    def print_String(self): \n",
    "        print(self.str1.upper())\n",
    "str1 = IOString() \n",
    "str1.get_String() \n",
    "str1.print_String()"
   ]
  },
  {
   "cell_type": "markdown",
   "metadata": {},
   "source": [
    "Q35. Write the Python class named Rectangle constructed by a length and width and the method which will compute the area of the rectangle"
   ]
  },
  {
   "cell_type": "code",
   "execution_count": 36,
   "metadata": {},
   "outputs": [
    {
     "name": "stdout",
     "output_type": "stream",
     "text": [
      "120\n"
     ]
    }
   ],
   "source": [
    "class Rectangle(): \n",
    "    def __init__(self, l, w): \n",
    "        self.length = l \n",
    "        self.width = w \n",
    "    def rectangle_area(self): \n",
    "        return self.length*self.width \n",
    "newRectangle = Rectangle(12, 10) \n",
    "print(newRectangle.rectangle_area())"
   ]
  },
  {
   "cell_type": "markdown",
   "metadata": {},
   "source": [
    "Q36. Write the Python class named Circle constructed by the radius and two methods which will compute the area and perimeter of the circle"
   ]
  },
  {
   "cell_type": "code",
   "execution_count": 37,
   "metadata": {},
   "outputs": [
    {
     "name": "stdout",
     "output_type": "stream",
     "text": [
      "200.96\n",
      "50.24\n"
     ]
    }
   ],
   "source": [
    "class Circle(): \n",
    "    def __init__(self, r): \n",
    "        self.radius = r\n",
    "    def area(self): \n",
    "        return self.radius**2*3.14\n",
    "    def perimeter(self): \n",
    "        return 2*self.radius*3.14\n",
    "NewCircle = Circle(8) \n",
    "print(NewCircle.area()) \n",
    "print(NewCircle.perimeter())"
   ]
  },
  {
   "cell_type": "markdown",
   "metadata": {},
   "source": [
    "Q37. Write the Python program to get the class name of an instance in Python"
   ]
  },
  {
   "cell_type": "code",
   "execution_count": 38,
   "metadata": {},
   "outputs": [
    {
     "name": "stdout",
     "output_type": "stream",
     "text": [
      "cycle\n"
     ]
    }
   ],
   "source": [
    "import itertools \n",
    "x = itertools.cycle('ABCD') \n",
    "print(type(x).__name__)"
   ]
  },
  {
   "cell_type": "markdown",
   "metadata": {},
   "source": [
    "Q38. Write the Python program to count the number of students of individual class"
   ]
  },
  {
   "cell_type": "code",
   "execution_count": 39,
   "metadata": {},
   "outputs": [
    {
     "name": "stdout",
     "output_type": "stream",
     "text": [
      "Counter({'VI': 3, 'V': 2, 'VII': 1})\n"
     ]
    }
   ],
   "source": [
    "from collections import Counter \n",
    "classes = ( ('V', 1), ('VI', 1), ('V', 2), ('VI', 2), ('VI', 3), ('VII', 1),) \n",
    "students = Counter(class_name for class_name, no_students in classes) \n",
    "print(students)"
   ]
  },
  {
   "cell_type": "markdown",
   "metadata": {},
   "source": [
    "Q39. Write the Python program to create an instance of an OrderedDict\n",
    "     using the given dictionary and sort dictionary during the\n",
    "     creation and print members of the dictionary in reverse order"
   ]
  },
  {
   "cell_type": "code",
   "execution_count": 40,
   "metadata": {},
   "outputs": [
    {
     "name": "stdout",
     "output_type": "stream",
     "text": [
      "Afghanistan 93\n",
      "Albania 355\n",
      "Algeria 213\n",
      "Andorra 376\n",
      "Angola 244\n",
      "\n",
      "In reverse order:\n",
      "Angola 244\n",
      "Andorra 376\n",
      "Algeria 213\n",
      "Albania 355\n",
      "Afghanistan 93\n"
     ]
    }
   ],
   "source": [
    "from collections import OrderedDict\n",
    "dict= {'Afghanistan': 93, 'Albania': 355, 'Algeria': 213, 'Andorra': 376, 'Angola': 244}\n",
    "new_dict = OrderedDict(dict.items())\n",
    "for key in new_dict:\n",
    "    print (key, new_dict[key])\n",
    "print(\"\\nIn reverse order:\")\n",
    "for key in reversed(new_dict):\n",
    "    print (key, new_dict[key])\n"
   ]
  },
  {
   "cell_type": "markdown",
   "metadata": {},
   "source": [
    "Q40. Write the Python program to compare two unordered lists (not sets)"
   ]
  },
  {
   "cell_type": "code",
   "execution_count": 41,
   "metadata": {},
   "outputs": [
    {
     "name": "stdout",
     "output_type": "stream",
     "text": [
      "False\n"
     ]
    }
   ],
   "source": [
    "from collections import Counter \n",
    "def compare_lists(x, y): \n",
    "    return Counter(x) == Counter(y) \n",
    "n1 = [20, 10, 30, 10, 20, 30] \n",
    "n2 = [30, 20, 10, 30, 20, 50] \n",
    "print(compare_lists(n1, n2))"
   ]
  },
  {
   "cell_type": "markdown",
   "metadata": {},
   "source": [
    "Q41. Write the Python program to get an array buffer information"
   ]
  },
  {
   "cell_type": "code",
   "execution_count": 42,
   "metadata": {},
   "outputs": [
    {
     "name": "stdout",
     "output_type": "stream",
     "text": [
      "Array buffer start address in memory and number of elements.\n",
      "(1947340371056, 2)\n"
     ]
    }
   ],
   "source": [
    "from array import array \n",
    "a = array(\"I\", (12,25)) \n",
    "print(\"Array buffer start address in memory and number of elements.\") \n",
    "print(a.buffer_info())"
   ]
  },
  {
   "cell_type": "markdown",
   "metadata": {},
   "source": [
    "Q42. Write the Python program to convert an array to an array of machine values and return the bytes representation"
   ]
  },
  {
   "cell_type": "code",
   "execution_count": 43,
   "metadata": {},
   "outputs": [
    {
     "name": "stdout",
     "output_type": "stream",
     "text": [
      "Original array:\n",
      "A1: array('i', [1, 2, 3, 4, 5, 6])\n",
      "Array of bytes: b'010000000200000003000000040000000500000006000000'\n"
     ]
    }
   ],
   "source": [
    "import array \n",
    "import binascii \n",
    "a = array.array('i', [1,2,3,4,5,6]) \n",
    "print(\"Original array:\") \n",
    "print('A1:', a) \n",
    "bytes_array = a.tobytes() \n",
    "print('Array of bytes:', binascii.hexlify(bytes_array))"
   ]
  },
  {
   "cell_type": "markdown",
   "metadata": {},
   "source": [
    "Q43. Write the Python program to read a string and interpreting the string as an array of machine values"
   ]
  },
  {
   "cell_type": "code",
   "execution_count": 44,
   "metadata": {},
   "outputs": [
    {
     "name": "stdout",
     "output_type": "stream",
     "text": [
      "array1: array('i', [7, 8, 9, 10])\n",
      "Bytes: b'0700000008000000090000000a000000'\n",
      "array2: array('i', [7, 8, 9, 10])\n"
     ]
    }
   ],
   "source": [
    "from array import array \n",
    "import binascii \n",
    "array1 = array('i', [7, 8, 9, 10]) \n",
    "print('array1:', array1) \n",
    "as_bytes = array1.tobytes() \n",
    "print('Bytes:', binascii.hexlify(as_bytes)) \n",
    "array2 = array('i') \n",
    "array2.frombytes(as_bytes) \n",
    "print('array2:', array2)"
   ]
  },
  {
   "cell_type": "markdown",
   "metadata": {},
   "source": [
    "Q44. Write the Python program to push three items into the heap and return the smallest item from the heap. Also, return and pop the smallest item      from the heap"
   ]
  },
  {
   "cell_type": "code",
   "execution_count": 45,
   "metadata": {},
   "outputs": [
    {
     "name": "stdout",
     "output_type": "stream",
     "text": [
      "Items in the heap:\n",
      "('V', 1)\n",
      "('V', 3)\n",
      "('V', 2)\n",
      "----------------------\n",
      "The smallest item in the heap:\n",
      "('V', 1)\n",
      "----------------------\n",
      "Pop the smallest item in the heap:\n",
      "('V', 2)\n",
      "('V', 3)\n"
     ]
    }
   ],
   "source": [
    "import heapq \n",
    "heap = [] \n",
    "heapq.heappush(heap, ('V', 3)) \n",
    "heapq.heappush(heap, ('V', 2)) \n",
    "heapq.heappush(heap, ('V', 1))\n",
    "print(\"Items in the heap:\") \n",
    "for a in heap: \n",
    "    print(a)\n",
    "print(\"----------------------\")\n",
    "print(\"The smallest item in the heap:\") \n",
    "print(heap[0])\n",
    "print(\"----------------------\")\n",
    "print(\"Pop the smallest item in the heap:\") \n",
    "heapq.heappop(heap) \n",
    "for a in heap: \n",
    "    print(a)"
   ]
  },
  {
   "cell_type": "markdown",
   "metadata": {},
   "source": [
    "Q45. Write the Python program to locate the left insertion point for a specified value in sorted order"
   ]
  },
  {
   "cell_type": "code",
   "execution_count": 46,
   "metadata": {},
   "outputs": [
    {
     "name": "stdout",
     "output_type": "stream",
     "text": [
      "4\n",
      "2\n"
     ]
    }
   ],
   "source": [
    "import bisect \n",
    "def index(a, x): \n",
    "    i = bisect.bisect_left(a, x) \n",
    "    return i \n",
    "a = [1,2,4,5]\n",
    "print(index(a, 6)) \n",
    "print(index(a, 3))"
   ]
  },
  {
   "cell_type": "markdown",
   "metadata": {},
   "source": [
    "Q46. Write the Python program to create the FIFO queue"
   ]
  },
  {
   "cell_type": "code",
   "execution_count": 47,
   "metadata": {},
   "outputs": [
    {
     "name": "stdout",
     "output_type": "stream",
     "text": [
      "0 \n",
      "\n",
      "1 \n",
      "\n",
      "2 \n",
      "\n",
      "3 \n",
      "\n"
     ]
    }
   ],
   "source": [
    "import queue \n",
    "q = queue.Queue() #insert items at the end of the queue \n",
    "for x in range(4): \n",
    "    q.put(str(x)) #remove items from the head of the queue \n",
    "    while not q.empty(): \n",
    "        print(q.get(), end=\" \") \n",
    "    print(\"\\n\")"
   ]
  },
  {
   "cell_type": "markdown",
   "metadata": {},
   "source": [
    "Q47. Write the Python program to calculate the harmonic sum of n-1. \n",
    "     Note: The harmonic sum is the sum of reciprocals of the positive Integers"
   ]
  },
  {
   "cell_type": "code",
   "execution_count": 48,
   "metadata": {},
   "outputs": [
    {
     "name": "stdout",
     "output_type": "stream",
     "text": [
      "2.5928571428571425\n",
      "2.083333333333333\n"
     ]
    }
   ],
   "source": [
    "def harmonic_sum(n): \n",
    "    if n < 2: \n",
    "        return 1 \n",
    "    else: \n",
    "        return 1 / n + (harmonic_sum(n - 1)) \n",
    "print(harmonic_sum(7)) \n",
    "print(harmonic_sum(4))"
   ]
  },
  {
   "cell_type": "code",
   "execution_count": null,
   "metadata": {},
   "outputs": [],
   "source": []
  },
  {
   "cell_type": "markdown",
   "metadata": {},
   "source": [
    "Q48. Write the NumPy program to create a 2d array with 6 on the border\n",
    "     and 0 inside."
   ]
  },
  {
   "cell_type": "code",
   "execution_count": 50,
   "metadata": {},
   "outputs": [
    {
     "data": {
      "text/plain": [
       "array([[6, 6, 6, 6, 6],\n",
       "       [6, 0, 0, 0, 6],\n",
       "       [6, 0, 0, 0, 6],\n",
       "       [6, 0, 0, 0, 6],\n",
       "       [6, 6, 6, 6, 6]])"
      ]
     },
     "execution_count": 50,
     "metadata": {},
     "output_type": "execute_result"
    }
   ],
   "source": [
    "import numpy as np\n",
    "arr=np.ones((5,5), dtype=int)\n",
    "arr1 = arr*6\n",
    "arr1[1:4,1:4]=0\n",
    "arr1"
   ]
  },
  {
   "cell_type": "markdown",
   "metadata": {},
   "source": [
    "Q49. Write the NumPy program to create a 8x8 matrix and fill it with the\n",
    "     checkerboard pattern"
   ]
  },
  {
   "cell_type": "code",
   "execution_count": 51,
   "metadata": {},
   "outputs": [
    {
     "name": "stdout",
     "output_type": "stream",
     "text": [
      "Checkerboard pattern:\n",
      "[[0 1 0 1 0 1 0 1]\n",
      " [1 0 1 0 1 0 1 0]\n",
      " [0 1 0 1 0 1 0 1]\n",
      " [1 0 1 0 1 0 1 0]\n",
      " [0 1 0 1 0 1 0 1]\n",
      " [1 0 1 0 1 0 1 0]\n",
      " [0 1 0 1 0 1 0 1]\n",
      " [1 0 1 0 1 0 1 0]]\n"
     ]
    }
   ],
   "source": [
    "import numpy as np \n",
    "print(\"Checkerboard pattern:\") \n",
    "x = np.zeros((8,8),dtype=int) \n",
    "x[1::2,::2] = 1 \n",
    "x[::2,1::2] = 1 \n",
    "print(x)"
   ]
  },
  {
   "cell_type": "markdown",
   "metadata": {},
   "source": [
    "Q50. Write the NumPy program to create an empty and a full array"
   ]
  },
  {
   "cell_type": "code",
   "execution_count": 52,
   "metadata": {},
   "outputs": [
    {
     "name": "stdout",
     "output_type": "stream",
     "text": [
      "[[9.62116892e-312 3.16202013e-322 0.00000000e+000 0.00000000e+000]\n",
      " [1.37961302e-306 2.34352963e-056 9.50745420e+169 1.72337679e+184]\n",
      " [1.10796457e-047 4.91511067e-062 2.78871058e+179 1.21497553e-046]]\n",
      "[[6 6 6]\n",
      " [6 6 6]\n",
      " [6 6 6]]\n"
     ]
    }
   ],
   "source": [
    "import numpy as np\n",
    "x=np.empty((3,4))\n",
    "print(x)\n",
    "y=np.full((3,3),6)\n",
    "print(y)\n"
   ]
  },
  {
   "cell_type": "markdown",
   "metadata": {},
   "source": [
    "Q51. Write the NumPy program to convert the values of Centigrade\n",
    "     degrees into the Fahrenheit degrees and the centigrade values are\n",
    "     stored in the NumPy array."
   ]
  },
  {
   "cell_type": "code",
   "execution_count": 53,
   "metadata": {},
   "outputs": [
    {
     "name": "stdout",
     "output_type": "stream",
     "text": [
      "Temp in farenheit is: [ 0.   12.   45.21 34.   99.91]\n",
      "Temp in centigrade is: [-17.77777778 -11.11111111   7.33888889   1.11111111  37.72777778]\n"
     ]
    }
   ],
   "source": [
    "import numpy as np\n",
    "f=[0,12,45.21,34,99.91]\n",
    "far=np.array((f),dtype=float)\n",
    "print(\"Temp in farenheit is:\", far)\n",
    "cent=(5*far/9 - 5*32/9)\n",
    "print(\"Temp in centigrade is:\",cent)\n"
   ]
  },
  {
   "cell_type": "markdown",
   "metadata": {},
   "source": [
    "Q52. Write the NumPy program to find the real and imaginary parts of an\n",
    "     array of complex numbers"
   ]
  },
  {
   "cell_type": "code",
   "execution_count": 54,
   "metadata": {},
   "outputs": [
    {
     "name": "stdout",
     "output_type": "stream",
     "text": [
      "Original array is [1.+0.j]\n",
      "Original array is: [0.70710678+0.70710678j]\n",
      "Real part of the array\n",
      "[1.]\n",
      "[0.70710678]\n",
      "Imaginary part of the array\n",
      "[0.]\n",
      "[0.70710678]\n"
     ]
    }
   ],
   "source": [
    "import numpy as np\n",
    "x= np.sqrt([1+0j])\n",
    "y=np.sqrt([0+1j])\n",
    "print(\"Original array is\",x)\n",
    "print(\"Original array is:\",y)\n",
    "print(\"Real part of the array\")\n",
    "print(x.real)\n",
    "print(y.real)\n",
    "print(\"Imaginary part of the array\")\n",
    "print(x.imag)\n",
    "print(y.imag)\n"
   ]
  },
  {
   "cell_type": "markdown",
   "metadata": {},
   "source": [
    "Q53. Write the NumPy program to test whether each element of a 1-D\n",
    "     array is also present in the second array"
   ]
  },
  {
   "cell_type": "code",
   "execution_count": 55,
   "metadata": {},
   "outputs": [
    {
     "name": "stdout",
     "output_type": "stream",
     "text": [
      "Array1 is: [ 0 10 20 40 60]\n",
      "Array2 is: [ 0 40]\n",
      "Comparing 2 arrays\n",
      "[ True False False  True False]\n"
     ]
    }
   ],
   "source": [
    "import numpy as np\n",
    "arr1=np.array([0,10,20,40,60])\n",
    "print(\"Array1 is:\",arr1)\n",
    "arr2=np.array([0,40])\n",
    "print(\"Array2 is:\",arr2)\n",
    "print(\"Comparing 2 arrays\")\n",
    "print(np.in1d(arr1,arr2))\n"
   ]
  },
  {
   "cell_type": "markdown",
   "metadata": {},
   "source": [
    "Q54. Write the NumPy program to find common values between two arrays."
   ]
  },
  {
   "cell_type": "code",
   "execution_count": 56,
   "metadata": {},
   "outputs": [
    {
     "name": "stdout",
     "output_type": "stream",
     "text": [
      "Array1 is: [ 0 10 20 40 60]\n",
      "Array2 is: [ 0 40]\n",
      "Common values in 2 arrays is: [ 0 40]\n"
     ]
    }
   ],
   "source": [
    "import numpy as np\n",
    "arr1=np.array([0,10,20,40,60])\n",
    "print(\"Array1 is:\",arr1)\n",
    "arr2=np.array([0,40])\n",
    "print(\"Array2 is:\",arr2)\n",
    "print(\"Common values in 2 arrays is:\", np.intersect1d(arr1,arr2))\n"
   ]
  },
  {
   "cell_type": "markdown",
   "metadata": {},
   "source": [
    "Q55. Write the NumPy program to get the unique elements of an array."
   ]
  },
  {
   "cell_type": "code",
   "execution_count": 57,
   "metadata": {},
   "outputs": [
    {
     "name": "stdout",
     "output_type": "stream",
     "text": [
      "Array1 is: [10 10 20 20 30 30]\n",
      "Unique elements in the array are: [10 20 30]\n",
      "Array2 is: [[1 1]\n",
      " [2 3]]\n",
      "Unique elements in the array are: [1 2 3]\n"
     ]
    }
   ],
   "source": [
    "import numpy as np\n",
    "arr1=np.array([10,10,20,20,30, 30])\n",
    "arr2 = np.array([[1,1],[2,3]])\n",
    "print(\"Array1 is:\",arr1)\n",
    "print(\"Unique elements in the array are:\", np.unique(arr1))\n",
    "print(\"Array2 is:\", arr2)\n",
    "print(\"Unique elements in the array are:\", np.unique(arr2))\n"
   ]
  },
  {
   "cell_type": "markdown",
   "metadata": {},
   "source": [
    "Q56. Write the NumPy program to find the set exclusive-or of two arrays.\n",
    "     Set exclusive-or will return the sorted, unique values that are in\n",
    "     only one (not both) of the input arrays."
   ]
  },
  {
   "cell_type": "code",
   "execution_count": 58,
   "metadata": {},
   "outputs": [
    {
     "name": "stdout",
     "output_type": "stream",
     "text": [
      "Array1 is: [ 0 10 20 40 60 80]\n",
      "Array2 is: [10 30 40 50 70]\n",
      "Set exclusive values from 2 arrays are: [ 0 20 30 50 60 70 80]\n"
     ]
    }
   ],
   "source": [
    "import numpy as np\n",
    "arr1=np.array([0,10,20,40,60,80])\n",
    "print(\"Array1 is:\",arr1)\n",
    "arr2=np.array([10,30,40,50,70])\n",
    "print(\"Array2 is:\",arr2)\n",
    "print(\"Set exclusive values from 2 arrays are:\", np.setxor1d(arr1,arr2))\n"
   ]
  },
  {
   "cell_type": "markdown",
   "metadata": {},
   "source": [
    "Q57. Write the NumPy program to test if all elements in an array\n",
    "     evaluate to True."
   ]
  },
  {
   "cell_type": "code",
   "execution_count": 59,
   "metadata": {},
   "outputs": [
    {
     "name": "stdout",
     "output_type": "stream",
     "text": [
      "False\n",
      "True\n",
      "False\n",
      "True\n"
     ]
    }
   ],
   "source": [
    "import numpy as np \n",
    "print(np.all([[True,False],[True,True]])) \n",
    "print(np.all([[True,True],[True,True]])) \n",
    "print(np.all([10, 20, 0, -50])) \n",
    "print(np.all([10, 20, -50]))"
   ]
  },
  {
   "cell_type": "markdown",
   "metadata": {},
   "source": [
    "Q58 Write the NumPy program to test whether any array element along\n",
    "    the given axis evaluates to True."
   ]
  },
  {
   "cell_type": "code",
   "execution_count": 60,
   "metadata": {},
   "outputs": [
    {
     "name": "stdout",
     "output_type": "stream",
     "text": [
      "False\n",
      "True\n",
      "True\n",
      "True\n"
     ]
    }
   ],
   "source": [
    "import numpy as np \n",
    "print(np.any([[False,False],[False,False]])) \n",
    "print(np.any([[True,True],[True,True]])) \n",
    "print(np.any([10, 20, 0, -50])) \n",
    "print(np.any([10, 20, -50]))\n"
   ]
  },
  {
   "cell_type": "markdown",
   "metadata": {},
   "source": [
    "Q59. Write the NumPy program to construct an array by repeating."
   ]
  },
  {
   "cell_type": "code",
   "execution_count": 61,
   "metadata": {},
   "outputs": [
    {
     "name": "stdout",
     "output_type": "stream",
     "text": [
      "Array is: [1 2 3 4]\n",
      "Repeating the array 2 time: [1 2 3 4 1 2 3 4]\n",
      "Repeating the array 3 time: [1 2 3 4 1 2 3 4 1 2 3 4]\n"
     ]
    }
   ],
   "source": [
    "import numpy as np\n",
    "arr1=np.array([1,2,3,4])\n",
    "print(\"Array is:\", arr1)\n",
    "print(\"Repeating the array 2 time:\", np.tile(arr1,2))\n",
    "print(\"Repeating the array 3 time:\", np.tile(arr1,3))\n"
   ]
  },
  {
   "cell_type": "markdown",
   "metadata": {},
   "source": [
    "Q60. Write the NumPy program to find the indices of the maximum and\n",
    "     minimum values with the given axis of an array."
   ]
  },
  {
   "cell_type": "code",
   "execution_count": 62,
   "metadata": {},
   "outputs": [
    {
     "name": "stdout",
     "output_type": "stream",
     "text": [
      "Array is: [1 2 3 4 5 6]\n",
      "Maximum index value is: 5\n",
      "Minimum index value is: 0\n"
     ]
    }
   ],
   "source": [
    "import numpy as np\n",
    "arr1=np.array([1,2,3,4,5,6])\n",
    "print(\"Array is:\", arr1)\n",
    "print(\"Maximum index value is:\",np.argmax(arr1))\n",
    "print(\"Minimum index value is:\",np.argmin(arr1))\n"
   ]
  },
  {
   "cell_type": "markdown",
   "metadata": {},
   "source": [
    "Q61. Write the NumPy program compare two arrays using numpy"
   ]
  },
  {
   "cell_type": "code",
   "execution_count": 63,
   "metadata": {},
   "outputs": [
    {
     "name": "stdout",
     "output_type": "stream",
     "text": [
      "Array a: [1 2]\n",
      "Array b: [4 5]\n",
      "a>b\n",
      "[False False]\n",
      "a>=b\n",
      "[False False]\n",
      "a<b\n",
      "[ True  True]\n",
      "a<=b\n",
      "[ True  True]\n"
     ]
    }
   ],
   "source": [
    "import numpy as np\n",
    "a=np.array([1,2])\n",
    "b=np.array([4,5])\n",
    "print(\"Array a:\", a)\n",
    "print(\"Array b:\", b)\n",
    "print(\"a>b\")\n",
    "print(np.greater(a,b))\n",
    "print(\"a>=b\")\n",
    "print(np.greater_equal(a,b))\n",
    "print(\"a<b\")\n",
    "print(np.less(a,b))\n",
    "print(\"a<=b\")\n",
    "print(np.less_equal(a,b))\n"
   ]
  },
  {
   "cell_type": "markdown",
   "metadata": {},
   "source": [
    "Q62. Write the NumPy program to sort an along the first, last axis of an array"
   ]
  },
  {
   "cell_type": "code",
   "execution_count": 64,
   "metadata": {},
   "outputs": [
    {
     "name": "stdout",
     "output_type": "stream",
     "text": [
      "Original array:\n",
      "[[4 6]\n",
      " [2 1]]\n",
      "Sort along 1st axis\n",
      "[[2 1]\n",
      " [4 6]]\n",
      "Sort along last axis\n",
      "[[1 2]\n",
      " [4 6]]\n"
     ]
    }
   ],
   "source": [
    "import numpy as np\n",
    "a=np.array([[4,6],[2,1]])\n",
    "print(\"Original array:\")\n",
    "print(a)\n",
    "print(\"Sort along 1st axis\")\n",
    "x=np.sort(a, axis=0)\n",
    "print(x)\n",
    "print(\"Sort along last axis\")\n",
    "y=np.sort(x, axis=1)\n",
    "print(y)\n"
   ]
  },
  {
   "cell_type": "markdown",
   "metadata": {},
   "source": [
    "Q63. Write the NumPy program to sort pairs of first name and last name\n",
    "     return their indices (first by last name, then by first name)."
   ]
  },
  {
   "cell_type": "code",
   "execution_count": 65,
   "metadata": {},
   "outputs": [
    {
     "name": "stdout",
     "output_type": "stream",
     "text": [
      "[1 3 2 4 0]\n"
     ]
    }
   ],
   "source": [
    "import numpy as np \n",
    "first_names = ('Margery', 'Betsey', 'Shelley', 'Lanell', 'Genesis') \n",
    "last_names = ('Woolum', 'Battle', 'Plotner', 'Brien', 'Stahl')\n",
    "x = np.lexsort((first_names, last_names))\n",
    "print(x)\n"
   ]
  },
  {
   "cell_type": "markdown",
   "metadata": {},
   "source": [
    "Q64. Write the NumPy program to get the values and indices of the\n",
    "     elements that are bigger than 10 in the given array."
   ]
  },
  {
   "cell_type": "code",
   "execution_count": 66,
   "metadata": {},
   "outputs": [
    {
     "name": "stdout",
     "output_type": "stream",
     "text": [
      "Original array: \n",
      "[[ 0 10 20]\n",
      " [20 30 40]]\n",
      "Values bigger than 10 = [20 20 30 40]\n",
      "Their indices are  (array([0, 1, 1, 1], dtype=int64), array([2, 0, 1, 2], dtype=int64))\n"
     ]
    }
   ],
   "source": [
    "import numpy as np \n",
    "x = np.array([[0, 10, 20], [20, 30, 40]])\n",
    "print(\"Original array: \") \n",
    "print(x) \n",
    "print(\"Values bigger than 10 =\", x[x>10]) \n",
    "print(\"Their indices are \", np.nonzero(x > 10))\n"
   ]
  },
  {
   "cell_type": "markdown",
   "metadata": {},
   "source": [
    "Q65. Write the NumPy program to find the memory size of a NumPy array"
   ]
  },
  {
   "cell_type": "code",
   "execution_count": 67,
   "metadata": {},
   "outputs": [
    {
     "name": "stdout",
     "output_type": "stream",
     "text": [
      "128 bytes\n"
     ]
    }
   ],
   "source": [
    "import numpy as np \n",
    "n = np.zeros((4,4)) \n",
    "print(\"%d bytes\" % (n.size * n.itemsize))\n"
   ]
  },
  {
   "cell_type": "markdown",
   "metadata": {},
   "source": [
    "Q66. Write the NumPy program to create an array of ones and an array of zeros."
   ]
  },
  {
   "cell_type": "code",
   "execution_count": 68,
   "metadata": {},
   "outputs": [
    {
     "name": "stdout",
     "output_type": "stream",
     "text": [
      "Array of zeros\n",
      "Default type is float\n",
      "[[0. 0.]]\n",
      "Type changes to int\n",
      "[[0 0]]\n",
      "\n",
      "\n",
      "Array of ones\n",
      "Default type is float\n",
      "[[1. 1.]]\n",
      "Type changes to int\n",
      "[[1 1]]\n"
     ]
    }
   ],
   "source": [
    "import numpy as np\n",
    "print(\"Array of zeros\")\n",
    "x=np.zeros((1,2))\n",
    "print(\"Default type is float\")\n",
    "print(x)\n",
    "print(\"Type changes to int\")\n",
    "x=np.zeros((1,2), dtype=np.int)\n",
    "print(x)\n",
    "print('\\n')\n",
    "print(\"Array of ones\")\n",
    "y=np.ones((1,2))\n",
    "print(\"Default type is float\")\n",
    "print(y)\n",
    "print(\"Type changes to int\")\n",
    "y=np.ones((1,2), dtype=np.int)\n",
    "print(y)\n"
   ]
  },
  {
   "cell_type": "markdown",
   "metadata": {},
   "source": [
    "Q67. Write the NumPy program to change the dimension of an array"
   ]
  },
  {
   "cell_type": "code",
   "execution_count": 69,
   "metadata": {},
   "outputs": [
    {
     "name": "stdout",
     "output_type": "stream",
     "text": [
      "6 rows and 0 columns\n",
      "(6,)\n",
      "(3, 3) -> 3 rows and 3 columns \n",
      "[[1 2 3]\n",
      " [4 5 6]\n",
      " [7 8 9]]\n",
      "Change array shape to (3, 3) -> 3 rows and 3 columns \n",
      "[[1 2 3]\n",
      " [4 5 6]\n",
      " [7 8 9]]\n"
     ]
    }
   ],
   "source": [
    "import numpy as np \n",
    "x = np.array([1, 2, 3, 4, 5, 6])\n",
    "print(\"6 rows and 0 columns\")\n",
    "print(x.shape)\n",
    "y = np.array([[1, 2, 3],[4, 5, 6],[7,8,9]])\n",
    "print(\"(3, 3) -> 3 rows and 3 columns \")\n",
    "print(y)\n",
    "x = np.array([1,2,3,4,5,6,7,8,9])\n",
    "print(\"Change array shape to (3, 3) -> 3 rows and 3 columns \")\n",
    "x.shape = (3, 3)\n",
    "print(x)"
   ]
  },
  {
   "cell_type": "markdown",
   "metadata": {},
   "source": [
    "Q68. Write the NumPy program to create a new shape to an array\n",
    "     without changing its data"
   ]
  },
  {
   "cell_type": "code",
   "execution_count": 70,
   "metadata": {},
   "outputs": [
    {
     "name": "stdout",
     "output_type": "stream",
     "text": [
      "Reshape 3x2:\n",
      "[[1 2]\n",
      " [3 4]\n",
      " [5 6]]\n",
      "Reshape 2x3:\n",
      "[[1 2 3]\n",
      " [4 5 6]]\n"
     ]
    }
   ],
   "source": [
    "import numpy as np \n",
    "x = np.array([1, 2, 3, 4, 5, 6]) \n",
    "y = np.reshape(x,(3,2))\n",
    "print(\"Reshape 3x2:\") \n",
    "print(y) \n",
    "z = np.reshape(x,(2,3))\n",
    "print(\"Reshape 2x3:\") \n",
    "print(z)\n"
   ]
  },
  {
   "cell_type": "markdown",
   "metadata": {},
   "source": [
    "Q69. Write the NumPy program to create a new array of 3*5, filled with 2"
   ]
  },
  {
   "cell_type": "code",
   "execution_count": 71,
   "metadata": {},
   "outputs": [
    {
     "name": "stdout",
     "output_type": "stream",
     "text": [
      "[[2 2 2 2 2]\n",
      " [2 2 2 2 2]\n",
      " [2 2 2 2 2]\n",
      " [2 2 2 2 2]\n",
      " [2 2 2 2 2]\n",
      " [2 2 2 2 2]]\n"
     ]
    }
   ],
   "source": [
    "import numpy as np \n",
    "arr=np.full((6,5),2, dtype=np.uint)\n",
    "print(arr)\n"
   ]
  },
  {
   "cell_type": "markdown",
   "metadata": {},
   "source": [
    "Q70. Write the NumPy program to create a 3-D array with ones on a\n",
    "     diagonal and zeros elsewhere"
   ]
  },
  {
   "cell_type": "code",
   "execution_count": 72,
   "metadata": {},
   "outputs": [
    {
     "name": "stdout",
     "output_type": "stream",
     "text": [
      "[[1. 0. 0.]\n",
      " [0. 1. 0.]\n",
      " [0. 0. 1.]]\n"
     ]
    }
   ],
   "source": [
    "import numpy as np \n",
    "x = np.eye(3) \n",
    "print(x)\n"
   ]
  },
  {
   "cell_type": "markdown",
   "metadata": {},
   "source": [
    "Q71. Write the NumPy program to split an array of 14 elements into the\n",
    "     3 arrays and each of which has 2, 4, and 8 elements in original\n",
    "     order"
   ]
  },
  {
   "cell_type": "code",
   "execution_count": 73,
   "metadata": {},
   "outputs": [
    {
     "data": {
      "text/plain": [
       "[array([1, 2]), array([3, 4, 5, 6]), array([ 7,  8,  9, 10, 11, 12, 13, 14])]"
      ]
     },
     "execution_count": 73,
     "metadata": {},
     "output_type": "execute_result"
    }
   ],
   "source": [
    "import numpy as np\n",
    "x=np.arange(1,15)\n",
    "np.split(x,[2,6]) \n"
   ]
  },
  {
   "cell_type": "markdown",
   "metadata": {},
   "source": [
    "Q72. Write the NumPy program to split of an array of shape 4x4 it into\n",
    "     two arrays along the second axis"
   ]
  },
  {
   "cell_type": "code",
   "execution_count": 74,
   "metadata": {},
   "outputs": [
    {
     "name": "stdout",
     "output_type": "stream",
     "text": [
      "Original array:\n",
      "[[ 0  1  2  3]\n",
      " [ 4  5  6  7]\n",
      " [ 8  9 10 11]\n",
      " [12 13 14 15]]\n",
      "After splitting horizontally:\n",
      "[array([[ 0,  1],\n",
      "       [ 4,  5],\n",
      "       [ 8,  9],\n",
      "       [12, 13]]), array([[ 2,  3],\n",
      "       [ 6,  7],\n",
      "       [10, 11],\n",
      "       [14, 15]]), array([], shape=(4, 0), dtype=int32)]\n"
     ]
    }
   ],
   "source": [
    "import numpy as np \n",
    "x = np.arange(16).reshape((4, 4)) \n",
    "print(\"Original array:\")\n",
    "print(x)\n",
    "print(\"After splitting horizontally:\") \n",
    "print(np.hsplit(x, [2, 6]))\n"
   ]
  },
  {
   "cell_type": "markdown",
   "metadata": {},
   "source": [
    "Q73. Write the NumPy program to create a 5x5 matrix with row values\n",
    "     ranging from 0 to 4"
   ]
  },
  {
   "cell_type": "code",
   "execution_count": 75,
   "metadata": {},
   "outputs": [
    {
     "name": "stdout",
     "output_type": "stream",
     "text": [
      "Original array is:\n",
      "[[0. 0. 0. 0. 0.]\n",
      " [0. 0. 0. 0. 0.]\n",
      " [0. 0. 0. 0. 0.]\n",
      " [0. 0. 0. 0. 0.]\n",
      " [0. 0. 0. 0. 0.]]\n",
      "Row values ranging from 0 to 4.\n",
      "[[0. 1. 2. 3. 4.]\n",
      " [0. 1. 2. 3. 4.]\n",
      " [0. 1. 2. 3. 4.]\n",
      " [0. 1. 2. 3. 4.]\n",
      " [0. 1. 2. 3. 4.]]\n"
     ]
    }
   ],
   "source": [
    "import numpy as np\n",
    "x=np.zeros((5,5))\n",
    "print(\"Original array is:\")\n",
    "print(x)\n",
    "print(\"Row values ranging from 0 to 4.\")\n",
    "x+=np.arange(5)\n",
    "print(x)\n"
   ]
  },
  {
   "cell_type": "markdown",
   "metadata": {},
   "source": [
    "Q74. Write the NumPy program to create an array of zeros and three\n",
    "     column types (integer, float, character)"
   ]
  },
  {
   "cell_type": "code",
   "execution_count": 76,
   "metadata": {},
   "outputs": [
    {
     "name": "stdout",
     "output_type": "stream",
     "text": [
      "[(1, 2., b'Albert Einstein') (2, 2., b'Edmond Halley')\n",
      " (3, 3., b'Gertrude B. Elion')]\n"
     ]
    }
   ],
   "source": [
    "import numpy as np \n",
    "x = np.zeros((3,), dtype=('i4,f4,a40')) \n",
    "new_data = [(1, 2., \"Albert Einstein\"), (2, 2., \"Edmond Halley\"), (3, 3., \"Gertrude B. Elion\")] \n",
    "x[:] = new_data \n",
    "print(x)\n"
   ]
  },
  {
   "cell_type": "markdown",
   "metadata": {},
   "source": [
    "Q75. Write the NumPy program to remove the negative values in the\n",
    "     numpy array with 0"
   ]
  },
  {
   "cell_type": "code",
   "execution_count": null,
   "metadata": {},
   "outputs": [],
   "source": [
    "import numpy as np\n",
    "x=np.array([-1,-4,0,2,3,4,5,-6])\n",
    "print(\"Original array is:\")\n",
    "print(x)\n",
    "x[x<0]=0\n",
    "print(\"Negative values replaced by 0\")\n",
    "print(x)\n"
   ]
  },
  {
   "cell_type": "markdown",
   "metadata": {},
   "source": [
    "Q76. Write the NumPy program to compute the histogram of a set of data"
   ]
  },
  {
   "cell_type": "code",
   "execution_count": 79,
   "metadata": {},
   "outputs": [
    {
     "data": {
      "image/png": "[encoded data removed]",
      "text/plain": [
       "<Figure size 432x288 with 1 Axes>"
      ]
     },
     "metadata": {
      "needs_background": "light"
     },
     "output_type": "display_data"
    }
   ],
   "source": [
    "import numpy as np \n",
    "import matplotlib.pyplot as plt\n",
    "plt.hist([1, 2, 1], bins=[0, 1, 2, 3, 5]) \n",
    "plt.show()"
   ]
  },
  {
   "cell_type": "markdown",
   "metadata": {},
   "source": [
    "Q77. Write the NumPy program to compute the line graph of a set of data"
   ]
  },
  {
   "cell_type": "code",
   "execution_count": 78,
   "metadata": {},
   "outputs": [
    {
     "name": "stderr",
     "output_type": "stream",
     "text": [
      "C:\\Users\\talk2\\Anaconda3\\lib\\site-packages\\ipykernel_launcher.py:7: UserWarning: Matplotlib is currently using module://ipykernel.pylab.backend_inline, which is a non-GUI backend, so cannot show the figure.\n",
      "  import sys\n"
     ]
    },
    {
     "data": {
      "image/png": "[encoded data removed]",
      "text/plain": [
       "<Figure size 432x288 with 1 Axes>"
      ]
     },
     "metadata": {
      "needs_background": "light"
     },
     "output_type": "display_data"
    }
   ],
   "source": [
    "import numpy as np \n",
    "import matplotlib.pyplot as plt \n",
    "arr = np.random.randint(1, 50, 10) \n",
    "y, x = np.histogram(arr, bins=np.arange(51)) \n",
    "fig, ax = plt.subplots() \n",
    "ax.plot(x[:-1], y) \n",
    "fig.show()"
   ]
  },
  {
   "cell_type": "markdown",
   "metadata": {},
   "source": [
    "Q78. Write the NumPy program to extracts all the elements from second\n",
    "     row from given (4x4) array"
   ]
  },
  {
   "cell_type": "code",
   "execution_count": 80,
   "metadata": {},
   "outputs": [
    {
     "name": "stdout",
     "output_type": "stream",
     "text": [
      "Original array:\n",
      "[[ 0  1  2  3]\n",
      " [ 4  5  6  7]\n",
      " [ 8  9 10 11]\n",
      " [12 13 14 15]]\n",
      "\n",
      "Extracted data: Second row\n",
      "[4 5 6 7]\n"
     ]
    }
   ],
   "source": [
    "import numpy as np \n",
    "arra_data = np.arange(0,16).reshape((4, 4))\n",
    "print(\"Original array:\") \n",
    "print(arra_data)\n",
    "print(\"\\nExtracted data: Second row\") \n",
    "print(arra_data[1,:])"
   ]
  },
  {
   "cell_type": "markdown",
   "metadata": {},
   "source": [
    "Q79. Write the NumPy program to extract first element of the second\n",
    "     row and fourth element of fourth row from a given (4x4) array"
   ]
  },
  {
   "cell_type": "code",
   "execution_count": 81,
   "metadata": {},
   "outputs": [
    {
     "name": "stdout",
     "output_type": "stream",
     "text": [
      "Original array:\n",
      "[[ 0  1  2  3]\n",
      " [ 4  5  6  7]\n",
      " [ 8  9 10 11]\n",
      " [12 13 14 15]]\n",
      "\n",
      "Extracted data: First element of second row and Fourth element of fourth row\n",
      "[ 4 15]\n"
     ]
    }
   ],
   "source": [
    "import numpy as np \n",
    "arra_data = np.arange(0,16).reshape((4, 4))\n",
    "print(\"Original array:\") \n",
    "print(arra_data)\n",
    "print(\"\\nExtracted data: First element of second row and Fourth element of fourth row\") \n",
    "print(arra_data[[1,3],[0,3]])\n"
   ]
  },
  {
   "cell_type": "markdown",
   "metadata": {},
   "source": [
    "Q80. Write the NumPy program to add two arrays A and B of sizes (3,3)\n",
    "     and (,3)"
   ]
  },
  {
   "cell_type": "code",
   "execution_count": 82,
   "metadata": {},
   "outputs": [
    {
     "name": "stdout",
     "output_type": "stream",
     "text": [
      "Original array:\n",
      "Array1\n",
      "[[1 1 1]\n",
      " [1 1 1]\n",
      " [1 1 1]]\n",
      "Array2\n",
      "[0 1 2]\n",
      "Sum of Array1 and Array2 is:\n",
      "[[1 2 3]\n",
      " [1 2 3]\n",
      " [1 2 3]]\n"
     ]
    }
   ],
   "source": [
    "import numpy as np\n",
    "arr1 = np.ones((3,3), dtype=int)\n",
    "arr2 = np.arange(3)\n",
    "print(\"Original array:\")\n",
    "print(\"Array1\")\n",
    "print(arr1)\n",
    "print(\"Array2\")\n",
    "print(arr2)\n",
    "print(\"Sum of Array1 and Array2 is:\")\n",
    "print(arr1+arr2)\n"
   ]
  },
  {
   "cell_type": "markdown",
   "metadata": {},
   "source": [
    "Q81. Write the NumPy program to copy data from a given array to\n",
    "     another array"
   ]
  },
  {
   "cell_type": "code",
   "execution_count": 83,
   "metadata": {},
   "outputs": [
    {
     "name": "stdout",
     "output_type": "stream",
     "text": [
      "Original array is:\n",
      "[24 27 30 29 18 14]\n",
      "Copied array is:\n",
      "[24 27 30 29 18 14]\n"
     ]
    }
   ],
   "source": [
    "import numpy as np\n",
    "arr=np.array([24, 27, 30, 29, 18, 14])\n",
    "print(\"Original array is:\")\n",
    "print(arr)\n",
    "arr1=np.copy(arr)\n",
    "print(\"Copied array is:\")\n",
    "print(arr1)\n"
   ]
  },
  {
   "cell_type": "markdown",
   "metadata": {},
   "source": [
    "Q82. Write the NumPy program to calculate the sum of all columns of\n",
    "     the 2D numpy array"
   ]
  },
  {
   "cell_type": "code",
   "execution_count": 84,
   "metadata": {},
   "outputs": [
    {
     "name": "stdout",
     "output_type": "stream",
     "text": [
      "Original array is:\n",
      "[[ 0  1  2  3  4  5  6  7  8]\n",
      " [ 9 10 11 12 13 14 15 16 17]\n",
      " [18 19 20 21 22 23 24 25 26]\n",
      " [27 28 29 30 31 32 33 34 35]]\n",
      "Sum of all columns is:\n",
      "[54 58 62 66 70 74 78 82 86]\n"
     ]
    }
   ],
   "source": [
    "import numpy as np\n",
    "arr=np.arange(36).reshape((4,9))\n",
    "print(\"Original array is:\")\n",
    "print(arr)\n",
    "print(\"Sum of all columns is:\")\n",
    "print(arr.sum(axis=0))\n"
   ]
  },
  {
   "cell_type": "markdown",
   "metadata": {},
   "source": [
    "Q83. Write the NumPy program to calculate averages without NaNs\n",
    "     along the given array"
   ]
  },
  {
   "cell_type": "code",
   "execution_count": 85,
   "metadata": {},
   "outputs": [
    {
     "name": "stdout",
     "output_type": "stream",
     "text": [
      "Original array is:\n",
      "[[10. 20. 30.]\n",
      " [40. 50. nan]\n",
      " [nan  6. nan]\n",
      " [nan nan nan]]\n",
      "Averages without NaNs along the said array:\n",
      "[20. 45.  6. nan]\n"
     ]
    }
   ],
   "source": [
    "import numpy as np\n",
    "arr=np.array([[10,20,30],[40,50,np.nan],[np.nan,6,np.nan],[np.nan,np.nan,np.nan]], dtype=float)\n",
    "print(\"Original array is:\")\n",
    "print(arr)\n",
    "avgarr = np.ma.masked_array(arr,np.isnan(arr))\n",
    "result=np.mean(avgarr,axis=1)\n",
    "print(\"Averages without NaNs along the said array:\")\n",
    "print(result.filled(np.nan))\n"
   ]
  },
  {
   "cell_type": "markdown",
   "metadata": {},
   "source": [
    "Q84. Create two arrays of six elements. Write the NumPy program to\n",
    "     count the number of instances of a value occurring in one array on\n",
    "     the condition of another array"
   ]
  },
  {
   "cell_type": "code",
   "execution_count": 86,
   "metadata": {},
   "outputs": [
    {
     "name": "stdout",
     "output_type": "stream",
     "text": [
      "Original arrays\n",
      "[ 10 -10  10 -10 -10  10]\n",
      "[0.85 0.45 0.9  0.8  0.12 0.6 ]\n",
      "\n",
      "Number of instances of a value occurring in one aray on the condition of another array:\n",
      "3\n"
     ]
    }
   ],
   "source": [
    "import numpy as np\n",
    "arr1=np.array([10,-10,10,-10,-10,10])\n",
    "arr2=np.array([0.85,0.45,0.9,0.8,0.12,0.6])\n",
    "print(\"Original arrays\")\n",
    "print(arr1)\n",
    "print(arr2)\n",
    "result=np.sum((arr1==10)&(arr2>0.5))\n",
    "print(\"\\nNumber of instances of a value occurring in one aray on the condition of another array:\")\n",
    "print(result)\n"
   ]
  },
  {
   "cell_type": "markdown",
   "metadata": {},
   "source": [
    "Q85. Write the NumPy program to convert a Python dictionary to a Numpy ndarray"
   ]
  },
  {
   "cell_type": "code",
   "execution_count": 87,
   "metadata": {},
   "outputs": [
    {
     "name": "stdout",
     "output_type": "stream",
     "text": [
      "\n",
      "Original dictionary:\n",
      "{'column0': {'a': 1, 'b': 0.0, 'c': 0.0, 'd': 2.0}, 'column1': {'a': 3.0, 'b': 1, 'c': 0.0, 'd': -1.0}, 'column2': {'a': 4, 'b': 1, 'c': 5.0, 'd': -1.0}, 'column3': {'a': 3.0, 'b': -1.0, 'c': -1.0, 'd': -1.0}}\n",
      "Type:  <class 'dict'>\n",
      "\n",
      "ndarray:\n",
      "[[ 1.  0.  0.  2.]\n",
      " [ 3.  1.  0. -1.]\n",
      " [ 4.  1.  5. -1.]\n",
      " [ 3. -1. -1. -1.]]\n",
      "Type:  <class 'numpy.ndarray'>\n"
     ]
    }
   ],
   "source": [
    "import numpy as np \n",
    "from ast import literal_eval \n",
    "udict = \"\"\"{\"column0\":{\"a\":1,\"b\":0.0,\"c\":0.0,\"d\":2.0},\n",
    "\"column1\":{\"a\":3.0,\"b\":1,\"c\":0.0,\"d\":-1.0},\n",
    "\"column2\":{\"a\":4,\"b\":1,\"c\":5.0,\"d\":-1.0},\n",
    "\"column3\":{\"a\":3.0,\"b\":-1.0,\"c\":-1.0,\"d\":-1.0}\n",
    "}\"\"\" \n",
    "t = literal_eval(udict)\n",
    "print(\"\\nOriginal dictionary:\") \n",
    "print(t) \n",
    "print(\"Type: \",type(t)) \n",
    "result_nparra = np.array([[v[j] for j in ['a', 'b', 'c', 'd']] for k, v in t.items()])\n",
    "print(\"\\nndarray:\") \n",
    "print(result_nparra) \n",
    "print(\"Type: \",type(result_nparra))"
   ]
  },
  {
   "cell_type": "markdown",
   "metadata": {},
   "source": [
    "Q86. Write the Numpy program to find and store the non-zero unique rows in an array after comparing each row with other row in the given matrix"
   ]
  },
  {
   "cell_type": "code",
   "execution_count": 88,
   "metadata": {},
   "outputs": [
    {
     "name": "stdout",
     "output_type": "stream",
     "text": [
      "Original array:\n",
      "[[ 1  1  0]\n",
      " [ 0  0  0]\n",
      " [ 0  2  3]\n",
      " [ 0  0  0]\n",
      " [ 0 -1  1]\n",
      " [ 0  0  0]]\n",
      "\n",
      "Non-zero unique rows:\n",
      "[[ 1  1  0]\n",
      " [ 0  2  3]\n",
      " [ 0 -1  1]]\n"
     ]
    }
   ],
   "source": [
    "import numpy as np \n",
    "arra = np.array([[ 1, 1, 0], [ 0, 0, 0], [ 0, 2, 3], [ 0, 0, 0], [ 0, -1, 1], [ 0, 0, 0]])\n",
    "print(\"Original array:\") \n",
    "print(arra) \n",
    "temp = {(0, 0, 0)} \n",
    "result = [] \n",
    "for idx, row in enumerate(map(tuple, arra)): \n",
    "    if row not in temp: \n",
    "        result.append(idx)\n",
    "print(\"\\nNon-zero unique rows:\") \n",
    "print(arra[result])"
   ]
  },
  {
   "cell_type": "markdown",
   "metadata": {},
   "source": [
    "Q87. Write the NumPy program to multiply the matrix by another matrix\n",
    "     of complex numbers and create a new matrix of complex\n",
    "     numbers"
   ]
  },
  {
   "cell_type": "code",
   "execution_count": 89,
   "metadata": {},
   "outputs": [
    {
     "name": "stdout",
     "output_type": "stream",
     "text": [
      "First Array\n",
      "[1.+2.j 3.+4.j]\n",
      "Second Array\n",
      "[5.+6.j 7.+8.j]\n",
      "Product of 2 Arrays\n",
      "(70-8j)\n"
     ]
    }
   ],
   "source": [
    "import numpy as np\n",
    "arr1=np.array([1+2j,3+4j])\n",
    "print(\"First Array\")\n",
    "print(arr1)\n",
    "arr2=np.array([5+6j,7+8j])\n",
    "print(\"Second Array\")\n",
    "print(arr2)\n",
    "print(\"Product of 2 Arrays\")\n",
    "arr_mult = np.vdot(arr1,arr2)\n",
    "print(arr_mult)\n"
   ]
  },
  {
   "cell_type": "markdown",
   "metadata": {},
   "source": [
    "Q88. Write a NumPy program to generate the matrix product of two Arrays"
   ]
  },
  {
   "cell_type": "code",
   "execution_count": 90,
   "metadata": {},
   "outputs": [
    {
     "name": "stdout",
     "output_type": "stream",
     "text": [
      "Matrices and vectors.\n",
      "[[1, 0], [1, 1]]\n",
      "[[3, 1], [2, 2]]\n",
      "Matrix product of above 2 arrays\n",
      "[[3 1]\n",
      " [5 3]]\n"
     ]
    }
   ],
   "source": [
    "import numpy as np\n",
    "x = [[1, 0], [1, 1]] \n",
    "y = [[3, 1], [2, 2]]\n",
    "print(\"Matrices and vectors.\")\n",
    "print(x)\n",
    "print(y)\n",
    "print(\"Matrix product of above 2 arrays\")\n",
    "print(np.matmul(x,y))\n"
   ]
  },
  {
   "cell_type": "markdown",
   "metadata": {},
   "source": [
    "Q89. Write the NumPy program to find roots of the following\n",
    "     Polynomials"
   ]
  },
  {
   "cell_type": "code",
   "execution_count": 91,
   "metadata": {},
   "outputs": [
    {
     "name": "stdout",
     "output_type": "stream",
     "text": [
      "Roots of the first polynomial:\n",
      "[1. 1.]\n",
      "Roots of the second polynomial:\n",
      "[11.04461946+0.j        -0.8711421 +0.j         0.91326132+0.4531004j\n",
      "  0.91326132-0.4531004j]\n"
     ]
    }
   ],
   "source": [
    "import numpy as np \n",
    "print(\"Roots of the first polynomial:\") \n",
    "print(np.roots([1, -2, 1])) \n",
    "print(\"Roots of the second polynomial:\") \n",
    "print(np.roots([1, -12, 10, 7, -10]))"
   ]
  },
  {
   "cell_type": "markdown",
   "metadata": {},
   "source": [
    "Q90. Write the NumPy program to calculate inverse of sine, cosine, and inverse tangent for all elements in a given array"
   ]
  },
  {
   "cell_type": "code",
   "execution_count": 92,
   "metadata": {},
   "outputs": [
    {
     "name": "stdout",
     "output_type": "stream",
     "text": [
      "Inverse sine: [-1.57079633  0.          1.57079633]\n",
      "Inverse cosine: [3.14159265 1.57079633 0.        ]\n",
      "Inverse tangent: [-0.78539816  0.          0.78539816]\n"
     ]
    }
   ],
   "source": [
    "import numpy as np \n",
    "x = np.array([-1., 0, 1.]) \n",
    "print(\"Inverse sine:\", np.arcsin(x)) \n",
    "print(\"Inverse cosine:\", np.arccos(x)) \n",
    "print(\"Inverse tangent:\", np.arctan(x))"
   ]
  },
  {
   "cell_type": "markdown",
   "metadata": {},
   "source": [
    "Q91. Write the NumPy program to calculate the difference between in\n",
    "     neighbouring elements, element-wise of a given array"
   ]
  },
  {
   "cell_type": "code",
   "execution_count": 93,
   "metadata": {},
   "outputs": [
    {
     "name": "stdout",
     "output_type": "stream",
     "text": [
      "Original array\n",
      "[1 3 5 7 0]\n",
      "Difference between neighbouring elements in the given array\n",
      "[ 2  2  2 -7]\n"
     ]
    }
   ],
   "source": [
    "import numpy as np\n",
    "arr=np.array([1,3,5,7,0])\n",
    "print(\"Original array\")\n",
    "print(arr)\n",
    "print(\"Difference between neighbouring elements in the given array\")\n",
    "print(np.diff(arr))\n"
   ]
  },
  {
   "cell_type": "markdown",
   "metadata": {},
   "source": [
    "Q92. Write the Python program to find the maximum and the minimum\n",
    "     value of a given flattened array"
   ]
  },
  {
   "cell_type": "code",
   "execution_count": 94,
   "metadata": {},
   "outputs": [
    {
     "name": "stdout",
     "output_type": "stream",
     "text": [
      "Original  flattened array\n",
      "[[0 1]\n",
      " [2 3]]\n",
      "Maximum value of the above flattened array:\n",
      "3\n",
      "Minimum value of the above flattened array:\n",
      "0\n"
     ]
    }
   ],
   "source": [
    "import numpy as np\n",
    "arr=np.arange(4).reshape((2,2))\n",
    "print(\"Original  flattened array\")\n",
    "print(arr)\n",
    "print(\"Maximum value of the above flattened array:\")\n",
    "print(np.amax(arr))\n",
    "print(\"Minimum value of the above flattened array:\")\n",
    "print(np.amin(arr))\n"
   ]
  },
  {
   "cell_type": "markdown",
   "metadata": {},
   "source": [
    "Q93. Write the NumPy program to calculate the difference between in\n",
    "     the maximum and the minimum values of a given array along the\n",
    "     second axis "
   ]
  },
  {
   "cell_type": "code",
   "execution_count": 95,
   "metadata": {},
   "outputs": [
    {
     "name": "stdout",
     "output_type": "stream",
     "text": [
      "Original array\n",
      "[[ 0  1  2  3  4  5]\n",
      " [ 6  7  8  9 10 11]]\n",
      "\n",
      "Difference between the maximum and the minimum values of the said array:\n",
      "[5 5]\n"
     ]
    }
   ],
   "source": [
    "import numpy as np\n",
    "arr=np.arange(12).reshape((2,6))\n",
    "print(\"Original array\")\n",
    "print(arr)\n",
    "r1=np.ptp(arr,1)\n",
    "r2=np.amax(arr,1)-np.amin(arr,1)\n",
    "assert np.allclose(r1,r2)\n",
    "print(\"\\nDifference between the maximum and the minimum values of the said array:\")\n",
    "print(r1)\n"
   ]
  },
  {
   "cell_type": "markdown",
   "metadata": {},
   "source": [
    "Q94. Write the NumPy program to compute the weighted of the given array"
   ]
  },
  {
   "cell_type": "code",
   "execution_count": 96,
   "metadata": {},
   "outputs": [
    {
     "name": "stdout",
     "output_type": "stream",
     "text": [
      "\n",
      "Original array:\n",
      "[0 1 2 3 4]\n",
      "\n",
      "Weighted average of the said array:\n",
      "2.6666666666666665\n"
     ]
    }
   ],
   "source": [
    "import numpy as np \n",
    "x = np.arange(5)\n",
    "print(\"\\nOriginal array:\") \n",
    "print(x) \n",
    "weights = np.arange(1, 6) \n",
    "r1 = np.average(x, weights=weights) \n",
    "r2 = (x*(weights/weights.sum())).sum() \n",
    "assert np.allclose(r1, r2)\n",
    "print(\"\\nWeighted average of the said array:\")\n",
    "print(r1)"
   ]
  },
  {
   "cell_type": "markdown",
   "metadata": {},
   "source": [
    "Q95. Write the NumPy program to compute the mean, standard\n",
    "     deviation, and the variance of a given array along the second axis"
   ]
  },
  {
   "cell_type": "code",
   "execution_count": 97,
   "metadata": {},
   "outputs": [
    {
     "name": "stdout",
     "output_type": "stream",
     "text": [
      "Original array\n",
      "[0 1 2 3 4 5]\n",
      "Mean of the array\n",
      "2.5\n",
      "Standard Deviation of the array\n",
      "1.707825127659933\n",
      "Variance of the array\n",
      "2.9166666666666665\n"
     ]
    }
   ],
   "source": [
    "import numpy as np\n",
    "arr=np.arange(6)\n",
    "print(\"Original array\")\n",
    "print(arr)\n",
    "print(\"Mean of the array\")\n",
    "print(np.mean(arr))\n",
    "print(\"Standard Deviation of the array\")\n",
    "print(np.std(arr))\n",
    "print(\"Variance of the array\")\n",
    "print(np.var(arr))\n"
   ]
  },
  {
   "cell_type": "markdown",
   "metadata": {},
   "source": [
    "Q96. Write the Numpy program to compute the covariance matrix of the two given arrays"
   ]
  },
  {
   "cell_type": "code",
   "execution_count": 98,
   "metadata": {},
   "outputs": [
    {
     "name": "stdout",
     "output_type": "stream",
     "text": [
      "\n",
      "Original array1:\n",
      "[0 1 2]\n",
      "\n",
      "Original array1:\n",
      "[2 1 0]\n",
      "\n",
      "Covariance matrix of the said arrays:\n",
      " [[ 1. -1.]\n",
      " [-1.  1.]]\n"
     ]
    }
   ],
   "source": [
    "import numpy as np \n",
    "x = np.array([0, 1, 2]) \n",
    "y = np.array([2, 1, 0]) \n",
    "print(\"\\nOriginal array1:\") \n",
    "print(x) \n",
    "print(\"\\nOriginal array1:\") \n",
    "print(y) \n",
    "print(\"\\nCovariance matrix of the said arrays:\\n\",np.cov(x, y))"
   ]
  },
  {
   "cell_type": "markdown",
   "metadata": {},
   "source": [
    "Q97. Write a NumPy program to compute the cross-correlation of two given arrays"
   ]
  },
  {
   "cell_type": "code",
   "execution_count": 99,
   "metadata": {},
   "outputs": [
    {
     "name": "stdout",
     "output_type": "stream",
     "text": [
      "\n",
      "Original array1:\n",
      "[0 1 3]\n",
      "\n",
      "Original array1:\n",
      "[2 4 5]\n",
      "\n",
      "Cross-correlation of the said arrays:\n",
      " [[2.33333333 2.16666667]\n",
      " [2.16666667 2.33333333]]\n"
     ]
    }
   ],
   "source": [
    "import numpy as np \n",
    "x = np.array([0, 1, 3]) \n",
    "y = np.array([2, 4, 5])\n",
    "print(\"\\nOriginal array1:\") \n",
    "print(x)\n",
    "print(\"\\nOriginal array1:\") \n",
    "print(y) \n",
    "print(\"\\nCross-correlation of the said arrays:\\n\",np.cov(x, y))"
   ]
  },
  {
   "cell_type": "markdown",
   "metadata": {},
   "source": [
    "Q98. Write the NumPy program to compute Pearson product-moment correlation coefficients of two given arrays"
   ]
  },
  {
   "cell_type": "code",
   "execution_count": 100,
   "metadata": {},
   "outputs": [
    {
     "name": "stdout",
     "output_type": "stream",
     "text": [
      "\n",
      "Original array1:\n",
      "[0 1 3]\n",
      "\n",
      "Original array1:\n",
      "[2 4 5]\n",
      "\n",
      "Pearson product-moment correlation coefficients of the said arrays:\n",
      " [[1.         0.92857143]\n",
      " [0.92857143 1.        ]]\n"
     ]
    }
   ],
   "source": [
    "import numpy as np \n",
    "x = np.array([0, 1, 3]) \n",
    "y = np.array([2, 4, 5])\n",
    "print(\"\\nOriginal array1:\") \n",
    "print(x)\n",
    "print(\"\\nOriginal array1:\") \n",
    "print(y)\n",
    "print(\"\\nPearson product-moment correlation coefficients of the said arrays:\\n\",np.corrcoef(x, y))"
   ]
  },
  {
   "cell_type": "markdown",
   "metadata": {},
   "source": [
    "Q99. Write the python program to count the number of occurrences of each value in a given array of non-negative integers"
   ]
  },
  {
   "cell_type": "code",
   "execution_count": 101,
   "metadata": {},
   "outputs": [
    {
     "name": "stdout",
     "output_type": "stream",
     "text": [
      "Original array:\n",
      "[0, 1, 6, 1, 4, 1, 2, 2, 7]\n",
      "Number of occurrences of each value in array: \n",
      "[1 3 2 0 1 0 1 1]\n"
     ]
    }
   ],
   "source": [
    "import numpy as np \n",
    "array1 = [0, 1, 6, 1, 4, 1, 2, 2, 7] \n",
    "print(\"Original array:\") \n",
    "print(array1) \n",
    "print(\"Number of occurrences of each value in array: \") \n",
    "print(np.bincount(array1))"
   ]
  },
  {
   "cell_type": "markdown",
   "metadata": {},
   "source": [
    "Q100. Write a Numpy program to compute the histogram of nums against the bins"
   ]
  },
  {
   "cell_type": "code",
   "execution_count": 102,
   "metadata": {},
   "outputs": [
    {
     "name": "stdout",
     "output_type": "stream",
     "text": [
      "nums:  [0.5 0.7 1.  1.2 1.3 2.1]\n",
      "bins:  [0 1 2 3]\n",
      "Result: (array([2, 3, 1], dtype=int64), array([0, 1, 2, 3]))\n"
     ]
    },
    {
     "data": {
      "image/png": "[encoded data removed]",
      "text/plain": [
       "<Figure size 432x288 with 1 Axes>"
      ]
     },
     "metadata": {
      "needs_background": "light"
     },
     "output_type": "display_data"
    }
   ],
   "source": [
    "import numpy as np \n",
    "import matplotlib.pyplot as plt \n",
    "nums = np.array([0.5, 0.7, 1.0, 1.2, 1.3, 2.1]) \n",
    "bins = np.array([0, 1, 2, 3]) \n",
    "print(\"nums: \",nums) \n",
    "print(\"bins: \",bins) \n",
    "print(\"Result:\", np.histogram(nums, bins)) \n",
    "plt.hist(nums, bins=bins) \n",
    "plt.show()"
   ]
  },
  {
   "cell_type": "markdown",
   "metadata": {},
   "source": [
    "Q101. Write the Python program to add, subtract, multiply and divide two pandas series"
   ]
  },
  {
   "cell_type": "code",
   "execution_count": 103,
   "metadata": {},
   "outputs": [
    {
     "name": "stdout",
     "output_type": "stream",
     "text": [
      "Add two Series:\n",
      "0     3\n",
      "1     7\n",
      "2    11\n",
      "3    15\n",
      "4    19\n",
      "dtype: int64\n",
      "Subtract two Series:\n",
      "0    1\n",
      "1    1\n",
      "2    1\n",
      "3    1\n",
      "4    1\n",
      "dtype: int64\n",
      "Multiply two Series:\n",
      "0     2\n",
      "1    12\n",
      "2    30\n",
      "3    56\n",
      "4    90\n",
      "dtype: int64\n",
      "Divide Series1 by Series2:\n",
      "0    2.000000\n",
      "1    1.333333\n",
      "2    1.200000\n",
      "3    1.142857\n",
      "4    1.111111\n",
      "dtype: float64\n"
     ]
    }
   ],
   "source": [
    "import pandas as pd \n",
    "ds1 = pd.Series([2, 4, 6, 8, 10]) \n",
    "ds2 = pd.Series([1, 3, 5, 7, 9]) \n",
    "ds = ds1 + ds2\n",
    "print(\"Add two Series:\") \n",
    "print(ds)\n",
    "print(\"Subtract two Series:\") \n",
    "ds = ds1 - ds2 \n",
    "print(ds)\n",
    "print(\"Multiply two Series:\") \n",
    "ds = ds1 * ds2 \n",
    "print(ds)\n",
    "print(\"Divide Series1 by Series2:\") \n",
    "ds = ds1 / ds2 \n",
    "print(ds)"
   ]
  },
  {
   "cell_type": "markdown",
   "metadata": {},
   "source": [
    "Q102. Write a Python program to convert a dictionary to the Pandas Series"
   ]
  },
  {
   "cell_type": "code",
   "execution_count": 104,
   "metadata": {},
   "outputs": [
    {
     "name": "stdout",
     "output_type": "stream",
     "text": [
      "Original dictionary:\n",
      "{'a': 100, 'b': 200, 'c': 300, 'd': 400, 'e': 800}\n",
      "Converted series:\n",
      "a    100\n",
      "b    200\n",
      "c    300\n",
      "d    400\n",
      "e    800\n",
      "dtype: int64\n"
     ]
    }
   ],
   "source": [
    "import pandas as pd \n",
    "d1 = {'a': 100, 'b': 200, 'c':300, 'd':400, 'e':800}\n",
    "print(\"Original dictionary:\") \n",
    "print(d1) \n",
    "new_series = pd.Series(d1)\n",
    "print(\"Converted series:\") \n",
    "print(new_series)"
   ]
  },
  {
   "cell_type": "markdown",
   "metadata": {},
   "source": [
    "Q103. Write a python program to change the data type of given a column or a Series"
   ]
  },
  {
   "cell_type": "code",
   "execution_count": 105,
   "metadata": {},
   "outputs": [
    {
     "name": "stdout",
     "output_type": "stream",
     "text": [
      "Original Data Series:\n",
      "0       100\n",
      "1       200\n",
      "2    python\n",
      "3    300.12\n",
      "4       400\n",
      "dtype: object\n",
      "Change the said data type to numeric:\n",
      "0    100.00\n",
      "1    200.00\n",
      "2       NaN\n",
      "3    300.12\n",
      "4    400.00\n",
      "dtype: float64\n"
     ]
    }
   ],
   "source": [
    "import pandas as pd \n",
    "s1 = pd.Series(['100', '200', 'python', '300.12', '400'])\n",
    "print(\"Original Data Series:\") \n",
    "print(s1)\n",
    "print(\"Change the said data type to numeric:\") \n",
    "s2 = pd.to_numeric(s1, errors='coerce') \n",
    "print(s2)"
   ]
  },
  {
   "cell_type": "markdown",
   "metadata": {},
   "source": [
    "Q104. Write the python pandas program to convert the first column of a DataFrame as a Series"
   ]
  },
  {
   "cell_type": "code",
   "execution_count": 106,
   "metadata": {},
   "outputs": [
    {
     "name": "stdout",
     "output_type": "stream",
     "text": [
      "Original DataFrame\n",
      "   col1  col2  col3\n",
      "0     1     4     7\n",
      "1     2     5     5\n",
      "2     3     6     8\n",
      "3     4     9    12\n",
      "4     7     5     1\n",
      "5    11     0    11\n",
      "\n",
      "1st column as a Series:\n",
      "0     1\n",
      "1     2\n",
      "2     3\n",
      "3     4\n",
      "4     7\n",
      "5    11\n",
      "Name: col1, dtype: int64\n",
      "<class 'pandas.core.series.Series'>\n"
     ]
    },
    {
     "name": "stderr",
     "output_type": "stream",
     "text": [
      "C:\\Users\\talk2\\Anaconda3\\lib\\site-packages\\ipykernel_launcher.py:6: FutureWarning: \n",
      ".ix is deprecated. Please use\n",
      ".loc for label based indexing or\n",
      ".iloc for positional indexing\n",
      "\n",
      "See the documentation here:\n",
      "http://pandas.pydata.org/pandas-docs/stable/user_guide/indexing.html#ix-indexer-is-deprecated\n",
      "  \n"
     ]
    }
   ],
   "source": [
    "import pandas as pd \n",
    "d = {'col1': [1, 2, 3, 4, 7, 11], 'col2': [4, 5, 6, 9, 5, 0], 'col3': [7, 5, 8, 12, 1,11]} \n",
    "df = pd.DataFrame(data=d)\n",
    "print(\"Original DataFrame\") \n",
    "print(df) \n",
    "s1 = df.ix[:,0]\n",
    "print(\"\\n1st column as a Series:\") \n",
    "print(s1) \n",
    "print(type(s1))"
   ]
  },
  {
   "cell_type": "markdown",
   "metadata": {},
   "source": [
    "Q105. Write a pandas program to create the mean and standard deviation of the data of a given Series"
   ]
  },
  {
   "cell_type": "code",
   "execution_count": 107,
   "metadata": {},
   "outputs": [
    {
     "name": "stdout",
     "output_type": "stream",
     "text": [
      "Original Data Series:\n",
      "0     1\n",
      "1     2\n",
      "2     3\n",
      "3     4\n",
      "4     5\n",
      "5     6\n",
      "6     7\n",
      "7     8\n",
      "8     9\n",
      "9     5\n",
      "10    3\n",
      "dtype: int64\n",
      "Mean of the said Data Series:\n",
      "4.818181818181818\n",
      "Standard deviation of the said Data Series:\n",
      "2.522624895547565\n"
     ]
    }
   ],
   "source": [
    "import pandas as pd \n",
    "s = pd.Series(data = [1,2,3,4,5,6,7,8,9,5,3])\n",
    "print(\"Original Data Series:\") \n",
    "print(s)\n",
    "print(\"Mean of the said Data Series:\") \n",
    "print(s.mean())\n",
    "print(\"Standard deviation of the said Data Series:\") \n",
    "print(s.std())"
   ]
  },
  {
   "cell_type": "markdown",
   "metadata": {},
   "source": [
    "Q106. Write a pandas program to get powers of an array values element-wise"
   ]
  },
  {
   "cell_type": "code",
   "execution_count": 108,
   "metadata": {},
   "outputs": [
    {
     "name": "stdout",
     "output_type": "stream",
     "text": [
      "    X   Y   Z\n",
      "0  78  84  86\n",
      "1  85  94  97\n",
      "2  96  89  96\n",
      "3  80  83  72\n",
      "4  86  86  83\n"
     ]
    }
   ],
   "source": [
    "import pandas as pd \n",
    "df = pd.DataFrame({'X':[78,85,96,80,86], 'Y':[84,94,89,83,86],'Z':[86,97,96,72,83]}); \n",
    "print(df)"
   ]
  },
  {
   "cell_type": "markdown",
   "metadata": {},
   "source": [
    "Q107. Write the pandas program to get the first 3 rows of a given DataFrame"
   ]
  },
  {
   "cell_type": "code",
   "execution_count": 109,
   "metadata": {},
   "outputs": [
    {
     "name": "stdout",
     "output_type": "stream",
     "text": [
      "First three rows of the data frame:\n",
      "        name  score  attempts qualify\n",
      "a  Anastasia   12.5         1     yes\n",
      "b       Dima    9.0         3      no\n",
      "c  Katherine   16.5         2     yes\n"
     ]
    }
   ],
   "source": [
    "import pandas as pd \n",
    "import numpy as np\n",
    "exam_data = {'name': ['Anastasia', 'Dima', 'Katherine', 'James', 'Emily', 'Michael', 'Matthew', 'Laura', 'Kevin', 'Jonas'], 'score': [12.5, 9, 16.5, np.nan, 9, 20, 14.5, np.nan, 8, 19], 'attempts': [1, 3, 2, 3, 2, 3, 1, 1, 2, 1], 'qualify': ['yes', 'no', 'yes', 'no', 'no', 'yes', 'yes', 'no', 'no', 'yes']} \n",
    "labels = ['a', 'b', 'c', 'd', 'e', 'f', 'g', 'h', 'i', 'j']\n",
    "df = pd.DataFrame(exam_data , index=labels)\n",
    "print(\"First three rows of the data frame:\") \n",
    "print(df.iloc[:3])"
   ]
  },
  {
   "cell_type": "markdown",
   "metadata": {},
   "source": [
    "Q108: Write the pandas program to select the specified columns and the rows from a given data frame"
   ]
  },
  {
   "cell_type": "code",
   "execution_count": 110,
   "metadata": {},
   "outputs": [
    {
     "name": "stdout",
     "output_type": "stream",
     "text": [
      "Select specific columns and rows:\n",
      "      name  score\n",
      "b     Dima    9.0\n",
      "d    James    NaN\n",
      "f  Michael   20.0\n",
      "g  Matthew   14.5\n"
     ]
    }
   ],
   "source": [
    "import pandas as pd \n",
    "import numpy as np\n",
    "exam_data = {'name': ['Anastasia', 'Dima', 'Katherine', 'James', 'Emily', 'Michael', 'Matthew', 'Laura', 'Kevin', 'Jonas'], 'score': [12.5, 9, 16.5, np.nan, 9, 20, 14.5, np.nan, 8, 19], 'attempts': [1, 3, 2, 3, 2, 3, 1, 1, 2, 1], 'qualify': ['yes', 'no', 'yes', 'no', 'no', 'yes', 'yes', 'no', 'no', 'yes']} \n",
    "labels = ['a', 'b', 'c', 'd', 'e', 'f', 'g', 'h', 'i', 'j'] \n",
    "df = pd.DataFrame(exam_data , index=labels) \n",
    "print(\"Select specific columns and rows:\") \n",
    "print(df.iloc[[1, 3, 5, 6], [0, 1]])"
   ]
  },
  {
   "cell_type": "markdown",
   "metadata": {},
   "source": [
    "Q109. Write the pandas program to calculate mean score for each different student in DataFrame"
   ]
  },
  {
   "cell_type": "code",
   "execution_count": 111,
   "metadata": {},
   "outputs": [
    {
     "name": "stdout",
     "output_type": "stream",
     "text": [
      "\n",
      "Mean score for each different student in data frame:\n",
      "13.5625\n"
     ]
    }
   ],
   "source": [
    "import pandas as pd \n",
    "import numpy as np\n",
    "exam_data = {'name': ['Anastasia', 'Dima', 'Katherine', 'James', 'Emily', 'Michael', 'Matthew', 'Laura', 'Kevin', 'Jonas'], 'score': [12.5, 9, 16.5, np.nan, 9, 20, 14.5, np.nan, 8, 19], 'attempts': [1, 3, 2, 3, 2, 3, 1, 1, 2, 1], 'qualify': ['yes', 'no', 'yes', 'no', 'no', 'yes', 'yes', 'no', 'no', 'yes']} \n",
    "labels = ['a', 'b', 'c', 'd', 'e', 'f', 'g', 'h', 'i', 'j'] \n",
    "df = pd.DataFrame(exam_data , index=labels)\n",
    "print(\"\\nMean score for each different student in data frame:\") \n",
    "print(df['score'].mean())\n"
   ]
  },
  {
   "cell_type": "markdown",
   "metadata": {},
   "source": [
    "Q110. Write the Pandas program to rename columns of a given DataFrame"
   ]
  },
  {
   "cell_type": "code",
   "execution_count": 112,
   "metadata": {},
   "outputs": [
    {
     "name": "stdout",
     "output_type": "stream",
     "text": [
      "Original DataFrame\n",
      "   col1  col2  col3\n",
      "0     1     4     7\n",
      "1     2     5     8\n",
      "2     3     6     9\n",
      "New DataFrame after renaming columns:\n",
      "   Column1  Column2  Column3\n",
      "0        1        4        7\n",
      "1        2        5        8\n",
      "2        3        6        9\n"
     ]
    }
   ],
   "source": [
    "import pandas as pd \n",
    "d = {'col1': [1, 2, 3], 'col2': [4, 5, 6], 'col3': [7, 8, 9]} \n",
    "df = pd.DataFrame(data=d)\n",
    "print(\"Original DataFrame\")\n",
    "print(df)\n",
    "df.columns = ['Column1', 'Column2', 'Column3'] \n",
    "df = df.rename(columns={'col1': 'Column1', 'col2': 'Column2', 'col3': 'Column3'})\n",
    "print(\"New DataFrame after renaming columns:\") \n",
    "print(df)"
   ]
  },
  {
   "cell_type": "markdown",
   "metadata": {},
   "source": [
    "Q111. Write a pandas program to count city-wise number of people from a given of data set (city, name of the person)"
   ]
  },
  {
   "cell_type": "code",
   "execution_count": 113,
   "metadata": {},
   "outputs": [
    {
     "name": "stdout",
     "output_type": "stream",
     "text": [
      "          city  Number of people\n",
      "0   California                 4\n",
      "1      Georgia                 2\n",
      "2  Los Angeles                 4\n"
     ]
    }
   ],
   "source": [
    "import pandas as pd \n",
    "df1 = pd.DataFrame({'name': ['Anastasia', 'Dima', 'Katherine', 'James', 'Emily', 'Michael', 'Matthew', 'Laura', 'Kevin', 'Jonas'], 'city': ['California', 'Los Angeles', 'California', 'California', 'California', 'Los Angeles', 'Los Angeles', 'Georgia', 'Georgia', 'Los Angeles']}) \n",
    "g1 = df1.groupby([\"city\"]).size().reset_index(name='Number of people') \n",
    "print(g1)"
   ]
  },
  {
   "cell_type": "markdown",
   "metadata": {},
   "source": [
    "Q112. Write a pandas program to widen output display to see more columns"
   ]
  },
  {
   "cell_type": "code",
   "execution_count": 115,
   "metadata": {},
   "outputs": [
    {
     "name": "stdout",
     "output_type": "stream",
     "text": [
      "Original DataFrame\n",
      "   col1  col2  col3\n",
      "0     1     4     7\n",
      "1     4     5     8\n",
      "2     3     6     9\n",
      "3     4     7     0\n",
      "4     5     8     1\n"
     ]
    }
   ],
   "source": [
    "import pandas as pd \n",
    "import numpy as np \n",
    "d = {'col1': [1, 4, 3, 4, 5], 'col2': [4, 5, 6, 7, 8], 'col3': [7, 8, 9, 0, 1]} \n",
    "df = pd.DataFrame(data=d) \n",
    "pd.set_option('display.max_rows', 500) \n",
    "pd.set_option('display.max_columns', 500) \n",
    "pd.set_option('display.width', 1000)\n",
    "print(\"Original DataFrame\") \n",
    "print(df)"
   ]
  },
  {
   "cell_type": "markdown",
   "metadata": {},
   "source": [
    "Q113. Write a pandas program to convert the data frame column type from string to DateTime"
   ]
  },
  {
   "cell_type": "code",
   "execution_count": 116,
   "metadata": {},
   "outputs": [
    {
     "name": "stdout",
     "output_type": "stream",
     "text": [
      "String Date:\n",
      "0    3/11/2000\n",
      "1    3/12/2000\n",
      "2    3/13/2000\n",
      "dtype: object\n",
      "Original DataFrame (string to datetime):\n",
      "           0\n",
      "0 2000-03-11\n",
      "1 2000-03-12\n",
      "2 2000-03-13\n"
     ]
    }
   ],
   "source": [
    "import pandas as pd \n",
    "import numpy as np \n",
    "s = pd.Series(['3/11/2000', '3/12/2000', '3/13/2000'])\n",
    "print(\"String Date:\") \n",
    "print(s) \n",
    "r = pd.to_datetime(pd.Series(s)) \n",
    "df = pd.DataFrame(r)\n",
    "print(\"Original DataFrame (string to datetime):\") \n",
    "print(df)"
   ]
  },
  {
   "cell_type": "markdown",
   "metadata": {},
   "source": [
    "Q114. Write a pandas program to append the data to an empty DataFrame"
   ]
  },
  {
   "cell_type": "code",
   "execution_count": 117,
   "metadata": {},
   "outputs": [
    {
     "name": "stdout",
     "output_type": "stream",
     "text": [
      "After appending some data:\n",
      "   col1  col2\n",
      "0     0     0\n",
      "1     1     1\n",
      "2     2     2\n"
     ]
    }
   ],
   "source": [
    "import pandas as pd \n",
    "import numpy as np \n",
    "df = pd.DataFrame() \n",
    "data = pd.DataFrame({\"col1\": range(3),\"col2\": range(3)})\n",
    "print(\"After appending some data:\") \n",
    "df = df.append(data) \n",
    "print(df)"
   ]
  },
  {
   "cell_type": "markdown",
   "metadata": {},
   "source": [
    "Q115. Write a pandas program to count the number of columns of a DataFrame"
   ]
  },
  {
   "cell_type": "code",
   "execution_count": 118,
   "metadata": {},
   "outputs": [
    {
     "name": "stdout",
     "output_type": "stream",
     "text": [
      "Original DataFrame\n",
      "   col1  col2  col3\n",
      "0     1     4     7\n",
      "1     2     5     8\n",
      "2     3     6    12\n",
      "3     4     9     1\n",
      "4     7     5    11\n",
      "\n",
      "Number of columns:\n",
      "3\n"
     ]
    }
   ],
   "source": [
    "import pandas as pd \n",
    "d = {'col1': [1, 2, 3, 4, 7], 'col2': [4, 5, 6, 9, 5], 'col3': [7, 8, 12, 1, 11]} \n",
    "df = pd.DataFrame(data=d) \n",
    "print(\"Original DataFrame\") \n",
    "print(df) \n",
    "print(\"\\nNumber of columns:\") \n",
    "print(len(df.columns))"
   ]
  },
  {
   "cell_type": "markdown",
   "metadata": {},
   "source": [
    "Q116. Write a Pandas program to remove the last n rows of a given DataFrame"
   ]
  },
  {
   "cell_type": "code",
   "execution_count": 119,
   "metadata": {},
   "outputs": [
    {
     "name": "stdout",
     "output_type": "stream",
     "text": [
      "Original DataFrame\n",
      "   col1  col2  col3\n",
      "0     1     4     7\n",
      "1     2     5     5\n",
      "2     3     6     8\n",
      "3     4     9    12\n",
      "4     7     5     1\n",
      "5    11     0    11\n",
      "\n",
      "After removing last 3 rows of the said DataFrame:\n",
      "   col1  col2  col3\n",
      "0     1     4     7\n",
      "1     2     5     5\n",
      "2     3     6     8\n"
     ]
    }
   ],
   "source": [
    "import pandas as pd \n",
    "d = {'col1': [1, 2, 3, 4, 7, 11], 'col2': [4, 5, 6, 9, 5, 0], 'col3': [7, 5, 8, 12, 1,11]} \n",
    "df = pd.DataFrame(data=d)\n",
    "print(\"Original DataFrame\") \n",
    "print(df)\n",
    "print(\"\\nAfter removing last 3 rows of the said DataFrame:\") \n",
    "df1 = df.iloc[:3] \n",
    "print(df1)"
   ]
  },
  {
   "cell_type": "markdown",
   "metadata": {},
   "source": [
    "Q117. Write a Pandas program to import excel data (coalpublic2013.xlsx ) into a Pandas data frame."
   ]
  },
  {
   "cell_type": "code",
   "execution_count": 129,
   "metadata": {},
   "outputs": [
    {
     "data": {
      "text/html": [
       "<div>\n",
       "<style scoped>\n",
       "    .dataframe tbody tr th:only-of-type {\n",
       "        vertical-align: middle;\n",
       "    }\n",
       "\n",
       "    .dataframe tbody tr th {\n",
       "        vertical-align: top;\n",
       "    }\n",
       "\n",
       "    .dataframe thead th {\n",
       "        text-align: right;\n",
       "    }\n",
       "</style>\n",
       "<table border=\"1\" class=\"dataframe\">\n",
       "  <thead>\n",
       "    <tr style=\"text-align: right;\">\n",
       "      <th></th>\n",
       "      <th>Year</th>\n",
       "      <th>MSHA ID</th>\n",
       "      <th>Mine_Name</th>\n",
       "      <th>Production</th>\n",
       "      <th>Labor_Hours</th>\n",
       "    </tr>\n",
       "  </thead>\n",
       "  <tbody>\n",
       "    <tr>\n",
       "      <td>0</td>\n",
       "      <td>2013</td>\n",
       "      <td>103381</td>\n",
       "      <td>Tacoa Highwall Miner</td>\n",
       "      <td>56004</td>\n",
       "      <td>22392</td>\n",
       "    </tr>\n",
       "    <tr>\n",
       "      <td>1</td>\n",
       "      <td>2013</td>\n",
       "      <td>103404</td>\n",
       "      <td>Reid School Mine</td>\n",
       "      <td>28807</td>\n",
       "      <td>28447</td>\n",
       "    </tr>\n",
       "    <tr>\n",
       "      <td>2</td>\n",
       "      <td>2013</td>\n",
       "      <td>100759</td>\n",
       "      <td>North River #1 Underground Min</td>\n",
       "      <td>1440115</td>\n",
       "      <td>474784</td>\n",
       "    </tr>\n",
       "    <tr>\n",
       "      <td>3</td>\n",
       "      <td>2013</td>\n",
       "      <td>103246</td>\n",
       "      <td>Bear Creek</td>\n",
       "      <td>87587</td>\n",
       "      <td>29193</td>\n",
       "    </tr>\n",
       "    <tr>\n",
       "      <td>4</td>\n",
       "      <td>2013</td>\n",
       "      <td>103451</td>\n",
       "      <td>Knight Mine</td>\n",
       "      <td>147499</td>\n",
       "      <td>46393</td>\n",
       "    </tr>\n",
       "    <tr>\n",
       "      <td>5</td>\n",
       "      <td>2013</td>\n",
       "      <td>103433</td>\n",
       "      <td>Crane Central Mine</td>\n",
       "      <td>69339</td>\n",
       "      <td>47195</td>\n",
       "    </tr>\n",
       "    <tr>\n",
       "      <td>6</td>\n",
       "      <td>2013</td>\n",
       "      <td>100329</td>\n",
       "      <td>Concord Mine</td>\n",
       "      <td>0</td>\n",
       "      <td>144002</td>\n",
       "    </tr>\n",
       "    <tr>\n",
       "      <td>7</td>\n",
       "      <td>2013</td>\n",
       "      <td>100851</td>\n",
       "      <td>Oak Grove Mine</td>\n",
       "      <td>2269014</td>\n",
       "      <td>1001809</td>\n",
       "    </tr>\n",
       "    <tr>\n",
       "      <td>8</td>\n",
       "      <td>2013</td>\n",
       "      <td>102901</td>\n",
       "      <td>Shoal Creek Mine</td>\n",
       "      <td>0</td>\n",
       "      <td>12396</td>\n",
       "    </tr>\n",
       "    <tr>\n",
       "      <td>9</td>\n",
       "      <td>2013</td>\n",
       "      <td>102901</td>\n",
       "      <td>Shoal Creek Mine</td>\n",
       "      <td>1453024</td>\n",
       "      <td>1237415</td>\n",
       "    </tr>\n",
       "    <tr>\n",
       "      <td>10</td>\n",
       "      <td>2013</td>\n",
       "      <td>103180</td>\n",
       "      <td>Sloan Mountain Mine</td>\n",
       "      <td>327780</td>\n",
       "      <td>196963</td>\n",
       "    </tr>\n",
       "    <tr>\n",
       "      <td>11</td>\n",
       "      <td>2013</td>\n",
       "      <td>103182</td>\n",
       "      <td>Fishtrap</td>\n",
       "      <td>175058</td>\n",
       "      <td>87314</td>\n",
       "    </tr>\n",
       "    <tr>\n",
       "      <td>12</td>\n",
       "      <td>2013</td>\n",
       "      <td>103285</td>\n",
       "      <td>Narley Mine</td>\n",
       "      <td>154861</td>\n",
       "      <td>90584</td>\n",
       "    </tr>\n",
       "    <tr>\n",
       "      <td>13</td>\n",
       "      <td>2013</td>\n",
       "      <td>103332</td>\n",
       "      <td>Powhatan Mine</td>\n",
       "      <td>140521</td>\n",
       "      <td>61394</td>\n",
       "    </tr>\n",
       "    <tr>\n",
       "      <td>14</td>\n",
       "      <td>2013</td>\n",
       "      <td>103375</td>\n",
       "      <td>Johnson Mine</td>\n",
       "      <td>580</td>\n",
       "      <td>1900</td>\n",
       "    </tr>\n",
       "    <tr>\n",
       "      <td>15</td>\n",
       "      <td>2013</td>\n",
       "      <td>103419</td>\n",
       "      <td>Maxine-Pratt Mine</td>\n",
       "      <td>125824</td>\n",
       "      <td>107469</td>\n",
       "    </tr>\n",
       "    <tr>\n",
       "      <td>16</td>\n",
       "      <td>2013</td>\n",
       "      <td>103432</td>\n",
       "      <td>Skelton Creek</td>\n",
       "      <td>8252</td>\n",
       "      <td>220</td>\n",
       "    </tr>\n",
       "    <tr>\n",
       "      <td>17</td>\n",
       "      <td>2013</td>\n",
       "      <td>103437</td>\n",
       "      <td>Black Warrior Mine No 1</td>\n",
       "      <td>145924</td>\n",
       "      <td>70926</td>\n",
       "    </tr>\n",
       "    <tr>\n",
       "      <td>18</td>\n",
       "      <td>2013</td>\n",
       "      <td>102976</td>\n",
       "      <td>Piney Woods Preparation Plant</td>\n",
       "      <td>0</td>\n",
       "      <td>14828</td>\n",
       "    </tr>\n",
       "    <tr>\n",
       "      <td>19</td>\n",
       "      <td>2013</td>\n",
       "      <td>102976</td>\n",
       "      <td>Piney Woods Preparation Plant</td>\n",
       "      <td>0</td>\n",
       "      <td>23193</td>\n",
       "    </tr>\n",
       "    <tr>\n",
       "      <td>20</td>\n",
       "      <td>2013</td>\n",
       "      <td>103380</td>\n",
       "      <td>Calera</td>\n",
       "      <td>0</td>\n",
       "      <td>12621</td>\n",
       "    </tr>\n",
       "    <tr>\n",
       "      <td>21</td>\n",
       "      <td>2013</td>\n",
       "      <td>103380</td>\n",
       "      <td>Calera</td>\n",
       "      <td>0</td>\n",
       "      <td>1402</td>\n",
       "    </tr>\n",
       "    <tr>\n",
       "      <td>22</td>\n",
       "      <td>2013</td>\n",
       "      <td>103422</td>\n",
       "      <td>Clark No 1 Mine</td>\n",
       "      <td>122727</td>\n",
       "      <td>140250</td>\n",
       "    </tr>\n",
       "    <tr>\n",
       "      <td>23</td>\n",
       "      <td>2013</td>\n",
       "      <td>103467</td>\n",
       "      <td>Helena Surface Mine</td>\n",
       "      <td>59664</td>\n",
       "      <td>30539</td>\n",
       "    </tr>\n",
       "    <tr>\n",
       "      <td>24</td>\n",
       "      <td>2013</td>\n",
       "      <td>101247</td>\n",
       "      <td>No 4 Mine</td>\n",
       "      <td>2622528</td>\n",
       "      <td>1551141</td>\n",
       "    </tr>\n",
       "    <tr>\n",
       "      <td>25</td>\n",
       "      <td>2013</td>\n",
       "      <td>101401</td>\n",
       "      <td>No 7 Mine</td>\n",
       "      <td>5405412</td>\n",
       "      <td>2464719</td>\n",
       "    </tr>\n",
       "    <tr>\n",
       "      <td>26</td>\n",
       "      <td>2013</td>\n",
       "      <td>103172</td>\n",
       "      <td>Searles Mine No. 2, 3, 4, 5, 6</td>\n",
       "      <td>258078</td>\n",
       "      <td>119542</td>\n",
       "    </tr>\n",
       "    <tr>\n",
       "      <td>27</td>\n",
       "      <td>2013</td>\n",
       "      <td>103179</td>\n",
       "      <td>Fleetwood Mine No 1</td>\n",
       "      <td>75937</td>\n",
       "      <td>63745</td>\n",
       "    </tr>\n",
       "    <tr>\n",
       "      <td>28</td>\n",
       "      <td>2013</td>\n",
       "      <td>103303</td>\n",
       "      <td>Shannon Mine</td>\n",
       "      <td>317491</td>\n",
       "      <td>164388</td>\n",
       "    </tr>\n",
       "    <tr>\n",
       "      <td>29</td>\n",
       "      <td>2013</td>\n",
       "      <td>103323</td>\n",
       "      <td>Deerlick Mine</td>\n",
       "      <td>133452</td>\n",
       "      <td>46381</td>\n",
       "    </tr>\n",
       "    <tr>\n",
       "      <td>30</td>\n",
       "      <td>2013</td>\n",
       "      <td>103364</td>\n",
       "      <td>Brc Alabama No. 7 Llc</td>\n",
       "      <td>0</td>\n",
       "      <td>14324</td>\n",
       "    </tr>\n",
       "    <tr>\n",
       "      <td>31</td>\n",
       "      <td>2013</td>\n",
       "      <td>103436</td>\n",
       "      <td>Swann's Crossing</td>\n",
       "      <td>137511</td>\n",
       "      <td>77190</td>\n",
       "    </tr>\n",
       "    <tr>\n",
       "      <td>32</td>\n",
       "      <td>2013</td>\n",
       "      <td>100347</td>\n",
       "      <td>Choctaw Mine</td>\n",
       "      <td>537429</td>\n",
       "      <td>215295</td>\n",
       "    </tr>\n",
       "    <tr>\n",
       "      <td>33</td>\n",
       "      <td>2013</td>\n",
       "      <td>101362</td>\n",
       "      <td>Manchester Mine</td>\n",
       "      <td>219457</td>\n",
       "      <td>116914</td>\n",
       "    </tr>\n",
       "    <tr>\n",
       "      <td>34</td>\n",
       "      <td>2013</td>\n",
       "      <td>102996</td>\n",
       "      <td>Jap Creek Mine</td>\n",
       "      <td>375715</td>\n",
       "      <td>164093</td>\n",
       "    </tr>\n",
       "    <tr>\n",
       "      <td>35</td>\n",
       "      <td>2013</td>\n",
       "      <td>103155</td>\n",
       "      <td>Corinth Prep Plant</td>\n",
       "      <td>0</td>\n",
       "      <td>27996</td>\n",
       "    </tr>\n",
       "    <tr>\n",
       "      <td>36</td>\n",
       "      <td>2013</td>\n",
       "      <td>103155</td>\n",
       "      <td>Corinth Prep Plant</td>\n",
       "      <td>0</td>\n",
       "      <td>51994</td>\n",
       "    </tr>\n",
       "    <tr>\n",
       "      <td>37</td>\n",
       "      <td>2013</td>\n",
       "      <td>103195</td>\n",
       "      <td>Mccollum/Sparks Branch Mine</td>\n",
       "      <td>71910</td>\n",
       "      <td>17411</td>\n",
       "    </tr>\n",
       "    <tr>\n",
       "      <td>38</td>\n",
       "      <td>2013</td>\n",
       "      <td>103342</td>\n",
       "      <td>Reese's Branch Mine</td>\n",
       "      <td>263888</td>\n",
       "      <td>115123</td>\n",
       "    </tr>\n",
       "    <tr>\n",
       "      <td>39</td>\n",
       "      <td>2013</td>\n",
       "      <td>103370</td>\n",
       "      <td>Cresent Valley Mine</td>\n",
       "      <td>2860</td>\n",
       "      <td>621</td>\n",
       "    </tr>\n",
       "    <tr>\n",
       "      <td>40</td>\n",
       "      <td>2013</td>\n",
       "      <td>103372</td>\n",
       "      <td>Cane Creek Mine</td>\n",
       "      <td>66258</td>\n",
       "      <td>32401</td>\n",
       "    </tr>\n",
       "    <tr>\n",
       "      <td>41</td>\n",
       "      <td>2013</td>\n",
       "      <td>103376</td>\n",
       "      <td>Town Creek</td>\n",
       "      <td>299167</td>\n",
       "      <td>176499</td>\n",
       "    </tr>\n",
       "    <tr>\n",
       "      <td>42</td>\n",
       "      <td>2013</td>\n",
       "      <td>103389</td>\n",
       "      <td>Carbon Hill Mine</td>\n",
       "      <td>76241</td>\n",
       "      <td>84966</td>\n",
       "    </tr>\n",
       "    <tr>\n",
       "      <td>43</td>\n",
       "      <td>2013</td>\n",
       "      <td>103410</td>\n",
       "      <td>Coal Valley Mine</td>\n",
       "      <td>407841</td>\n",
       "      <td>158591</td>\n",
       "    </tr>\n",
       "    <tr>\n",
       "      <td>44</td>\n",
       "      <td>2013</td>\n",
       "      <td>103423</td>\n",
       "      <td>Dutton Hill Mine</td>\n",
       "      <td>37275</td>\n",
       "      <td>9162</td>\n",
       "    </tr>\n",
       "    <tr>\n",
       "      <td>45</td>\n",
       "      <td>2013</td>\n",
       "      <td>1519322</td>\n",
       "      <td>Ghm #25</td>\n",
       "      <td>25054</td>\n",
       "      <td>3108</td>\n",
       "    </tr>\n",
       "    <tr>\n",
       "      <td>46</td>\n",
       "      <td>2013</td>\n",
       "      <td>103321</td>\n",
       "      <td>Poplar Springs</td>\n",
       "      <td>189370</td>\n",
       "      <td>76366</td>\n",
       "    </tr>\n",
       "    <tr>\n",
       "      <td>47</td>\n",
       "      <td>2013</td>\n",
       "      <td>103358</td>\n",
       "      <td>Old Union</td>\n",
       "      <td>284563</td>\n",
       "      <td>161805</td>\n",
       "    </tr>\n",
       "    <tr>\n",
       "      <td>48</td>\n",
       "      <td>2013</td>\n",
       "      <td>5000030</td>\n",
       "      <td>Usibelli</td>\n",
       "      <td>1631584</td>\n",
       "      <td>286079</td>\n",
       "    </tr>\n",
       "    <tr>\n",
       "      <td>49</td>\n",
       "      <td>2013</td>\n",
       "      <td>201195</td>\n",
       "      <td>Kayenta Mine</td>\n",
       "      <td>7602722</td>\n",
       "      <td>1015333</td>\n",
       "    </tr>\n",
       "  </tbody>\n",
       "</table>\n",
       "</div>"
      ],
      "text/plain": [
       "    Year  MSHA ID                       Mine_Name  Production  Labor_Hours\n",
       "0   2013   103381            Tacoa Highwall Miner       56004        22392\n",
       "1   2013   103404                Reid School Mine       28807        28447\n",
       "2   2013   100759  North River #1 Underground Min     1440115       474784\n",
       "3   2013   103246                      Bear Creek       87587        29193\n",
       "4   2013   103451                     Knight Mine      147499        46393\n",
       "5   2013   103433              Crane Central Mine       69339        47195\n",
       "6   2013   100329                    Concord Mine           0       144002\n",
       "7   2013   100851                  Oak Grove Mine     2269014      1001809\n",
       "8   2013   102901                Shoal Creek Mine           0        12396\n",
       "9   2013   102901                Shoal Creek Mine     1453024      1237415\n",
       "10  2013   103180             Sloan Mountain Mine      327780       196963\n",
       "11  2013   103182                        Fishtrap      175058        87314\n",
       "12  2013   103285                     Narley Mine      154861        90584\n",
       "13  2013   103332                   Powhatan Mine      140521        61394\n",
       "14  2013   103375                    Johnson Mine         580         1900\n",
       "15  2013   103419               Maxine-Pratt Mine      125824       107469\n",
       "16  2013   103432                   Skelton Creek        8252          220\n",
       "17  2013   103437         Black Warrior Mine No 1      145924        70926\n",
       "18  2013   102976   Piney Woods Preparation Plant           0        14828\n",
       "19  2013   102976   Piney Woods Preparation Plant           0        23193\n",
       "20  2013   103380                          Calera           0        12621\n",
       "21  2013   103380                          Calera           0         1402\n",
       "22  2013   103422                 Clark No 1 Mine      122727       140250\n",
       "23  2013   103467             Helena Surface Mine       59664        30539\n",
       "24  2013   101247                       No 4 Mine     2622528      1551141\n",
       "25  2013   101401                       No 7 Mine     5405412      2464719\n",
       "26  2013   103172  Searles Mine No. 2, 3, 4, 5, 6      258078       119542\n",
       "27  2013   103179             Fleetwood Mine No 1       75937        63745\n",
       "28  2013   103303                    Shannon Mine      317491       164388\n",
       "29  2013   103323                   Deerlick Mine      133452        46381\n",
       "30  2013   103364           Brc Alabama No. 7 Llc           0        14324\n",
       "31  2013   103436                Swann's Crossing      137511        77190\n",
       "32  2013   100347                    Choctaw Mine      537429       215295\n",
       "33  2013   101362                 Manchester Mine      219457       116914\n",
       "34  2013   102996                  Jap Creek Mine      375715       164093\n",
       "35  2013   103155              Corinth Prep Plant           0        27996\n",
       "36  2013   103155              Corinth Prep Plant           0        51994\n",
       "37  2013   103195     Mccollum/Sparks Branch Mine       71910        17411\n",
       "38  2013   103342             Reese's Branch Mine      263888       115123\n",
       "39  2013   103370             Cresent Valley Mine        2860          621\n",
       "40  2013   103372                 Cane Creek Mine       66258        32401\n",
       "41  2013   103376                      Town Creek      299167       176499\n",
       "42  2013   103389                Carbon Hill Mine       76241        84966\n",
       "43  2013   103410                Coal Valley Mine      407841       158591\n",
       "44  2013   103423                Dutton Hill Mine       37275         9162\n",
       "45  2013  1519322                         Ghm #25       25054         3108\n",
       "46  2013   103321                  Poplar Springs      189370        76366\n",
       "47  2013   103358                       Old Union      284563       161805\n",
       "48  2013  5000030                        Usibelli     1631584       286079\n",
       "49  2013   201195                    Kayenta Mine     7602722      1015333"
      ]
     },
     "execution_count": 129,
     "metadata": {},
     "output_type": "execute_result"
    }
   ],
   "source": [
    "import pandas as pd \n",
    "import numpy as np \n",
    "df=pd.read_excel(r'C:\\Users\\talk2\\Documents\\coalpublic2013.xlsx')\n",
    "df\n",
    "\n",
    "\n"
   ]
  },
  {
   "cell_type": "code",
   "execution_count": null,
   "metadata": {},
   "outputs": [],
   "source": []
  },
  {
   "cell_type": "markdown",
   "metadata": {},
   "source": [
    "Q118. Write a Pandas program to import excel data (coalpublic2013.xlsx ) into a data frame and find details where \"Mine Name\" starts with \"P."
   ]
  },
  {
   "cell_type": "code",
   "execution_count": 130,
   "metadata": {},
   "outputs": [
    {
     "data": {
      "text/html": [
       "<div>\n",
       "<style scoped>\n",
       "    .dataframe tbody tr th:only-of-type {\n",
       "        vertical-align: middle;\n",
       "    }\n",
       "\n",
       "    .dataframe tbody tr th {\n",
       "        vertical-align: top;\n",
       "    }\n",
       "\n",
       "    .dataframe thead th {\n",
       "        text-align: right;\n",
       "    }\n",
       "</style>\n",
       "<table border=\"1\" class=\"dataframe\">\n",
       "  <thead>\n",
       "    <tr style=\"text-align: right;\">\n",
       "      <th></th>\n",
       "      <th>Year</th>\n",
       "      <th>MSHA ID</th>\n",
       "      <th>Mine_Name</th>\n",
       "      <th>Production</th>\n",
       "      <th>Labor_Hours</th>\n",
       "    </tr>\n",
       "  </thead>\n",
       "  <tbody>\n",
       "    <tr>\n",
       "      <td>13</td>\n",
       "      <td>2013</td>\n",
       "      <td>103332</td>\n",
       "      <td>Powhatan Mine</td>\n",
       "      <td>140521</td>\n",
       "      <td>61394</td>\n",
       "    </tr>\n",
       "    <tr>\n",
       "      <td>18</td>\n",
       "      <td>2013</td>\n",
       "      <td>102976</td>\n",
       "      <td>Piney Woods Preparation Plant</td>\n",
       "      <td>0</td>\n",
       "      <td>14828</td>\n",
       "    </tr>\n",
       "    <tr>\n",
       "      <td>19</td>\n",
       "      <td>2013</td>\n",
       "      <td>102976</td>\n",
       "      <td>Piney Woods Preparation Plant</td>\n",
       "      <td>0</td>\n",
       "      <td>23193</td>\n",
       "    </tr>\n",
       "    <tr>\n",
       "      <td>46</td>\n",
       "      <td>2013</td>\n",
       "      <td>103321</td>\n",
       "      <td>Poplar Springs</td>\n",
       "      <td>189370</td>\n",
       "      <td>76366</td>\n",
       "    </tr>\n",
       "  </tbody>\n",
       "</table>\n",
       "</div>"
      ],
      "text/plain": [
       "    Year  MSHA ID                      Mine_Name  Production  Labor_Hours\n",
       "13  2013   103332                  Powhatan Mine      140521        61394\n",
       "18  2013   102976  Piney Woods Preparation Plant           0        14828\n",
       "19  2013   102976  Piney Woods Preparation Plant           0        23193\n",
       "46  2013   103321                 Poplar Springs      189370        76366"
      ]
     },
     "execution_count": 130,
     "metadata": {},
     "output_type": "execute_result"
    }
   ],
   "source": [
    "import pandas as pd \n",
    "import numpy as np \n",
    "df = pd.read_excel(r'C:\\Users\\talk2\\Documents\\coalpublic2013.xlsx') \n",
    "df[df[\"Mine_Name\"].map(lambda x: x.startswith('P'))].head()"
   ]
  },
  {
   "cell_type": "markdown",
   "metadata": {},
   "source": [
    "Q119. Write a Pandas program to import excel data (employee.xlsx ) into a Pandas dataframe and find the list of \n",
    "      employees where hire_date> 01-01-07."
   ]
  },
  {
   "cell_type": "code",
   "execution_count": 131,
   "metadata": {},
   "outputs": [
    {
     "data": {
      "text/html": [
       "<div>\n",
       "<style scoped>\n",
       "    .dataframe tbody tr th:only-of-type {\n",
       "        vertical-align: middle;\n",
       "    }\n",
       "\n",
       "    .dataframe tbody tr th {\n",
       "        vertical-align: top;\n",
       "    }\n",
       "\n",
       "    .dataframe thead th {\n",
       "        text-align: right;\n",
       "    }\n",
       "</style>\n",
       "<table border=\"1\" class=\"dataframe\">\n",
       "  <thead>\n",
       "    <tr style=\"text-align: right;\">\n",
       "      <th></th>\n",
       "      <th>emp_id</th>\n",
       "      <th>first_name</th>\n",
       "      <th>last_name</th>\n",
       "      <th>hire_date</th>\n",
       "    </tr>\n",
       "  </thead>\n",
       "  <tbody>\n",
       "    <tr>\n",
       "      <td>4</td>\n",
       "      <td>104</td>\n",
       "      <td>Bruce</td>\n",
       "      <td>Ernst</td>\n",
       "      <td>2007-05-21</td>\n",
       "    </tr>\n",
       "    <tr>\n",
       "      <td>7</td>\n",
       "      <td>107</td>\n",
       "      <td>Diana</td>\n",
       "      <td>Lorentz</td>\n",
       "      <td>2007-02-07</td>\n",
       "    </tr>\n",
       "    <tr>\n",
       "      <td>13</td>\n",
       "      <td>113</td>\n",
       "      <td>Luis</td>\n",
       "      <td>Popp</td>\n",
       "      <td>2007-12-07</td>\n",
       "    </tr>\n",
       "    <tr>\n",
       "      <td>19</td>\n",
       "      <td>119</td>\n",
       "      <td>Karen</td>\n",
       "      <td>Colmenares</td>\n",
       "      <td>2007-08-10</td>\n",
       "    </tr>\n",
       "  </tbody>\n",
       "</table>\n",
       "</div>"
      ],
      "text/plain": [
       "    emp_id first_name   last_name  hire_date\n",
       "4      104      Bruce       Ernst 2007-05-21\n",
       "7      107      Diana     Lorentz 2007-02-07\n",
       "13     113       Luis        Popp 2007-12-07\n",
       "19     119      Karen  Colmenares 2007-08-10"
      ]
     },
     "execution_count": 131,
     "metadata": {},
     "output_type": "execute_result"
    }
   ],
   "source": [
    "import pandas as pd \n",
    "import numpy as np \n",
    "df = pd.read_excel(r'C:\\Users\\talk2\\Documents\\employee.xlsx') \n",
    "df[df['hire_date'] >='20070101']"
   ]
  },
  {
   "cell_type": "markdown",
   "metadata": {},
   "source": [
    "Q120. Write a Pandas program to import excel data (employee.xlsx ) into a Pandas dataframe and \n",
    "      find a list of the employees of a specified year"
   ]
  },
  {
   "cell_type": "code",
   "execution_count": 132,
   "metadata": {},
   "outputs": [
    {
     "data": {
      "text/html": [
       "<div>\n",
       "<style scoped>\n",
       "    .dataframe tbody tr th:only-of-type {\n",
       "        vertical-align: middle;\n",
       "    }\n",
       "\n",
       "    .dataframe tbody tr th {\n",
       "        vertical-align: top;\n",
       "    }\n",
       "\n",
       "    .dataframe thead th {\n",
       "        text-align: right;\n",
       "    }\n",
       "</style>\n",
       "<table border=\"1\" class=\"dataframe\">\n",
       "  <thead>\n",
       "    <tr style=\"text-align: right;\">\n",
       "      <th></th>\n",
       "      <th>emp_id</th>\n",
       "      <th>first_name</th>\n",
       "      <th>last_name</th>\n",
       "    </tr>\n",
       "    <tr>\n",
       "      <th>hire_date</th>\n",
       "      <th></th>\n",
       "      <th></th>\n",
       "      <th></th>\n",
       "    </tr>\n",
       "  </thead>\n",
       "  <tbody>\n",
       "    <tr>\n",
       "      <td>2005-09-21</td>\n",
       "      <td>101</td>\n",
       "      <td>Neena</td>\n",
       "      <td>Kochhar</td>\n",
       "    </tr>\n",
       "    <tr>\n",
       "      <td>2005-06-25</td>\n",
       "      <td>105</td>\n",
       "      <td>David</td>\n",
       "      <td>Austin</td>\n",
       "    </tr>\n",
       "    <tr>\n",
       "      <td>2005-09-28</td>\n",
       "      <td>110</td>\n",
       "      <td>John</td>\n",
       "      <td>Chen</td>\n",
       "    </tr>\n",
       "    <tr>\n",
       "      <td>2005-09-30</td>\n",
       "      <td>111</td>\n",
       "      <td>Ismael</td>\n",
       "      <td>Sciarra</td>\n",
       "    </tr>\n",
       "    <tr>\n",
       "      <td>2005-12-24</td>\n",
       "      <td>116</td>\n",
       "      <td>Shelli</td>\n",
       "      <td>Baida</td>\n",
       "    </tr>\n",
       "    <tr>\n",
       "      <td>2005-07-24</td>\n",
       "      <td>117</td>\n",
       "      <td>Sigal</td>\n",
       "      <td>Tobias</td>\n",
       "    </tr>\n",
       "  </tbody>\n",
       "</table>\n",
       "</div>"
      ],
      "text/plain": [
       "            emp_id first_name last_name\n",
       "hire_date                              \n",
       "2005-09-21     101      Neena   Kochhar\n",
       "2005-06-25     105      David    Austin\n",
       "2005-09-28     110       John      Chen\n",
       "2005-09-30     111     Ismael   Sciarra\n",
       "2005-12-24     116     Shelli     Baida\n",
       "2005-07-24     117      Sigal    Tobias"
      ]
     },
     "execution_count": 132,
     "metadata": {},
     "output_type": "execute_result"
    }
   ],
   "source": [
    "import pandas as pd \n",
    "import numpy as np \n",
    "df = pd.read_excel(r'C:\\Users\\talk2\\Documents\\employee.xlsx') \n",
    "df2 = df.set_index(['hire_date']) \n",
    "result = df2[\"2005\"] \n",
    "result"
   ]
  },
  {
   "cell_type": "markdown",
   "metadata": {},
   "source": [
    "Q121. Write a pandas program to import three datasheets from a given\n",
    "      excel data (coalpublic2013.xlsx ) in to a single dataframe."
   ]
  },
  {
   "cell_type": "code",
   "execution_count": 134,
   "metadata": {
    "scrolled": true
   },
   "outputs": [
    {
     "name": "stdout",
     "output_type": "stream",
     "text": [
      "    emp_id   first_name    last_name  hire_date\n",
      "0      100       Steven         King 2003-06-17\n",
      "1      101        Neena      Kochhar 2005-09-21\n",
      "2      102          Lex      De Haan 2001-01-13\n",
      "3      103    Alexander       Hunold 2006-01-03\n",
      "4      104        Bruce        Ernst 2007-05-21\n",
      "5      105        David       Austin 2005-06-25\n",
      "6      106        Valli    Pataballa 2006-02-05\n",
      "7      107        Diana      Lorentz 2007-02-07\n",
      "8      108        Nancy    Greenberg 2002-08-17\n",
      "9      109       Daniel       Faviet 2002-08-16\n",
      "10     110         John         Chen 2005-09-28\n",
      "11     111       Ismael      Sciarra 2005-09-30\n",
      "12     112  Jose Manuel        Urman 2006-03-07\n",
      "13     113         Luis         Popp 2007-12-07\n",
      "14     114          Den     Raphaely 2002-12-07\n",
      "15     115    Alexander         Khoo 2003-05-18\n",
      "16     116       Shelli        Baida 2005-12-24\n",
      "17     117        Sigal       Tobias 2005-07-24\n",
      "18     118          Guy       Himuro 2006-11-15\n",
      "19     119        Karen   Colmenares 2007-08-10\n",
      "0      120      Matthew        Weiss 2004-07-18\n",
      "1      121         Adam        Fripp 2005-04-10\n",
      "2      122        Payam     Kaufling 2003-05-01\n",
      "3      123       Shanta      Vollman 2005-10-10\n",
      "4      124        Kevin      Mourgos 2007-11-16\n",
      "5      125        Julia        Nayer 2005-07-16\n",
      "6      126        Irene  Mikkilineni 2006-09-28\n",
      "7      127        James       Landry 2007-01-14\n",
      "8      128       Steven       Markle 2008-03-08\n",
      "9      129        Laura       Bissot 2005-08-20\n",
      "10     130        Mozhe     Atkinson 2005-10-30\n",
      "11     131        James       Marlow 2005-02-16\n",
      "12     132           TJ        Olson 2007-04-10\n",
      "13     133        Jason       Mallin 2004-06-14\n",
      "14     134      Michael       Rogers 2006-08-26\n",
      "15     135           Ki          Gee 2007-12-12\n",
      "16     136        Hazel   Philtanker 2008-02-06\n",
      "17     137       Renske       Ladwig 2003-07-14\n",
      "18     138      Stephen       Stiles 2005-10-26\n",
      "0      141       Trenna         Rajs 2003-10-17\n",
      "1      142       Curtis       Davies 2005-01-29\n",
      "2      143      Randall        Matos 2006-03-15\n",
      "3      144        Peter       Vargas 2006-07-09\n",
      "4      145         John      Russell 2004-10-01\n",
      "5      146        Karen     Partners 2005-01-05\n",
      "6      147      Alberto    Errazuriz 2005-03-10\n",
      "7      148       Gerald    Cambrault 2007-10-15\n",
      "8      149        Eleni      Zlotkey 2008-01-29\n"
     ]
    }
   ],
   "source": [
    "import pandas as pd \n",
    "import numpy as np \n",
    "df1 = pd.read_excel(r'C:\\Users\\talk2\\Documents\\employee.xlsx',sheet_name=0)\n",
    "df2 = pd.read_excel(r'C:\\Users\\talk2\\Documents\\employee.xlsx',sheet_name=1)\n",
    "df3 = pd.read_excel(r'C:\\Users\\talk2\\Documents\\employee.xlsx',sheet_name=2)\n",
    "df= pd.concat([df1,df2,df3])\n",
    "print(df)"
   ]
  },
  {
   "cell_type": "markdown",
   "metadata": {},
   "source": [
    "Q 122. Write a pandas program to import three datasheets from a given\n",
    "       excel data (employee.xlsx ) into a single data frame and export the\n",
    "       result into new Excel file.\n"
   ]
  },
  {
   "cell_type": "code",
   "execution_count": 135,
   "metadata": {},
   "outputs": [],
   "source": [
    "import pandas as pd \n",
    "import numpy as np \n",
    "df1 = pd.read_excel(r'C:\\Users\\talk2\\Documents\\employee.xlsx',sheet_name=0)\n",
    "df2 = pd.read_excel(r'C:\\Users\\talk2\\Documents\\employee.xlsx',sheet_name=1)\n",
    "df3 = pd.read_excel(r'C:\\Users\\talk2\\Documents\\employee.xlsx',sheet_name=2)\n",
    "df=pd.concat([df1,df2,df3])\n",
    "df.to_excel(r'C:\\Users\\talk2\\Documents\\employee1.xlsx',index=False)"
   ]
  },
  {
   "cell_type": "markdown",
   "metadata": {},
   "source": [
    "Q123. Write a pandas program to create the Pivot table with multiple\n",
    "      indexes from the data set of the titanic.csv."
   ]
  },
  {
   "cell_type": "code",
   "execution_count": 185,
   "metadata": {
    "scrolled": true
   },
   "outputs": [
    {
     "name": "stdout",
     "output_type": "stream",
     "text": [
      "              Unnamed: 15  adult_male  alone      fare  parch  pclass  sibsp  survived\n",
      "sex    age                                                                            \n",
      "female 0.75           0.0         0.0    0.0   38.5166      2       6      4         2\n",
      "       1.00           0.0         0.0    0.0   26.8750      3       6      1         2\n",
      "       2.00           0.0         0.0    0.0  259.4750      9      15      9         2\n",
      "       3.00           0.0         0.0    0.0   62.6542      3       5      4         1\n",
      "       4.00           0.0         0.0    0.0  114.1417      6      13      4         5\n",
      "       5.00           0.0         0.0    1.0   90.8708      5      11      7         4\n",
      "       6.00           0.0         0.0    0.0   64.2750      3       5      4         1\n",
      "       7.00           0.0         0.0    0.0   26.2500      2       2      0         1\n",
      "       8.00           0.0         0.0    0.0   47.3250      3       5      3         1\n",
      "       9.00           0.0         0.0    0.0  108.7958      7      12     10         0\n",
      "       10.00          0.0         0.0    0.0   24.1500      2       3      0         0\n",
      "       11.00          0.0         0.0    0.0   31.2750      2       3      4         0\n",
      "       13.00          0.0         0.0    1.0   26.7292      1       5      0         2\n",
      "       14.00          0.0         0.0    1.0  169.1667      2       9      3         3\n",
      "       14.50          0.0         0.0    0.0   14.4542      0       3      1         0\n",
      "       15.00          0.0         0.0    2.0  241.0459      1      10      1         4\n",
      "       16.00          0.0         0.0    3.0  246.2625      4      12      5         5\n",
      "       17.00          0.0         0.0    3.0  210.7833      2      12      6         5\n",
      "       18.00          0.0         0.0    4.0  697.0167      9      31      6         8\n",
      "       19.00          0.0         0.0    3.0  215.0959      2      13      3         7\n",
      "       20.00          0.0         0.0    1.0   18.4875      0       6      1         0\n",
      "       21.00          0.0         0.0    4.0  410.4333      4      16      5         4\n",
      "       22.00          0.0         0.0    7.0  444.1084      6      26      3        10\n",
      "       23.00          0.0         0.0    3.0  405.5417      2      10      4         4\n",
      "       24.00          0.0         0.0    7.0  772.1708     15      31     10        14\n",
      "       25.00          0.0         0.0    1.0  223.2500      4      11      3         2\n",
      "       26.00          0.0         0.0    3.0  136.7292      1      12      2         3\n",
      "       27.00          0.0         0.0    2.0   76.8916      3      15      2         5\n",
      "       28.00          0.0         0.0    4.0  110.9458      1      16      3         5\n",
      "       29.00          0.0         0.0    2.0  320.6208      7      16      3         5\n",
      "       30.00          0.0         0.0    9.0  465.9917      1      20      4         9\n",
      "       30.50          0.0         0.0    1.0    7.7500      0       3      0         0\n",
      "       31.00          0.0         0.0    2.0  359.4542      4      16      4         5\n",
      "       32.00          0.0         0.0    2.0  104.7917      1       6      1         2\n",
      "       32.50          0.0         0.0    1.0   13.0000      0       2      0         1\n",
      "       33.00          0.0         0.0    1.0  299.2000      4      10      6         6\n",
      "       34.00          0.0         0.0    2.0   79.0000      2       8      1         4\n",
      "       35.00          0.0         0.0    3.0  967.7875      1      11      5         8\n",
      "       36.00          0.0         0.0    3.0  396.0333      4      12      3         7\n",
      "       37.00          0.0         0.0    1.0    9.5875      0       3      0         0\n",
      "       38.00          0.0         0.0    3.0  423.1958      5       8      2         4\n",
      "       39.00          0.0         0.0    0.0  389.9916     13      10      5         4\n",
      "       40.00          0.0         0.0    3.0  365.1875      2      11      3         5\n",
      "       41.00          0.0         0.0    1.0  213.9000      8       9      0         2\n",
      "       42.00          0.0         0.0    2.0  266.5250      0       5      1         3\n",
      "       43.00          0.0         0.0    0.0  258.2375      7       4      1         1\n",
      "       44.00          0.0         0.0    1.0  111.7000      1       4      1         2\n",
      "       45.00          0.0         0.0    2.0  254.7209      7      14      3         3\n",
      "       47.00          0.0         0.0    0.0   67.0542      1       4      2         1\n",
      "       48.00          0.0         0.0    1.0  164.9042      5       7      3         3\n",
      "       49.00          0.0         0.0    1.0  102.6584      0       2      1         2\n",
      "       50.00          0.0         0.0    3.0  323.2333      2       8      0         4\n",
      "       51.00          0.0         0.0    0.0   77.9583      0       1      1         1\n",
      "       52.00          0.0         0.0    0.0  171.7667      1       2      2         2\n",
      "       53.00          0.0         0.0    0.0   51.4792      0       1      2         1\n",
      "       54.00          0.0         0.0    0.0  160.6667      3       4      3         3\n",
      "       55.00          0.0         0.0    1.0   16.0000      0       2      0         1\n",
      "       56.00          0.0         0.0    0.0   83.1583      1       1      0         1\n",
      "       57.00          0.0         0.0    1.0   10.5000      0       2      0         0\n",
      "       58.00          0.0         0.0    2.0  326.5333      1       3      0         3\n",
      "       60.00          0.0         0.0    0.0   75.2500      0       1      1         1\n",
      "       62.00          0.0         0.0    1.0   80.0000      0       1      0         1\n",
      "       63.00          0.0         0.0    1.0   87.5458      0       4      1         2\n",
      "male   0.42           0.0         0.0    0.0    8.5167      1       3      0         1\n",
      "       0.67           0.0         0.0    0.0   14.5000      1       2      1         1\n",
      "       0.83           0.0         0.0    0.0   47.7500      3       4      1         2\n",
      "       0.92           0.0         0.0    0.0  151.5500      2       1      1         1\n",
      "       1.00           0.0         0.0    0.0  183.1667      8      13     12         3\n",
      "       2.00           0.0         0.0    0.0  115.8875      4      11     12         1\n",
      "       3.00           0.0         0.0    0.0   92.0375      5      10      7         4\n",
      "       4.00           0.0         0.0    0.0  181.2916      8      13     12         2\n",
      "       6.00           0.0         0.0    0.0   12.4750      1       3      0         1\n",
      "       7.00           0.0         0.0    0.0   68.8125      2       6      8         0\n",
      "       8.00           0.0         0.0    0.0   65.8750      2       5      5         1\n",
      "       9.00           0.0         0.0    0.0  114.7125      7      12     10         2\n",
      "       10.00          0.0         0.0    0.0   27.9000      2       3      3         0\n",
      "       11.00          0.0         0.0    1.0  185.6875      4       7      6         1\n",
      "       12.00          0.0         0.0    0.0   11.2417      0       3      1         1\n",
      "       14.00          0.0         0.0    0.0   86.5875      3       6      9         0\n",
      "       15.00          0.0         0.0    0.0    7.2292      1       3      1         0\n",
      "       16.00          0.0        11.0    7.0  191.4042      5      31      8         1\n",
      "       17.00          0.0         7.0    4.0  158.2792      3      19      2         1\n",
      "       18.00          0.0        13.0    9.0  292.6333      2      33      4         1\n",
      "       19.00          0.0        18.0   15.0  481.6415      3      46      5         2\n",
      "       20.00          0.0        13.0   11.0  110.8751      1      39      2         3\n",
      "       20.50          0.0         1.0    1.0    7.2500      0       3      0         0\n",
      "       21.00          0.0        17.0   14.0  347.1416      1      46      3         1\n",
      "       22.00          0.0        15.0   14.0  244.5207      0      43      1         1\n",
      "       23.00          0.0        10.0    8.0  164.3791      2      22      2         1\n",
      "       23.50          0.0         1.0    1.0    7.2292      0       3      0         0\n",
      "       24.00          0.0        14.0   10.0  518.8999      1      35      5         1\n",
      "       24.50          0.0         1.0    1.0    8.0500      0       3      0         0\n",
      "       25.00          0.0        18.0   11.0  338.3126      2      45      7         4\n",
      "       26.00          0.0        13.0    9.0  206.8333      2      36      5         3\n",
      "       27.00          0.0        12.0    9.0  469.6125      2      25      2         6\n",
      "       28.00          0.0        18.0   14.0  414.5582      1      42      4         2\n",
      "       28.50          0.0         2.0    2.0   23.3292      0       6      0         0\n",
      "       29.00          0.0        13.0    9.0  221.1957      0      32      4         3\n",
      "       30.00          0.0        14.0   12.0  172.5500      0      35      2         1\n",
      "       30.50          0.0         1.0    1.0    8.0500      0       3      0         0\n",
      "       31.00          0.0        10.0    6.0  269.7000      2      20      4         3\n",
      "       32.00          0.0        15.0   12.0  333.0291      0      40      4         7\n",
      "       32.50          0.0         1.0    0.0   30.0708      0       2      1         0\n",
      "       33.00          0.0         9.0    8.0   88.1833      1      24      1         0\n",
      "       34.00          0.0        11.0    7.0  170.5458      1      25      4         2\n",
      "       34.50          0.0         1.0    1.0    6.4375      0       3      0         0\n",
      "       35.00          0.0        10.0   10.0  639.8375      0      22      0         3\n",
      "       36.00          0.0        15.0    9.0  923.1958      6      29      5         4\n",
      "       36.50          0.0         1.0    0.0   26.0000      2       2      0         0\n",
      "       37.00          0.0         5.0    0.0  169.2792      2       8      5         1\n",
      "       38.00          0.0         6.0    4.0  267.0708      1      12      1         1\n",
      "       39.00          0.0         8.0    7.0  123.2750      5      19      1         1\n",
      "       40.00          0.0         7.0    5.0  117.2416      5      15      2         1\n",
      "       40.50          0.0         2.0    1.0   22.2500      2       6      0         0\n",
      "       41.00          0.0         2.0    1.0   21.2333      0       6      2         0\n",
      "       42.00          0.0        10.0    6.0  216.1084      1      21      3         3\n",
      "       43.00          0.0         3.0    2.0   40.7500      1       8      1         0\n",
      "       44.00          0.0         6.0    3.0  156.1250      1      15      3         1\n",
      "       45.00          0.0         6.0    5.0  187.1000      0      10      1         2\n",
      "       45.50          0.0         2.0    2.0   35.7250      0       4      0         0\n",
      "       46.00          0.0         3.0    2.0  166.3750      0       4      1         0\n",
      "       47.00          0.0         7.0    7.0  181.3583      0      12      0         0\n",
      "       48.00          0.0         5.0    3.0  176.1334      0       8      2         3\n",
      "       49.00          0.0         4.0    1.0  256.9167      1       6      3         2\n",
      "       50.00          0.0         5.0    2.0  317.0250      0       8      4         1\n",
      "       51.00          0.0         6.0    5.0  123.3084      1      13      0         1\n",
      "       52.00          0.0         4.0    3.0  136.6500      1       6      1         1\n",
      "       54.00          0.0         5.0    3.0  195.1500      1       8      1         0\n",
      "       55.00          0.0         1.0    1.0   30.5000      0       1      0         0\n",
      "       55.50          0.0         1.0    1.0    8.0500      0       3      0         0\n",
      "       56.00          0.0         3.0    3.0   92.7458      0       3      0         1\n",
      "       57.00          0.0         1.0    1.0   12.3500      0       2      0         0\n",
      "       58.00          0.0         2.0    1.0  142.9750      2       2      0         0\n",
      "       59.00          0.0         2.0    2.0   20.7500      0       5      0         0\n",
      "       60.00          0.0         3.0    1.0  144.7500      2       4      2         1\n",
      "       61.00          0.0         3.0    3.0   72.0583      0       5      0         0\n",
      "       62.00          0.0         3.0    3.0   63.6000      0       4      0         1\n",
      "       64.00          0.0         2.0    1.0  289.0000      4       2      1         0\n",
      "       65.00          0.0         3.0    2.0   96.2792      1       5      0         0\n",
      "       66.00          0.0         1.0    1.0   10.5000      0       2      0         0\n",
      "       70.00          0.0         2.0    1.0   81.5000      1       3      1         0\n",
      "       70.50          0.0         1.0    1.0    7.7500      0       3      0         0\n",
      "       71.00          0.0         2.0    2.0   84.1584      0       2      0         0\n",
      "       74.00          0.0         1.0    1.0    7.7750      0       3      0         0\n",
      "       80.00          0.0         1.0    1.0   30.0000      0       1      0         1\n"
     ]
    }
   ],
   "source": [
    "import pandas as pd \n",
    "import numpy as np \n",
    "df = pd.read_csv(r'C:\\Users\\talk2\\Documents\\titanic.csv') \n",
    "result = pd.pivot_table(df, index = [\"sex\",\"age\"], aggfunc=np.sum) \n",
    "print(result)\n",
    " "
   ]
  },
  {
   "cell_type": "markdown",
   "metadata": {},
   "source": [
    "Q124. Write a Pandas program to create the Pivot table and find survival\n",
    "      rate by gender"
   ]
  },
  {
   "cell_type": "code",
   "execution_count": 186,
   "metadata": {
    "scrolled": true
   },
   "outputs": [
    {
     "name": "stdout",
     "output_type": "stream",
     "text": [
      "        survived\n",
      "sex             \n",
      "female  0.742038\n",
      "male    0.188908\n"
     ]
    }
   ],
   "source": [
    "import pandas as pd \n",
    "import numpy as np \n",
    "df = pd.read_csv(r'C:\\Users\\talk2\\Documents\\titanic.csv') \n",
    "result = df.groupby('sex')[['survived']].mean()\n",
    "print(result)"
   ]
  },
  {
   "cell_type": "markdown",
   "metadata": {},
   "source": [
    "Q125. Write a pandas program to make partition each of the passengers\n",
    "      into 4 categories based on their age.\n"
   ]
  },
  {
   "cell_type": "code",
   "execution_count": 187,
   "metadata": {},
   "outputs": [
    {
     "name": "stdout",
     "output_type": "stream",
     "text": [
      "0      (10.0, 30.0]\n",
      "1      (30.0, 60.0]\n",
      "2      (10.0, 30.0]\n",
      "3      (30.0, 60.0]\n",
      "4      (30.0, 60.0]\n",
      "           ...     \n",
      "886    (10.0, 30.0]\n",
      "887    (10.0, 30.0]\n",
      "888             NaN\n",
      "889    (10.0, 30.0]\n",
      "890    (30.0, 60.0]\n",
      "Name: age, Length: 891, dtype: category\n",
      "Categories (4, interval[int64]): [(0, 10] < (10, 30] < (30, 60] < (60, 80]]\n"
     ]
    }
   ],
   "source": [
    "import pandas as pd \n",
    "import numpy as np \n",
    "df = pd.read_csv(r'C:\\Users\\talk2\\Documents\\titanic.csv')\n",
    "result = pd.cut(df['age'], [0, 10, 30, 60, 80]) \n",
    "print(result)\n"
   ]
  },
  {
   "cell_type": "markdown",
   "metadata": {},
   "source": [
    "Q126. Write a pandas program to create the Pivot table and find survival\n",
    "      rate by the gender, age of the different categories of various\n",
    "      classes."
   ]
  },
  {
   "cell_type": "code",
   "execution_count": 248,
   "metadata": {},
   "outputs": [
    {
     "name": "stdout",
     "output_type": "stream",
     "text": [
      "class               First    Second     Third\n",
      "sex    age                                   \n",
      "female (0, 20]   0.928571  1.000000  0.510638\n",
      "       (20, 55]  0.968750  0.912281  0.407407\n",
      "male   (0, 20]   0.571429  0.526316  0.197368\n",
      "       (20, 55]  0.440000  0.054054  0.134503\n"
     ]
    }
   ],
   "source": [
    "import pandas as pd \n",
    "import numpy as np \n",
    "df = pd.read_csv(r'C:\\Users\\talk2\\Documents\\titanic.csv') \n",
    "age = pd.cut(df['age'], [0, 20, 55]) \n",
    "result = df.pivot_table('survived', index=['sex', age], columns='class') \n",
    "print(result)"
   ]
  },
  {
   "cell_type": "markdown",
   "metadata": {},
   "source": [
    "Q127. Write a pandas program to create the Pivot table and calculate\n",
    "      number of women and men were in a particular cabin class."
   ]
  },
  {
   "cell_type": "code",
   "execution_count": 189,
   "metadata": {},
   "outputs": [
    {
     "name": "stdout",
     "output_type": "stream",
     "text": [
      "       Unnamed: 15       adult_male            age          alive           alone           class           deck        embark_town           embarked           fare           parch           sibsp           survived            who          \n",
      "pclass           1  2  3          1    2    3    1   2    3     1    2    3     1    2    3     1    2    3    1   2  3           1    2    3        1    2    3    1    2    3     1    2    3     1    2    3        1    2    3    1    2    3\n",
      "sex                                                                                                                                                                                                                                              \n",
      "female           0  0  0         94   76  144   85  74  102    94   76  144    94   76  144    94   76  144   81  10  6          92   76  144       92   76  144   94   76  144    94   76  144    94   76  144       94   76  144   94   76  144\n",
      "male             0  0  0        122  108  347  101  99  253   122  108  347   122  108  347   122  108  347   94   6  6         122  108  347      122  108  347  122  108  347   122  108  347   122  108  347      122  108  347  122  108  347\n"
     ]
    }
   ],
   "source": [
    "import pandas as pd \n",
    "import numpy as np \n",
    "df = pd.read_csv(r'C:\\Users\\talk2\\Documents\\titanic.csv')\n",
    "result = df.pivot_table(index=['sex'], columns=['pclass'], aggfunc='count')\n",
    "print(result)"
   ]
  },
  {
   "cell_type": "markdown",
   "metadata": {},
   "source": [
    "Q128. Write a pandas program to create the Pivot table and separate\n",
    "      the gender according to whether they travelled alone or not to get\n",
    "      the probability of survival"
   ]
  },
  {
   "cell_type": "code",
   "execution_count": 190,
   "metadata": {},
   "outputs": [
    {
     "name": "stdout",
     "output_type": "stream",
     "text": [
      "class            First    Second     Third\n",
      "sex    alone                              \n",
      "female False  0.966667  0.931818  0.416667\n",
      "       True   0.970588  0.906250  0.616667\n",
      "male   False  0.425532  0.277778  0.180723\n",
      "       True   0.333333  0.097222  0.121212\n"
     ]
    }
   ],
   "source": [
    "import pandas as pd \n",
    "import numpy as np \n",
    "df = pd.read_csv(r'C:\\Users\\talk2\\Documents\\titanic.csv')\n",
    "result = df.pivot_table('survived',['sex','alone'],'class')\n",
    "print(result)"
   ]
  },
  {
   "cell_type": "markdown",
   "metadata": {},
   "source": [
    "Q129. Write a pandas program to create the Pivot table and find the\n",
    "      probability of survival by class, gender, solo boarding, and the port\n",
    "      of embarkation."
   ]
  },
  {
   "cell_type": "code",
   "execution_count": 191,
   "metadata": {},
   "outputs": [
    {
     "name": "stdout",
     "output_type": "stream",
     "text": [
      "embark_town  Cherbourg                     Queenstown                  Southampton                    \n",
      "class            First    Second     Third      First Second     Third       First    Second     Third\n",
      "sex    alone                                                                                          \n",
      "female False  1.000000  1.000000  0.611111        1.0    NaN  0.625000    0.941176  0.923077  0.327586\n",
      "       True   0.944444  1.000000  0.800000        NaN    1.0  0.760000    1.000000  0.892857  0.466667\n",
      "male   False  0.473684  0.166667  0.500000        0.0    NaN  0.100000    0.407407  0.300000  0.142857\n",
      "       True   0.347826  0.250000  0.151515        NaN    0.0  0.068966    0.326923  0.089552  0.123762\n"
     ]
    }
   ],
   "source": [
    "import pandas as pd\n",
    "import numpy as np\n",
    "df = pd.read_csv(r'C:\\Users\\talk2\\Documents\\titanic.csv') \n",
    "result = df.pivot_table('survived', ['sex','alone'], [ 'embark_town', 'class' ]) \n",
    "print(result) "
   ]
  },
  {
   "cell_type": "markdown",
   "metadata": {},
   "source": [
    "Q130. Write a pandas program to get current date, oldest date and\n",
    "      number of days between Current date and the oldest date of Ufo\n",
    "      dataset"
   ]
  },
  {
   "cell_type": "code",
   "execution_count": 232,
   "metadata": {},
   "outputs": [
    {
     "name": "stdout",
     "output_type": "stream",
     "text": [
      "\n",
      "Current date of Ufo dataset:\n",
      "2014-06-06 00:00:00\n",
      "\n",
      "Oldest date of Ufo dataset:\n",
      "1906-11-11 00:00:00\n",
      "\n",
      "Number of days between Current date and oldest date of Ufo dataset:\n",
      "39289\n"
     ]
    }
   ],
   "source": [
    "import pandas as pd \n",
    "df = pd.read_csv(r'C:\\Users\\talk2\\Documents\\ufo.csv') \n",
    "df['Date_time'] = df['Date_time'].astype('datetime64[ns]') \n",
    "print(\"\\nCurrent date of Ufo dataset:\") \n",
    "print(df.Date_time.max()) \n",
    "print(\"\\nOldest date of Ufo dataset:\") \n",
    "print(df.Date_time.min()) \n",
    "print(\"\\nNumber of days between Current date and oldest date of Ufo dataset:\") \n",
    "print((df.Date_time.max() - df.Date_time.min()).days) "
   ]
  },
  {
   "cell_type": "markdown",
   "metadata": {},
   "source": [
    "Q131. Write a pandas program to get all sighting days of the\n",
    "      unidentified flying object (ufo) between 1950-10-10 and 1960-10-\n",
    "      10.\n"
   ]
  },
  {
   "cell_type": "code",
   "execution_count": 233,
   "metadata": {},
   "outputs": [
    {
     "name": "stdout",
     "output_type": "stream",
     "text": [
      "\n",
      "Sighting days of the unidentified flying object (ufo) between 1949-10-10 and 1960-10-10:\n",
      "                Date_time                                               city state/province country  UFO_shape length_of_encounter_seconds described_duration_of_encounter                                        description date_documented    latitude   longitude\n",
      "2     1955-10-10 17:00:00                               chester (uk/england)            NaN      gb     circle                          20                      20 seconds  Green/Orange circular disc over Chester&#44 En...       1/21/2008        53.2   -2.916667\n",
      "3     1956-10-10 21:00:00                                               edna             tx      us     circle                          20                        1/2 hour  My older brother and twin sister were leaving ...       1/17/2004  28.9783333  -96.645833\n",
      "4     1960-10-10 20:00:00                                            kaneohe             hi      us      light                         900                      15 minutes  AS a Marine 1st Lt. flying an FJ4B fighter/att...       1/22/2004  21.4180556 -157.803611\n",
      "479   1950-10-01 11:00:00                                          pikeville             ky      us       disk                         600                              hr        SEVENTY SOME  FLYING DISK OBSERVED IN  1950       4/16/2005  37.4791667  -82.518889\n",
      "480   1952-10-01 03:30:00                                    fukuoka (japan)            NaN     NaN       disk                        1200                   about 20 mins  UFO seen by multiple U. S. military personnel;...       12/7/2006   33.590355  130.401716\n",
      "481   1952-10-01 12:00:00                                        kansas city             mo      us       disk                          90                         90 sec.  1952 daylight sighting of multiple discs in fo...      10/31/2008  39.0997222  -94.578333\n",
      "482   1954-10-01 19:00:00                                          flatwoods             wv      us     circle                          60                        1 minute  I saw the craft go across the horizon.  It app...       4/12/2013  38.7230556  -80.650000\n",
      "483   1955-10-01 22:00:00                                   mono lake (area)             ca     NaN     circle                           5                 five seconds+/-  NO KNOWN AIRCRAFT (1955 and maybe today) COULD...       3/19/2009   38.007059 -119.012259\n",
      "484   1956-10-01 19:00:00                                            newport             nh      us  rectangle                         300                       5 minutes  Disk with glass center section&#44 and flames ...       4/16/2005  43.3652778  -72.173889\n",
      "485   1957-10-01 16:00:00                                    nelchina (near)             ak      us    unknown                         180               3 minutes maximum  This incident occurred about October of 1956 o...       12/7/2006  61.9919444 -146.768611\n",
      "486   1957-10-01 21:00:00                                           paterson             nj      us       disk                          10                      10 seconds  Formation of approximately 8 light gray metall...       4/16/2005  40.9166667  -74.172222\n",
      "487   1957-10-01 22:00:00                                 northeast cape afs             ak     NaN        NaN                         900                        10-15min                         Radar sighting and filming       1/28/1999   70.292489 -161.903334\n",
      "488   1959-10-01 19:00:00                                       jacksonville             il      us    unknown                          60                        1 minute  Late 1959&#44 bright lights from a hovering ob...       4/16/2005  39.7338889  -90.228889\n",
      "1707  1950-10-15 15:00:00                               sandy hook/highlands             nj     NaN   triangle                         300                       5 minutes                Triangles over New York Harbor 1950      10/30/2006   40.443164  -73.989861\n",
      "1708  1952-10-15 21:00:00                                           richland             wa      us     circle                           5                       5 seconds  Night sighting of seven large luminous UFOs fl...      11/21/2010  46.2858333 -119.283333\n",
      "1710  1953-10-15 14:00:00                                       mauriceville             tx      us       disk                         300                          5 min.  My father was a WWW1 Vet. and loved hunting. T...       11/4/2002  30.2033333  -93.866111\n",
      "1711  1954-10-15 16:30:00                                             blanco             tx      us      other                         300                        3-5 mins  We saw a silver football&#44 motionless in the...       4/27/2004  30.0977778  -98.421111\n",
      "1712  1954-10-15 21:30:00                                           manistee             mi      us     circle                           8                       8 seconds  Saucer shaped&#44 moved north to south directl...       1/21/2008  44.2444444  -86.324167\n",
      "1713  1955-10-15 20:00:00                                          rhinebeck             ny      us      light                        2400                      40 minutes  This very distant star-like point of light cam...       7/19/2010  41.9266667  -73.913056\n",
      "1714  1956-10-15 01:00:00                         mechra bel ksire (morocco)            NaN     NaN    unknown                         300               approx. 5 minutes  Air Defense radar reflected an object with gre...       4/16/2005       34.56   -5.950000\n",
      "1715  1956-10-15 21:30:00                                         mt. vernon             in     NaN       disk                           8                  7 to 8 seconds  Clear night observation of lumenescent object ...       7/11/2000   37.932266  -87.895027\n",
      "1716  1957-10-15 02:00:00                             new york city (queens)             ny      us        NaN                       10800                         2x3 hrs  tall unidentified being enters home - N.Y.C. 1957       3/21/2003  40.7141667  -74.006389\n",
      "1717  1957-10-15 20:30:00                            houston (ellington afb)             tx      us      light                           3                       3 seconds  5 to 6&quot; diameter light&#44 extremely fast...       9/17/2000  29.7630556  -95.363056\n",
      "1718  1957-10-15 22:00:00                       commerce city (n. of denver)             co      us   fireball                         600                         10 min.                       A lot of methane gas in area       9/19/2002  39.8083333 -104.933333\n",
      "1719  1959-10-15 00:00:00                                         marysville             wa      us      other                          75                            1:15                             UFO  Over  Golf Course       4/27/2007  48.0519444 -122.175833\n",
      "2280  1959-10-16 22:30:00                                        four states             wv      us     sphere                         600                      10 minutes   MYSTERIOUS RED LIGHTS  IN NORTHERN WEST VIRGINIA       3/31/2008  39.4797222  -80.310000\n",
      "3088  1958-10-20 21:00:00                                           st. paul             mn      us      other                           2                       2 seconds  A dull-orange craft sped southbound at low alt...       3/16/2000  44.9444444  -93.093056\n",
      "4428  1958-10-25 20:00:00                                         terrebonne             or      us    unknown                         120                     1-2 minutes                          Piercing&#44 shrill tone.        8/5/2012  44.3530556 -121.176667\n",
      "5413  1958-10-30 01:00:00                                          riverside             il      us      light                         600                  10 minutes (?)  Chicago suburbs&#44 strange lights and figures...       4/27/2007      41.835  -87.822778\n",
      "5636  1953-10-31 19:00:00                                        new orleans             la      us       oval                           2                         seconds                  20+ ovals flying over New Orleans        9/2/2005  29.9544444  -90.075000\n",
      "6020  1955-10-03 06:00:00                            stanley (near) (canada)             nb      ca       disk                        7200                         2 hours                This is a true story as given to me       4/16/2005   55.416667 -104.550000\n",
      "6414  1957-10-05 19:00:00                                           st. paul             mn      us      light                          45                         45 secs  A bright light was apparently chased by severa...       3/16/2000  44.9444444  -93.093056\n",
      "7200  1955-10-09 18:00:00                                        west covina             ca      us        NaN                           4                           4 sec  Brilliant green meteor heading north west from...       1/22/2004       34.09 -117.889444\n",
      "7408  1959-01-10 18:30:00                                south san francisco             ca      us       disk                         120                       2 minutes  Its was approximately 6:30pm&#44 I was sitting...       4/27/2004  37.6547222 -122.406667\n",
      "7627  1957-11-10 17:00:00                                            teaneck             nj      us   cylinder                         120                       2 minutes  Cylinder UFO followed by disc seen in fall of ...       2/24/2005     40.8975  -74.016389\n",
      "7628  1957-11-10 19:00:00                                     corpus christi             tx      us      light                         600                      10 minutes  UFO over Corpus Christi near naval yard on Nov...      10/31/2003  27.8002778  -97.396111\n",
      "7864  1959-11-11 20:00:00                                             starke             fl      us     sphere                        1800                           30min                              UFO OVER JACKSONVILLE      11/11/2003  29.9438889  -82.110000\n",
      "7865  1960-11-11 02:00:00                           sumner (lake tapps area)             wa      us     sphere                          30                      30 seconds  Sphere with Spikes over Lake Tapps traveling W...       8/28/2003  47.2033333 -122.239167\n",
      "8080  1954-11-01 18:30:00                                             denver             co      us   fireball                          10                      10 seconds  I was approximately 12 years old when I saw th...        8/5/2001  39.7391667 -104.984167\n",
      "8840  1953-11-13 20:00:00                                             cicero             il      us      other                         120                       2 minutes  Triangular formation passing over head just we...       1/21/2008  41.8455556  -87.753889\n",
      "9045  1954-11-14 01:00:00                                  thelma (south of)             tx      us       disk                         300                       5 minutes  11/14/1954   WHILE HUNTING OBJECT CIRCLED&#44 ...        9/2/2005  31.5830556  -96.610833\n",
      "9273  1951-11-15 06:00:00                                       holloman afb             nm     NaN     circle                          10                           10sec  What I saw was reported in the Albuquerque new...       3/21/2003     32.8525 -106.106389\n",
      "9274  1953-11-15 03:00:00                                          keansburg             nj      us     circle                         540                       9 minutes  In November&#44 1953&#44 at 0300&#44 a silvery...       8/12/2001  40.4416667  -74.130278\n",
      "9275  1956-11-15 18:30:00                                           aberdeen             sd      us     circle                         120                            2:00  Traveled south to north at a slow speed&#44(90...        8/5/2001  45.4647222  -98.486111\n",
      "9276  1958-11-15 22:30:00                                         greenville             ri      us       disk                         600                     ax. 10 min.  Five small disk or spherical-shaped objects me...       4/16/2005  41.8711111  -71.552500\n",
      "9277  1959-11-15 01:30:00                                          lafayette             in      us     circle                        1800                          30 min  Observed white object for about 20 minutes in ...       4/16/2005  40.4166667  -86.875278\n",
      "9278  1960-11-15 22:00:00                                        kansas city             ks      us    unknown                         300        5 min. (three occasions)  Two witnesses see ball of light come over hori...       1/17/2004  39.1141667  -94.627222\n",
      "10815 1953-01-01 14:00:00                              oklahoma/texas border             tx     NaN      cigar                         300                       5 minutes     Copper cigar-shaped object in early 1950&#39s.       3/31/2008   33.660135  -97.715556\n",
      "10817 1954-01-01 22:00:00                                         souix city             ia     NaN     circle                          30                      30 seconds  1954 Radar sighting&#44 Air Force base in Iowa...       4/16/2005   42.499994  -96.400307\n",
      "10818 1956-01-01 05:30:00                                            weirton             wv      us       disk                          10                      10 seconds  My Uncle Sam was driving to work very early on...        1/7/2000  40.4188889  -80.589722\n",
      "10819 1957-01-01 21:00:00                                             dallas             tx      us    unknown                          20                      20 seconds  I was flying the first of 4 USAF aircraft on a...       8/24/2004  32.7833333  -96.800000\n",
      "10820 1958-01-01 22:00:00                                                pep             tx      us   fireball                           2                            2sec  Green fire balls&#44 Texas Panhandle&#44 late ...      12/12/2009  33.8161111 -102.557778\n",
      "11718 1953-11-21 22:30:00                      pendleton (2-2 1/2 mi. se of)             in      us       disk                         180                   2 1/2- 3 min.  On a moonless&#44 star-lit night&#44  greenish...       11/8/2003     39.9975  -85.746667\n",
      "11876 1960-11-02 18:00:00                                           westbury             ny      us       disk                          60                        1 minute  Father Mother and son in car stopped in middle...      10/31/2003  40.7555556  -73.588056\n",
      "12856 1953-11-25 04:25:00  lackland air force base near aviation cadet ba...             tx     NaN       disk                         180                       3 minutes  When I was in preflight for pilot training at ...       12/2/2000   31.968599  -99.901813\n",
      "12857 1958-11-25 23:00:00                                          milwaukee             wi      us       disk                          10                      10 seconds  3 disk shaped lights swerving among each other...      12/12/2011  43.0388889  -87.906389\n",
      "14640 1960-01-15 22:00:00                                            bristol             va      us       disk                        1200                      20 minutes                        BURNING disc  sighting 1960       8/28/2003  36.5963889  -82.188611\n",
      "16651 1951-01-20 04:30:00                                       palm springs             ca      us      cigar                           3            one and a half hours  01/20/51     Palm Springs CA     light     hou...       5/15/2006  33.8302778 -116.544444\n",
      "16652 1958-01-20 22:43:00                                birchy bay (canada)             nf      ca       disk                         180                            3min  i couldn&#39t believe what i saw&#44 it was li...       2/24/2005   49.333333  -54.733333\n",
      "17223 1951-12-01 19:00:00                                 crewe (uk/england)            NaN      gb      cigar                          15                       15seconds  This was in the city&#44 I caught a movement o...       3/19/2002        53.1   -2.433333\n",
      "17224 1956-12-01 23:00:00                                           columbus             oh      us  formation                         240                     3-4 minutes  A &quot;V&quot;  shape set of lights either on...        7/3/2013  39.9611111  -82.998889\n",
      "17645 1950-12-12 22:00:00                                      half moon bay             ca      us      other                         600                      10 minutes  3 blips on a military radar screen flew off th...       6/12/2008  37.4636111 -122.427500\n",
      "18200 1954-12-15 23:10:00                                           red bank             nj      us     circle                         300                        3-5 min.  Bright orange light&#44 about the size of a pe...       8/19/2000  40.3469444  -74.064722\n",
      "18459 1954-12-16 16:50:00                                            yucaipa             ca      us       oval                          70                            1:10  Luminous oval over Yucaipa&#44 similar object ...      11/28/2007  34.0336111 -117.042222\n",
      "19046 1950-01-02 00:00:00                                      new york city             ny      us       oval                         900                           15min     good and true info. 500 Lights On Object0: Yes       4/27/2007  40.7141667  -74.006389\n",
      "19220 1959-12-20 18:30:00                                        los angeles             ca      us       disk                         600                      10 minutes  Silent&#44 Extreme Bright White Disc of Light&...       9/12/1999  34.0522222 -118.242778\n",
      "20952 1957-12-28 00:00:00                                            madison             wi      us      cigar                        3600                          1 hour  My mother and i worked as telephone swithcboar...        9/2/2005  43.0730556  -89.401111\n",
      "20953 1957-12-28 00:00:00                                            madison             wi      us      cigar                        3600                          1 hour  My mother and i worked as telephone swithcboar...       6/18/2004  43.0730556  -89.401111\n",
      "21284 1952-12-30 12:00:00                            camp mccoy (enroute to)             wi     NaN   cylinder                        1800                      30 minutes                             1951-2 winter sighting       1/10/2009   44.009855  -90.683212\n",
      "21285 1959-12-30 18:35:00                                          tehachapi             ca      us   fireball                          30                      30 seconds                     White fireball hitting ground.       2/21/2014  35.1322222 -118.448056\n",
      "22826 1952-12-06 19:00:00                                            chicago             il      us      other                          45                         45 sec.  Radar siting near Chicago- Dec. 1952. Object m...       2/18/2001       41.85  -87.650000\n",
      "25500 1952-02-10 21:00:00                                         binghamton             ny      us       disk                         900                   10-15 minutes  1952 UFO  disk outside Binghamton&#44 NY  Girl...       4/16/2005  42.0986111  -75.918333\n",
      "25810 1954-02-01 02:00:00                                          fairbanks             ak      us    unknown                        1140                         19 min.  RADAR INTERCEPT OF UFO BY USAF PILOT IN ALASKA...       1/10/2009  64.8377778 -147.716389\n",
      "25811 1960-02-01 22:15:00                                           st. paul             mn      us      cigar                           3                       3 seconds  A cigar-shaped UFO glided down towards the ear...       3/16/2000  44.9444444  -93.093056\n",
      "25812 1960-02-01 23:00:00                                           hartwell             ga      us      cigar                          45         approx 30 to 45 seconds  My father explained an event of a large cigar-...       4/16/2005  34.3527778  -82.932222\n",
      "26551 1951-02-15 11:00:00                                        los angeles             ca      us       disk                        2700                          45min.  I was only 8yrs old but I remember it clearly....        4/9/2004  34.0522222 -118.242778\n",
      "26552 1954-02-15 19:30:00                                             burney             ca      us       disk                        1800                    15-30 minute  Observance of one large and two smaller UFOs i...       4/18/2014     40.8825 -121.659722\n",
      "26553 1955-02-15 19:00:00                           new york city (brooklyn)             ny      us      light                         300                       5 minutes  TWO BRIGHT STAR SHAPE OBJECTS AT 700PM GOING F...       1/10/2009  40.7141667  -74.006389\n",
      "26554 1955-02-15 21:55:00                    welwyn garden city (uk/england)            NaN      gb   fireball                        1200                         20 mins  2 orange lights like fireball stayed together ...       2/14/2010        51.8   -0.200000\n",
      "26555 1958-02-15 02:30:00                                             howell             mi      us      cigar                          45                  30 to  45 sec.  Large glowing object that seemed to be  landin...       3/19/2002  42.6072222  -83.929444\n",
      "27013 1952-02-17 18:00:00                             nellis afb (las vegas)             nv     NaN       disk                        1800                         30 mins           We are dealing with something very real.      10/27/2004   36.241416 -115.050807\n",
      "27164 1960-02-18 21:00:00                                      winston-salem             nc      us      cigar                          20                      20 seconds  It was on a Full Moonlit night&#44 while snows...       8/10/1999  36.0997222  -80.244444\n",
      "29103 1951-02-03 22:00:00                                      thompsonville             ct      us       disk                          30                      30 seconds  A golden-orange glowing bowl&#44 flat on top&#...       7/25/2004  41.9969444  -72.599444\n",
      "30544 1956-03-01 13:00:00                                           petaluma             ca      us       oval                        1800                      30 minutes  Objects were several thousand feet in altitude...       1/28/1999     38.2325 -122.635556\n",
      "30810 1960-03-12 23:00:00                                            houston             tx      us   triangle                       10800                         3 hours  saw in sky made no noise lots of flashing ligh...       1/28/1999  29.7630556  -95.363056\n",
      "31445 1951-03-15 10:30:00                                  espanola (canada)             on      ca      cigar                          15                      15 seconds  Large silvery cigar shaped craft was seen by a...       2/12/2004       46.25  -81.766667\n",
      "31446 1957-03-15 13:00:00                                        los angeles             ca      us  formation                         900                         15 mins  I was 11 years old and my family and I were at...        9/2/2005  34.0522222 -118.242778\n",
      "31447 1957-03-15 15:00:00                                        los angeles             ca      us       disk                         900                         15 mins  There were about 5-7 saucers&#44 gray color in...       4/16/2005  34.0522222 -118.242778\n",
      "32459 1956-03-20 20:00:00                                              bowie             md      us       disk                         900                         15 min.     Unusual object seen from different viewpoints.       5/13/2003  39.0066667  -76.779444\n",
      "32961 1956-03-22 17:30:00                                            hampton             mn      us     sphere                         120                         minutes  Commuting home from work during an ice storm I...       5/10/2004  44.6102778  -93.001944\n",
      "34742 1957-03-05 19:30:00                                               jena             la      us     sphere                         900                          15min.  Heading S. in my car on two lane highway enter...       1/28/1999  31.6830556  -92.133611\n",
      "35074 1957-03-07 04:00:00                                        fort devans             ma     NaN       oval                         900                         15 min.  I was on duty at base. Saw and heard craft.Abo...       1/28/1999   42.537222  -71.615556\n",
      "35616 1953-04-10 13:00:00                                           chariton             ia      us      other                         600                          10 min      &quot; Flying Wing Before It&#39s Time &quot;        6/4/2004  41.0138889  -93.306389\n",
      "35979 1953-04-01 15:00:00                                          haverhill             ma      us    chevron                           2                         seconds                Historical account&#44 Haverhill MA        9/2/2005  42.7761111  -71.077778\n",
      "35980 1953-04-01 18:00:00                                          cambridge             ma      us     sphere                         180                       3 minutes  Two red-orange lights skirted Boston rooftops ...       7/14/2013      42.375  -71.106111\n",
      "35981 1954-04-01 22:00:00                                    stanford campus             ca     NaN       disk                         600                      10 minutes  Civil Defense plane spotter  reports UFO sight...        7/1/2002   37.427475 -122.169719\n",
      "35982 1959-04-01 01:00:00                                              miami             fl      us     sphere                        2700                   30-45 minutes  1959 childhood encounter with a spherical&#44 ...       2/14/2008  25.7738889  -80.193889\n",
      "35983 1960-04-01 21:00:00                                            houston             tx      us      other                         300                      <5 minutes  Sharp right angle turn in flight direction aft...      12/19/2003  29.7630556  -95.363056\n",
      "36772 1950-04-15 08:00:00  arkansas (eastern; on us hwy 70 abt 75 m w/o m...             ar     NaN       disk                         180                     1-3 minutes  Disk shaped unmoving over highway for 1-3 minu...      12/16/2005    35.20105  -91.831833\n",
      "36773 1950-04-15 14:00:00                                      waynesborough             va     NaN       disk                         300                       5 minutes  Fishburne Military School:  9 students witness...      11/19/2012   38.068469  -78.889468\n",
      "36774 1952-04-15 13:00:00                                            chicago             il      us       disk                        2700              approx: 45 minutes  HBCCUFO CANADIAN REPORT:  1952 metallic&#44 si...       7/23/2003       41.85  -87.650000\n",
      "36775 1952-04-15 16:00:00                                         greenville             tx      us   triangle                         120                     1-2 minutes  -SAW TWO SMALL 3-4 FOOT TRIANGULAR SHAPED DULL...        8/4/2003  33.1383333  -96.110556\n",
      "36776 1953-04-15 12:00:00                                        los angeles             ca      us   fireball                           5                       5 seconds  Green fireball traveling north at a low altitu...      12/14/2004  34.0522222 -118.242778\n",
      "36777 1953-04-15 16:00:00                                       midwest city             ok      us   fireball                         900                          15 min  Ball of yellow light with dancing spikes of li...       4/27/2004  35.4494444  -97.396389\n",
      "36778 1959-04-15 21:00:00                                            mendham             nj      us       disk                         300                    five minutes  A saucer-shaped UFO hovered at eye-level about...       1/31/2004  40.7758333  -74.601111\n",
      "37331 1958-04-17 21:30:00                                           winooski             vt      us       oval                         300               1 &amp; 1/2 hours  more on the 1958 &quot;fireball&quot; in Winoo...       4/16/2005  44.4913889  -73.186111\n",
      "37332 1958-04-17 21:30:00                                           winooski             vt      us       oval                        5400                     1 hr 30 min  object hovered&#44 landed then left headed nor...       2/22/2005  44.4913889  -73.186111\n",
      "38954 1958-04-25 19:00:00               atlantic ocean (troopship/ uss rose)            NaN     NaN    unknown                          60                          1/hour  An object that looked like a star until it moved.        4/2/1999  -14.599413  -28.673147\n",
      "39126 1959-04-26 19:00:00                                              baden             pa      us   cylinder                         900                          15 min  Report from the past - Orangish saucer shaped ...       2/18/2001      40.635  -80.228333\n",
      "39810 1953-04-30 16:00:00                                            jamison             pa      us      cigar                         120                 several minutes  In the spring of 1953 my mother &amp; I saw an...      12/23/2002  40.2547222  -75.089722\n",
      "41490 1955-05-01 15:00:00                                           holbrook             ma      us        egg                          60                        1 minute  I turned around and over the trees was a large...       4/16/2005      42.155  -71.009167\n",
      "41491 1956-05-01 12:00:00                                             canton             oh      us      cigar                         120                       2 minutes  At first the silver disc was stationary. As it...       9/15/2005  40.7988889  -81.378611\n",
      "41492 1957-05-01 12:00:00                                             canton             oh      us      cigar                         180                       3 minutes  Cigar shaped object is motionless for more tha...       4/27/2004  40.7988889  -81.378611\n",
      "41493 1959-05-01 18:30:00                                           columbus             oh      us      light                         180                         2-3 min  Red-orange lights over seen motionless over Lo...       2/22/2002  39.9611111  -82.998889\n",
      "41494 1960-05-01 20:00:00                                             tucson             az      us      light                         300                     4-5 minutes  Lights only&#44 no sound&#44 moving across the...        9/2/2005  32.2216667 -110.925833\n",
      "42288 1952-05-15 20:00:00                                              allyn             wa      us       disk                       10800                          3 hrs.  Close encounter involving physical examination...       8/16/2002  47.3858333 -122.826389\n",
      "42289 1953-05-15 16:00:00                                   toronto (canada)             on      ca       disk                          30                       20-30 sec  3 discs in formation flipping into clouds and ...      12/19/2003   43.666667  -79.416667\n",
      "42290 1954-05-15 12:00:00              corvallis (near; small town of alsea)             or      us    diamond                         120                       1-2 mins.  Disc top&#44 or bottom to our view following&#...       1/28/1999  44.5647222 -123.260833\n",
      "42291 1955-05-15 03:00:00                                         warrington             fl      us   fireball                         300                       5 minutes                        fireball into pensacola bay        2/1/2007  30.3838889  -87.275000\n",
      "42292 1956-05-15 20:00:00                                    pine castle afb             fl     NaN      light                        2700                          45 min  A large white light travelling slow and then a...       4/16/2005   28.189909  -80.600547\n",
      "42293 1957-05-15 02:00:00                        atlantic ocean (off africa)            NaN     NaN    unknown                          30                            0:30  While flying night navigational mission. We pi...       6/18/2004  -14.599413  -28.673147\n",
      "42294 1959-05-15 04:00:00                                           evanston             il      us    unknown                        1200                      20 minutes  Distant craft in the same part of the sky for ...      10/31/2003  42.0411111  -87.690000\n",
      "42295 1960-05-15 18:00:00                                        terre haute             in      us      other                         300                          5 min.                            Light Bar in Clouds UFO       9/19/2002  39.4666667  -87.413889\n",
      "42696 1958-05-17 00:00:00                                         cincinnati             oh      us    diamond                       86400                        24 hours  5/16/1958/ 1500 hours/ just getting dark&#44mo...       5/15/2006  39.1619444  -84.456944\n",
      "42821 1956-05-17 10:22:00                                                ada             ok      us     circle                          20                          20 sec  This was a result of a prayer or telepathic re...       3/31/2008  34.7744444  -96.678056\n",
      "43283 1958-05-21 00:00:00                                    north hollywood             ca      us     sphere                      604800                          1 week  I was four years old. i would visit at my gran...        6/2/1998  34.1722222 -118.378056\n",
      "44213 1957-05-25 13:00:00                                          rhinebeck             ny      us    diamond                          20                      20 seconds  KITE SHAPED OBJECT CHANGED 3 COLORS AND JIGGED...       9/24/2003  41.9266667  -73.913056\n",
      "44371 1954-05-26 04:30:00                                     quincy (rural)             il      us       disk                           7                       7 seconds  Saucer shaped object with lights and a dome se...      12/12/2009  39.9355556  -91.409722\n",
      "44993 1959-05-30 17:00:00                                         cincinnati             oh      us       disk                        3600                      60 minutes  Large saucer shaped craft hanging motionless a...        3/4/2008  39.1619444  -84.456944\n",
      "45609 1958-05-05 20:00:00                                        palmer park             md      us     sphere                        1200                      15-20 min.  I saw a white spherical light zig zaging acros...       4/22/2003  38.9208333  -76.871944\n",
      "45610 1959-05-05 09:00:00                                        el sobrante             ca      us     circle                         120                       2 minutes  Bright&#44 yellow/orange circle&#44 10 ft. in ...       3/21/2003  37.9772222 -122.294167\n",
      "46002 1958-05-07 10:00:00                                    north hollywood             ca      us     circle                      432000                           5days   A visit by a ufo object by a young child in 1958       6/12/2007  34.1722222 -118.378056\n",
      "46436 1950-10-07 00:00:00                                               napa             ca      us       disk                         120                       2 minutes  Saw a circular craft approximately 30 foot in ...      12/12/2013  38.2972222 -122.284444\n",
      "46437 1952-06-10 12:00:00                             chicago (south suburb)             il      us     circle                         600                      10 minutes  My sighting of two objects in Chicago&#44 IL a...       5/15/2006       41.85  -87.650000\n",
      "46438 1954-06-10 20:00:00                                         estes park             co      us      cigar                         300                     3-5 minutes  1953  Estes Park&#44 Colorado  cigar shaped cr...        7/5/2008  40.3772222 -105.521111\n",
      "46439 1958-06-10 12:00:00                                       baldwin park             ca      us      cigar                         300                       5 minutes  In 1958&#44 an eleven year old girl sees a cig...       3/11/2003  34.0852778 -117.960000\n",
      "46440 1959-06-10 13:00:00                                             monroe             mi      us    unknown                        1800                        30  min.  Observed three very high flying  objects fly a...       4/27/2007  41.9163889  -83.397778\n",
      "46441 1960-06-10 18:00:00                                       philadelphia             pa      us     sphere                           4                     3-4 seconds  SPHERE 3 TIMES MOON SIZE&#44 WITH MOVING COLOR...      10/31/2003  39.9522222  -75.164167\n",
      "46695 1953-06-11 11:00:00                                 vancouver (canada)             bc      ca       disk                          30                      30 seconds  Six year old witness was sitting on front lawn...       12/2/2000       49.25 -123.133333\n",
      "46696 1954-06-11 02:00:00                                           glenburn             me     NaN    unknown                           2                      2- seconds  A FLASH OF METALIC LIGHT REFLECTING OF A OBJEC...       1/17/2004   44.916862  -68.845746\n",
      "46697 1960-06-11 02:00:00                                      barstow-baker             ca     NaN       disk                         300                     3-5 minutes  Giant saucer crash in the mountains between Ba...       4/27/2004   35.117919 -116.235460\n",
      "46875 1950-06-01 12:00:00                                  mexicali (mexico)            NaN     NaN       disk                          60                        1 minute  Large disk observed by townspeople in large Me...      12/16/2005   32.624539 -115.452262\n",
      "46876 1950-06-01 16:00:00                                       philadelphia             ms      us       disk                         600             ten minutes or less  Childhood sighting of disk witnessed by mother...       6/12/2008  32.7713889  -89.116667\n",
      "46877 1950-06-01 20:00:00                                         pittsburgh             pa      us       oval                        1500                   20/25 minutes  One larger white object &amp; 2 smaller round ...       2/14/2006  40.4405556  -79.996111\n",
      "46878 1951-06-01 07:00:00                                   brandon (canada)             mb      ca       disk                        1800                      30 minutes  Circular Craft and Man in Black Sighted in Sum...       2/18/2001   49.833333  -99.950000\n",
      "46879 1951-06-01 19:00:00   oklahoma (northeastern part; in-flight sighting)             ok     NaN      cigar                         300                       5 minutes  Observed cigar-shaped object flying next to co...      12/16/2005    35.46756  -97.516428\n",
      "46880 1952-06-01 11:00:00                                            dousman             wi      us        NaN                          10                      10 seconds      Silver monkeys that were about 3-4 feet tall.       3/31/2008  43.0141667  -88.472500\n",
      "46881 1952-06-01 12:00:00           linlithgow (west  lothian) (uk/scotland)            NaN      gb     circle                         120                         2 mins.  It was about my lunch time i looked up to see ...       12/2/2000   55.889082   -3.569419\n",
      "46882 1952-06-01 22:00:00   norfolk/newport news (aboard ferry boat between)             va     NaN   fireball                          10                      10 seconds  Best recall as a SUnday night.  From east side...       2/16/2000   36.884735  -76.299024\n",
      "46883 1953-06-01 21:00:00                                             fresno             ca      us        NaN                         300                       5 minutes  i  seem to  be the only one of  my  siblings  ...       3/31/2008  36.7477778 -119.771389\n",
      "46884 1954-06-01 00:00:00                                            houston             tx      us       disk                         180                     2-3 minutes  I fulfilled my duty by passing on an unusual a...       6/12/2008  29.7630556  -95.363056\n",
      "46885 1954-06-01 06:00:00                                               ovid             ny      us       disk                         600                         10 min.  I saw two silver/gray objects of different sha...       12/5/2001  42.6763889  -76.823333\n",
      "46886 1954-06-01 08:00:00                      springfield (rural area near)             il      us   cylinder                         600                      5-10 mins.  This happened many years ago when I was a chil...       12/2/2000  39.8016667  -89.643611\n",
      "46887 1954-06-01 19:00:00                                         el cerrito             ca      us      light                         300                       5 minutes  It was a Sunday evening and must have been in ...        8/5/2001  37.9158333 -122.310556\n",
      "46888 1954-06-01 19:00:00                                             toledo             oh      us       disk                          60                     one minutue                                          SEE ABOVE        8/5/2001  41.6638889  -83.555278\n",
      "46889 1954-06-01 20:00:00                                        norfolk/nob             va     NaN       disk                          15                  10 -15 seconds  bright white like full moon&#44s slightly tilt...      11/23/1999   38.393797  -78.129907\n",
      "46890 1954-06-01 20:00:00                                       philadelphia             pa      us       disk                           2                         seconds                              They Are Our Brothers       12/2/2000  39.9522222  -75.164167\n",
      "46891 1954-06-01 23:00:00                                        fish canyon             ca     NaN      light                          60                        1 minute                     Helix flight pattern at zenith        6/2/1998   34.157229 -117.923952\n",
      "46892 1954-01-07 00:00:00                 ramey air force base (puerto rico)             pr     NaN     circle                         600                      10 minutes  Coming out of mess hall&#44 I saw A circular&#...       2/16/2000   38.738308  -93.573028\n",
      "46893 1955-06-01 02:00:00                                             bagley             mn      us     circle                        7200                         2 hours  I was 5 years old at the time&#44 family of 4 ...       5/24/1999  47.5216667  -95.398056\n",
      "46894 1955-06-01 15:29:00                                         cincinnati             oh      us       disk                         120               approx. 1-1/2 min  June 1955.  Bronze saucer/cylindrical craft; a...       6/18/2003  39.1619444  -84.456944\n",
      "46895 1955-06-01 17:00:00                               martinez (outskirts)             ca      us     circle                        1800                      30 minutes  We observed a large object aprox.size &quot;fo...       2/16/2000  38.0194444 -122.133056\n",
      "46896 1955-06-01 20:30:00                                            clinton             tn      us        egg                         360                 5 or  6 minutes  Egg shaped craft landed on lonly country road&...       5/14/2002  36.1033333  -84.131944\n",
      "46897 1956-06-01 19:00:00                                             belton             mo      us      other                         600                          10min.  THE EVENT WAS A PERSONAL CONTACT WITH AN ALIEN...       1/28/1999  38.8119444  -94.531667\n",
      "46898 1956-06-01 20:00:00                                            memphis             tn      us   cylinder                         900                     10-15 min.?  Object was glowing dull orange bent cylinder. ...       1/28/1999  35.1494444  -90.048889\n",
      "46899 1957-06-01 10:00:00                                            el paso             tx      us       disk                           7                  5 to 7 seconds  The UFO did not make any sounds.  The craft&#3...       7/26/2002  31.7586111 -106.486389\n",
      "46900 1957-06-01 19:50:00                                london (uk/england)            NaN      gb        NaN                         600                          10 min  On a Friday night in November 1957&#44 during ...       1/22/2000   51.514125   -0.093689\n",
      "46901 1957-06-01 20:00:00                                        glens falls             ny      us       disk                         240                         3or4min  there was no mistakeing what i was looking at ...       12/2/2000  43.3094444  -73.644444\n",
      "46902 1957-06-01 22:00:00                                             irving             tx      us      light                         300                        5minutes                                   tryangle over tx       1/21/2008  32.8138889  -96.948611\n",
      "46903 1957-01-07 00:00:00                             union bower are irving             tx     NaN  formation                        1800                      30 minutes                                   tryangle over tx      11/28/2007   32.814018  -96.948894\n",
      "46904 1958-06-01 02:00:00                                          middlesex             nc      us     circle                        3600                          1 hour                               white glowing lights       3/11/2006       35.79  -78.204167\n",
      "46905 1958-06-01 19:00:00                                      san francisco             ca      us       oval                         120                       2 minutes  A low flying huge silver flying saucer positio...      10/31/2003      37.775 -122.418333\n",
      "46906 1958-06-01 21:00:00                              new york city (bronx)             ny      us       oval                          10                      10 seconds  7 brightly illuminated elliptical discs racing...       4/16/2005  40.7141667  -74.006389\n",
      "46907 1958-06-01 22:00:00                                            timpson             tx      us      light                        5400                    1hour 30 min  Round lights&#44blMulticolored lights moving i...      12/20/2000  31.9036111  -94.395000\n",
      "46908 1958-06-01 22:30:00                                       grand island             ne      us     circle                         180                        2-3 min.              Hovering craft 60-75&#39 over roadway       2/22/2002      40.925  -98.341667\n",
      "46909 1959-06-01 08:00:00                                  wabash river (on)             in     NaN     circle                         900                      15 minutes                           Metallic object up close       2/14/2008   37.824151  -88.032040\n",
      "46910 1959-06-01 12:00:00                                             orange             ct      us   cylinder                        3600                         1 hour?  Sighted craft and transport of object to the g...       3/19/2009  41.2783333  -73.026111\n",
      "46911 1959-06-01 18:30:00                                             sidney             oh      us      light                         300                       5 minutes  Saw a bright light shining down.  Pulled over ...       4/27/2007  40.2841667  -84.155556\n",
      "46912 1959-06-01 22:00:00                                             nelson             ne      us      cigar                         600                     5 to 10 min  this was told to me from the man who seen the ...       2/24/2001  40.2016667  -98.067500\n",
      "46913 1960-06-01 00:00:00                                            seattle             wa      us       oval                           5                       5 seconds  OBJECT WAS OVAL IN SHAPE AND HAD MANY LIGHTS O...      11/30/1999  47.6063889 -122.330833\n",
      "46914 1960-06-01 02:30:00                                             yakima             wa      us      other                         900                          15 min  Shaped like an old fashioned oil derick-about ...       1/28/1999  46.6022222 -120.504722\n",
      "46915 1960-06-01 12:00:00                                           palmdale             ca      us       disk                         300                       5 minutes  Summer 1960 saucer with flashing lights (anten...      11/28/2007  34.5794444 -118.115556\n",
      "46916 1960-06-01 12:00:00                                         sacramento             ca      us      cigar                         300                       5 minutes  Brother sees ship and occupants...maybe more.....      12/12/2013  38.5816667 -121.493333\n",
      "46917 1960-06-01 13:00:00                                    chadd&#39s ford             pa     NaN   cylinder                           5                       5 seconds                   Fast moving&#44 silent cylinder.        8/5/2012   39.865348  -75.568425\n",
      "46918 1960-06-01 13:00:00                              new jersey (southern)             nj     NaN      cigar                         240                       4 minutes  Cigar shaped object dropped pieces of heated m...       7/11/2000   40.058324  -74.405661\n",
      "46919 1960-06-01 16:00:00                                  victoria (canada)             bc      ca       disk                           2                         seconds  I was a teenager&#44 15 or 16 years old&#44 at...       5/15/2013   46.216667  -63.483333\n",
      "46920 1960-06-01 17:00:00                     hermosillo&#44 sonora (mexico)            NaN     NaN     sphere                        7200                           2 hrs  I was in the northwest side of the town of Her...       3/19/2002   29.072967 -110.955919\n",
      "46921 1960-06-01 18:00:00                                         watervliet             mi      us       disk                         300                  4 or 5 minutes  3 Saucers seen hovering in daylight; seen clea...       1/22/2000  42.1866667  -86.260556\n",
      "46922 1960-06-01 20:00:00                                         vassalboro             me      us       oval                        7200                          1-2 hr                    Multi experiences with unknown.       6/12/2007  44.4591667  -69.678056\n",
      "46923 1960-06-01 22:00:00                                        silverfdale             wa     NaN   changing                        1200                      20 minutes  UFO seen by 12 year old girl sleeping out near...      11/28/2007   47.644539 -122.694870\n",
      "46924 1960-01-07 00:00:00                                         great bend             ks      us      other                         120                       2 minutes  MISSOURI INVESTIGATORS GROUP Report:  One nigh...       12/7/2006  38.3644444  -98.764444\n",
      "46925 1960-01-07 00:00:00                                     salt lake city             ut      us       disk                         300                           5 min  I saw the craft in daylight hoovering over me....        3/6/2001  40.7608333 -111.890278\n",
      "47998 1950-06-12 10:30:00                                 budapest (hungary)            NaN     NaN     circle                          60                            1min  The &#39object&#39 made an extremely high spee...       1/31/2004   47.497912   19.040235\n",
      "47999 1960-06-12 14:30:00                                        great falls             mt      us  formation                        1200                      20 minutes          SAC at Malstrom AF Base not Concerned&#33       4/27/2004  47.5002778 -111.300000\n",
      "48185 1952-06-13 07:30:00        fortville (2-3 mi. n. of&#44 state road 13)             in     NaN       disk                          20                      18-20 sec.  3 saucer-shaped objects flying fast (with wobb...       11/8/2003   39.932263  -85.848035\n",
      "48186 1960-06-13 02:00:00                                             quincy             ca      us       disk                         120                 several minutes  A lighted object was silently descending verti...       6/12/2008  39.9369444 -120.946111\n",
      "48360 1957-06-14 10:00:00                                    livermore falls             me      us    diamond                         300                     3-5 minutes                         A recalled childhood event        2/4/2013  44.4752778  -70.188611\n",
      "48574 1950-06-15 13:00:00                                 grosse pointe park             mi      us       oval                         600                      10 minutes  1951-52  Grosse Pointe&#44 MI. Three saucer sh...      11/28/2007  42.3758333  -82.937500\n",
      "48575 1950-06-15 20:00:00                                     bonifay (near)             fl      us       disk                          10                      10 seconds  The objects were discs&#44 white&#44 and I est...       1/12/2012  30.7916667  -85.679722\n",
      "48576 1951-06-15 20:30:00                                         greenville             ms      us       disk                         300                       5 minutes  Sighting of white lights in evening sky west o...       2/14/2006       33.41  -91.061667\n",
      "48577 1952-06-15 21:00:00                                       jacksonville             fl      us   triangle                          30                      30 seconds  extremely fast triangle shape object with one ...       9/13/2002  30.3319444  -81.655833\n",
      "48578 1952-06-15 23:00:00                                            maywood             ca      us     circle                         300                  3 to 5 minutes  7 balls of *orange moon* lights in 2 V formati...        6/9/2009  33.9866667 -118.184444\n",
      "48579 1952-06-16 00:00:00                                 luke airforce base             az     NaN        egg                         900                          15 min  This was in the summer of 1951 or 1952&#44 not...       4/27/2004   33.536096 -112.381903\n",
      "48580 1952-06-16 00:00:00         piedra blanka (los padres national forest)             ca     NaN      cigar                         600                       10minutes  I was camping with my school at Piedra Blanka ...       1/11/2002  -28.450537  -65.791539\n",
      "48581 1952-06-16 00:00:00                                   timmins (canada)             on      ca       disk                         600                           hours                        1952 disks and missing time      10/31/2003   48.466667  -81.333333\n",
      "48582 1953-06-15 12:00:00                                          wenatchee             wa      us       disk                          45                      45 seconds  round&#44 silver-colored&#44 shiny&#44 saucer-...       1/17/2004  47.4236111 -120.309167\n",
      "48583 1953-06-15 18:00:00                                         north bend             wa      us     circle                         120                       2 minutes  My cousin and I who were children at the time&...       9/26/1998  47.4958333 -121.785556\n",
      "48584 1953-06-16 00:00:00                                            roswell             nm      us        NaN                       14400                         4 hours  My oldest sister was born at Walker AFB (Roswe...       2/18/2001  33.3941667 -104.522500\n",
      "48585 1954-06-15 11:45:00                                           claymont             de      us       disk                          10                         10 secs  It was just before noon on a warm sunny  June ...       11/8/2003  39.8005556  -75.460000\n",
      "48586 1954-06-15 16:30:00                                      ellington afb             tx     NaN       disk                         720                         12 min.  Radar site-200mi range @Ellington AFB-Radar op...       2/14/2006     29.6007  -95.176952\n",
      "48587 1955-06-15 04:30:00                          missouri (northwest part)             mo     NaN      light                         300                           5 min  I will never forget this this experience. The ...       3/21/2003   37.964253  -91.831833\n",
      "48588 1955-06-15 08:00:00                                         youngstown             pa      us        NaN                          60                   1 min. (est.)         In Retrospect...I definately saw a UFO&#33       4/16/2005  40.2797222  -79.365833\n",
      "48589 1955-06-15 21:00:00                                      daytona beach             fl      us   fireball                         120                       2 minutes  Three fireballs moved slowly along the beach&#...       4/16/2005  29.2105556  -81.023056\n",
      "48590 1955-06-16 00:00:00                                     south st. paul             mn     NaN       disk                       18000                         5 hours  Peter: you&quot;ll have to call me for the who...        1/5/2011    44.87598  -93.027580\n",
      "48591 1956-06-15 12:15:00                                      san francisco             ca      us      other                         180                         2-3 min  I saw a football shaped&#44 silver metalic obj...       4/15/2000      37.775 -122.418333\n",
      "48592 1956-06-15 18:00:00                                          palo alto             ca      us   fireball                         600                 5 to 10 minutes  Fireball landing&#44 and when inspection attem...       4/18/2012  37.4419444 -122.141944\n",
      "48593 1956-06-15 18:00:00                                  richfield springs             ny      us      cigar                         120                   2 min. aprox.  SIX CIGAR SHAPED UFO&#39S OVER UPSTATE NEW YOR...      10/15/2003  42.8533333  -74.985833\n",
      "48594 1956-06-15 19:15:00                                              vista             ca      us      cigar                        1200                   15-20 minutes  bright orange cigar shaped craft&#44 at least ...       7/16/2003        33.2 -117.241667\n",
      "48595 1956-06-15 20:00:00                                           farragut             tn      us      cigar                         600                         ~10 min  Cigar shaped craft seen in Farragut&#44 TN com...        2/1/2007  35.8844444  -84.153611\n",
      "48596 1956-06-15 20:00:00                                              tulsa             ok      us      flash                         300                    3 to 5 mins.  Mysterous Flash seen over Tulsa and as far as ...       7/26/2002  36.1538889  -95.992500\n",
      "48597 1956-06-15 20:32:00                                              salem             nj      us       disk                          68                            1:08  We walked out side during supper&#44 woke up s...        7/4/2012  39.5716667  -75.467500\n",
      "48598 1956-06-15 21:00:00                             new york city (queens)             ny      us      light                          60                        1 minute  I looked into the darkened sky  and observed a...        9/2/2005  40.7141667  -74.006389\n",
      "48599 1957-06-15 02:30:00                           atlantic ocean (bermuda)            NaN     NaN        NaN                         120                         minutes                                                NaN       3/19/2002  -14.599413  -28.673147\n",
      "48600 1957-06-15 13:00:00                                      hartford city             in      us       disk                         300                       5 minutes            flying sausers are as real as real gets       6/20/2005  40.4511111  -85.370000\n",
      "48601 1957-06-15 23:30:00                                        walled lake             mi      us   cylinder                        1800                      30 minutes  The glowing object was there one second and in...       1/19/2005  42.5377778  -83.481111\n",
      "48602 1958-06-15 15:00:00                                            yonkers             ny      us      light                          14                      14 seconds                             venus&#39 dark side...        9/2/2005  40.9311111  -73.899167\n",
      "48603 1958-06-15 19:15:00                                         menlo park             ca      us      light                         600                    5-10 minutes  Saw noisless&#44 extremely-low clear light slo...       4/18/2012  37.4538889 -122.181111\n",
      "48604 1958-06-15 20:00:00                                            houston             tx      us       disk                        2700                         45 mins  Observed disk while driving. We stopped&#44 go...       1/28/1999  29.7630556  -95.363056\n",
      "48605 1958-06-15 22:00:00                                   oklahoma (rural)             ok     NaN      light                          80                            1:20  In the summer of 1958 I was in far eastern Okl...        9/1/2004    35.46756  -97.516428\n",
      "48606 1958-06-15 23:00:00                                             pawnee             ok      us      light                        1800                         30 min.  I watched two Star like objects in the Eastern...       2/10/2012  36.3377778  -96.803611\n",
      "48607 1958-06-16 00:00:00                                      mountain view             mo      us      other                        7200                       2 hours ?  Mountain View&#44 Mo. 1960&#39s Lights with ta...       11/9/2002  36.9952778  -91.703611\n",
      "48608 1959-06-15 01:00:00                       missoula (event at superior)             mt      us    unknown                          20                20 consec nights  Twenty nights of stalking&#44 apparent abducti...        6/6/2000  46.8722222 -113.993056\n",
      "48609 1959-06-15 08:30:00                                        minneapolis             mn      us      other                          30                       30seconds                                      Silver Bullet      12/16/2005       44.98  -93.263611\n",
      "48610 1959-06-15 10:00:00                                           campbell             ca      us       disk                         720                   10 to 12 min.                      3 glowing disc shaped objects       2/24/2007  37.2872222 -121.948889\n",
      "48611 1959-06-15 11:15:00                    pr&iacute;ncipe (havana) (cuba)            NaN     NaN       disk                          60                less than minute  42 years ago and I don&#39t remember about the...      10/12/2001    1.613938    7.405693\n",
      "48612 1960-06-15 21:00:00                                          baltimore             md      us      other                         300                       5 minutes            Three white lights flying in formation.       8/24/2010  39.2902778  -76.612500\n",
      "48613 1960-06-15 21:45:00                                        kansas city             ks      us       disk                         900                          15 min                                    Short visit&#33       2/24/2001  39.1141667  -94.627222\n",
      "49474 1956-06-16 13:00:00                                         cincinnati             oh      us       disk                        1200                       six hours  glass like&#44you could see threw&#44craft was...       4/13/2010  39.1619444  -84.456944\n",
      "49657 1953-06-17 07:30:00                                          galveston             tx      us      cigar                         180                       3 minutes  It had been my habit before I opened my place ...        8/5/2001  29.3011111  -94.797500\n",
      "49658 1955-06-17 07:00:00                                            rantoul             il      us      light                         600                      10 minutes  We had fallen out to the parking lot awaiting ...        8/5/2001  40.3083333  -88.155833\n",
      "49839 1960-06-18 23:00:00                                            chicago             il      us       oval                           3                      3  seconds  AS I LYE IN THE NIGHT&#44 MY EYES FOCUSED ON H...        3/2/2004       41.85  -87.650000\n",
      "50033 1957-06-19 21:00:00                                        san leandro             ca      us      light                          90               1.5 minutes or so  The night of Sputnik&#44 a drag race in the sk...       4/16/2005      37.725 -122.155000\n",
      "50249 1950-06-20 10:00:00                                         booneville             ms      us       disk                           4                           4 sec         Youngster observes shiny disc-shaped craft       7/23/2000  34.6580556  -88.566667\n",
      "50250 1950-06-20 17:00:00                                          galveston             tx      us     sphere                         600                 5 to 10 minutes  Large orange-red  lowering &quot;Moon&quot; ob...      10/30/2006  29.3011111  -94.797500\n",
      "50571 1952-06-21 22:00:00  lansing (few miles northwest of&#44 in the cou...             mi      us      other                           2                     sew seconds  It was like a star that moved&#44 it was 1952 ...       1/17/2004     42.7325  -84.555556\n",
      "50572 1957-06-21 19:30:00                                            norwalk             ca      us       disk                         480                       8 minutes  It was hovering about 20 feet from the ground ...       7/15/2005  33.9022222 -118.080833\n",
      "50573 1960-06-21 14:00:00                                     east bernstadt             ky      us       disk                          90                      90 seconds  The disc was about 30 feet across and moved si...       3/19/2009  37.1894444  -84.117778\n",
      "50942 1952-06-22 17:45:00                                            chester             pa      us       oval                         300                          5 min.  My parents &amp; I &amp; my brother were walki...       3/17/2004  39.8494444  -75.356111\n",
      "51164 1954-06-23 02:00:00                                             lorton             va      us      other                         120                         minutes       My Mother heard what she believed was a UFO.       11/8/2003  38.7041667  -77.228056\n",
      "51165 1954-06-23 23:00:00                             langley air force base             va     NaN     circle                        1800                      30 minutes  Object appearing larger than a full moon hover...       3/16/2000   37.083507  -76.359224\n",
      "51166 1955-06-23 07:00:00                                   beach haven park             nj      us       disk                          60                        1 minute  3 women hanging clothes saw a UFO come down ov...       1/28/1999     39.5975  -74.213056\n",
      "51167 1959-06-23 22:00:00                                        minneapolis             mn      us  formation                        7200                           2 hrs  Flying while in the Marine Corps in a AD Skura...       1/17/2004       44.98  -93.263611\n",
      "51401 1956-06-24 14:00:00                                             madera             ca      us     sphere                         120                       2 minutes  Half spherical object with portholes on the si...        7/4/2012  36.9613889 -120.059722\n",
      "51614 1954-06-25 03:30:00                                            thrifty             tx      us     circle                          45                      45 seconds  6-25-1954&#44 Red circle of light in Thrifty&#...       3/21/2014  31.8108333  -99.131667\n",
      "52205 1959-06-28 13:00:00                                              globe             az      us  rectangle                         300                       5 minutes  Rectangular shape consisting of what resembled...        9/2/2005  33.3941667 -110.785833\n",
      "52595 1950-06-30 16:00:00                                    lac du flambeau             wi      us       disk                          30                      30 seconds  saucer like disc submerging from waters&#44 di...       3/19/2009  45.9697222  -89.891944\n",
      "52596 1950-06-30 17:30:00                                      florence (??)             co      us       disk                           3                     2-3 seconds  Possible ufo in a western movie.  (NUFORC Note...       1/21/2008  38.3902778 -105.118056\n",
      "52597 1950-06-30 17:30:00                                     florence (??))             co      us      light                         0.5                          .5 sec  The move classic Rio Grand &#44 in the sean be...       1/21/2008  38.3902778 -105.118056\n",
      "52598 1951-06-30 07:00:00                                    jackson heights             ny      us       disk                           5                       5 seconds  While watching a movie &quot;Captain Horatio H...      12/12/2009  40.7555556  -73.885833\n",
      "52599 1951-06-30 19:00:00                                         birmingham             al      us    unknown                           3                       3 seconds  I was suddenly aware of most of the sky being ...      10/30/2006  33.5205556  -86.802500\n",
      "52600 1952-06-30 03:00:00                                              pecos             tx      us       disk                        7200                          1-2hrs                          West Texas to Carlsbad NM       3/19/2009  31.4227778 -103.492778\n",
      "52601 1952-06-30 13:00:00                              new york city (bronx)             ny      us       disk                          60                        1 minute  We were flying kites on the roof when someone ...       1/12/2012  40.7141667  -74.006389\n",
      "52602 1952-06-30 18:30:00                                             auburn             wa      us       oval                          60                        1 minute  Early nighttime sighting of huge oval object f...       2/14/2006     47.3075 -122.227222\n",
      "52603 1952-06-30 21:00:00                                              miami             fl      us       disk                       18000                    1 to 5 hours                          No one is able to believe        8/7/2011  25.7738889  -80.193889\n",
      "52604 1953-06-30 00:00:00                                          cleveland             oh      us   fireball                          35                           35sec  The object came from the north from Canada met...       2/14/2010  41.4994444  -81.695556\n",
      "52605 1953-06-30 15:00:00                          kelso (cowlitz co. hills)             wa      us       oval                         300                          5 min.  Three UFO&#39s witnessed by local people in th...        8/7/2007  46.1469444 -122.907222\n",
      "52606 1954-06-30 12:00:00                                          hawthorne             ca      us      light                         120                 several minutes  Stationary light for several minutes (far away...      10/30/2006  33.9163889 -118.351667\n",
      "52607 1954-06-30 15:00:00                                           pasadena             ca      us     circle                         300                       5 minutes  An incandescent white circular object passed o...       4/14/2009  34.1477778 -118.143611\n",
      "52608 1954-06-30 23:00:00                                         uk/england            NaN     NaN   fireball                         120                 several minutes  B-17 Pilot Report:  Fiery orb tracks USAF bomb...        2/7/2014   52.355518   -1.174320\n",
      "52609 1954-07-01 00:00:00                                            methuen             ma      us        NaN                         900                      15 minutes  A small light in the distance changes directio...      12/12/2011  42.7261111  -71.191389\n",
      "52610 1955-06-30 00:00:00                                        quartz hill             ca      us       disk                           2                         seconds                                      childhood ufo        7/5/2008  34.6452778 -118.217222\n",
      "52611 1955-06-30 13:00:00                                            lubbock             tx      us      cigar                         120                       2 minutes             Cigar shaped cloud and left very fast.      11/28/2007  33.5777778 -101.854722\n",
      "52612 1955-06-30 21:00:00                                              dumas             tx      us      light                         600                      10 minutes  1955 - Air Force jets pursue lights over small...       4/16/2005  35.8655556 -101.972778\n",
      "52613 1955-06-30 21:00:00                                      morehead city             nc      us       disk                         300                       5 minutes  Mid 1950&#39s Saucer in North Carolina&#44 Mul...       4/11/2014  34.7227778  -76.726389\n",
      "52614 1956-06-30 01:00:00                                       willow grove             pa      us      light                        7200                          2 hrs.             Willow Grove Naval Air Station&#44 PA.       4/16/2005  40.1438889  -75.116111\n",
      "52615 1956-06-30 13:00:00                                     cape girardeau             mo      us    diamond                         300                       5 minutew                     Angular UFO sighted as a child      12/12/2011  37.3058333  -89.518056\n",
      "52616 1956-06-30 16:00:00                                      new brunswick             nj      us       disk                         600              approx. 10 minutes  Four Saucers&#44 over the City of New Brunswic...       4/17/2008  40.4861111  -74.452222\n",
      "52617 1956-06-30 18:30:00                                            houston             tx      us   triangle                         900                   10-15 minutes                                                NaN       2/21/2014  29.7630556  -95.363056\n",
      "52618 1957-06-30 03:30:00                                         birmingham             mi      us    unknown                         300                       5 minutes  Grey alien drills into my back when I was a ch...        7/3/2013  42.5466667  -83.211389\n",
      "52619 1957-06-30 12:00:00                                      new york city             ny      us   teardrop                         600                           i0min                        glowing lights lead the way       2/14/2006  40.7141667  -74.006389\n",
      "52620 1957-06-30 13:00:00                                         burlington             ia      us     circle                          90                      90 seconds  Slow travel when observed&#44 followed by an a...        6/2/2013     40.8075  -91.112778\n",
      "52621 1957-06-30 18:00:00                                       russellville             ar      us     sphere                         600                      10 minutes  Huge orange ball floating over Russellville&#4...       4/12/2013  35.2783333  -93.133611\n",
      "52622 1957-06-30 20:00:00                                             barker             ny      us       disk                         180                       3 minutes  1957  Four miles south of Barker NY&#44 6 kids...       5/15/2013       43.33  -78.555000\n",
      "52623 1957-06-30 21:00:00                                             albany             ca      us     circle                          60    around 1 minute&#44 estimate  What looked like a moving star and a stationar...       8/30/2013  37.8869444 -122.296667\n",
      "52624 1957-07-01 00:00:00                                             dallas             tx      us      other                         300                       5 minutes  vee shaped lights 7 to 11 over dallas texas in...       2/14/2008  32.7833333  -96.800000\n",
      "52625 1958-06-30 12:00:00                                         silverdale             wa      us   cylinder                       32400                       8-9 hours  Cylindrical craft hovered above the house with...       1/31/2011  47.6447222 -122.693611\n",
      "52626 1958-06-30 13:00:00                                            conyers             ga      us   teardrop                         300                          5 min.                        Sighting of a UFO ca. 1958.        5/2/2011     33.6675  -84.017778\n",
      "52627 1958-06-30 16:00:00                             camden (penobscot bay)             me      us       disk                           2                        seconds?  Mother and pre-teen son witness a silver disc ...       7/16/2006  44.2097222  -69.065278\n",
      "52628 1958-06-30 21:30:00                                             durham             ks      us      light                           2                 several seconds  1950&#39s  Durham&#44 KS  evening  after dark ...       4/18/2012  38.4861111  -97.227778\n",
      "52629 1958-06-30 23:00:00                                          thibodaux             la      us   fireball                          90                      90 seconds  Historical Sighting  I have related this many ...       1/21/2008  29.7955556  -90.822778\n",
      "52630 1959-06-30 02:30:00                                north atlanticocean            NaN     NaN    unknown                        1800                          30 min     unidentified radar contact over Atlantic Ocean      11/21/2010   35.746512  -39.462891\n",
      "52631 1959-06-30 14:00:00                                      campbellsport             wi      us     circle                        1200                          20 min  I was a radar operator at Fallon NAS&#44 we we...       6/12/2008  43.5977778  -88.278889\n",
      "52632 1959-06-30 20:00:00                              new york city (bronx)             ny      us       oval                        1200                 approx. 1/2 hr.  My husband and I didn&#39t believe in UFO&#39s...       7/19/2010  40.7141667  -74.006389\n",
      "52633 1959-06-30 21:00:00                                            phoenix             az      us       disk                          60                       <1 minute  1959 Saucer shaped object sighting Phoenix Ari...       6/23/2010  33.4483333 -112.073333\n",
      "52634 1960-06-30 12:00:00                                         litchfield             pa      us      other                         600                      10 muntes?  When I was around 10 years old I was going to ...      11/28/2007     41.9675  -76.430556\n",
      "52635 1960-07-01 00:00:00                                london (uk/england)            NaN      gb   triangle                          25                      25 seconds  Three black triangles&#44 glide slowly over my...      10/30/2006   51.514125   -0.093689\n",
      "53270 1951-06-03 13:00:00                                             jasper             nc      us       oval                         300                       5 minutes  MIDDAY OVAL SHAPE&#44 ANITQUE COLOR OBJECT SIT...       6/20/2005  35.2013889  -77.206944\n",
      "53271 1960-06-03 18:00:00                                          santa ana             ca      us       disk                         300                       5 minutes  Saucer shaped craft seen June 1960 over Santa ...        9/2/2005  33.7455556 -117.866944\n",
      "53573 1956-05-07 00:00:00                                             elmore             al      us     sphere                        3600                          1 hour  Me and my cousins where playing near morter cr...       10/7/2003  32.5386111  -86.315000\n",
      "53574 1959-06-05 13:00:00                                             arvada             co      us     circle                        3600                      60 minutes  small round one over Rocky Flats at high altit...        8/5/2009  39.8027778 -105.086944\n",
      "53766 1951-06-06 02:00:00              mount pinos (beyond ski area parking)             ca     NaN       disk                        7200                         2 hours  2 ufos seen over mt pinos&#44  people in sleep...       10/8/2007   34.811645 -119.147330\n",
      "53767 1952-06-06 13:00:00                                          evergreen             co      us       disk                       18000                            5hrs  Childhood abduction and mental and visual enco...        6/4/2004  39.6333333 -105.316667\n",
      "53768 1955-06-06 01:00:00                                          pensacola             fl      us      light                         300                        5minutes                                  orange fireball .      12/12/2009  30.4211111  -87.216944\n",
      "53769 1956-06-06 12:00:00                                        upper glade             wv     NaN        egg                         300                       5 minutes  Close up sighting in rural West Virginia aroun...      12/12/2011   38.334859  -80.776528\n",
      "53770 1956-06-06 22:00:00                                              akron             oh      us      other                          30                  30 seconds + -  Akron Ohio&#44 1956&#44 Bright object similar ...        6/9/2009  41.0813889  -81.519167\n",
      "53771 1957-06-06 22:00:00                           hicksville (long island)             ny      us     circle                          15                          15 sec  My friend and I saw 7 perfectly circular objec...       4/16/2005  40.7683333  -73.525556\n",
      "53772 1958-06-06 09:30:00                                         cincinnati             oh      us    diamond                       86400                   24 hours lost  odd shaped diamond saucer&#44light could pass ...       7/16/2006  39.1619444  -84.456944\n",
      "53773 1958-06-06 18:45:00                         sydney (nsw&#44 australia)            NaN      au        NaN                        2700                          45 min  In the winter months of 1958 on a clear winter...       5/13/2003  -33.861481  151.205475\n",
      "53774 1960-06-06 12:00:00                                     cape canaveral             fl      us   fireball                       14400                         4 hours  It was as if a huge ball of light zoomed down ...       1/11/2002  28.4055556  -80.605000\n",
      "54020 1950-06-07 20:00:00                                         kensington             md      us       oval                         600                      10 minutes  Reflective oval seen hovering over Washington ...      11/28/2007  39.0255556  -77.076667\n",
      "54214 1950-06-08 10:00:00                                        kansas city             mo      us       disk                         900                       15minutes  The ufo came from the East&#44 as I was lookin...      12/16/2005  39.0997222  -94.578333\n",
      "54588 1950-07-10 20:30:00                        east palestine (outside of)             oh      us      light                         300                    approx 5 min  Lights observed moving in and out of a thunder...       4/28/2001  40.8338889  -80.540556\n",
      "54589 1951-07-10 23:30:00                                              provo             ut      us       disk                        1800                      30 minutes  Observed a gray&#44 saucer shaped object for 3...       6/13/2002  40.2338889 -111.657778\n",
      "54590 1957-07-10 20:00:00                                       phillipsburg             nj      us      cigar                         420                       7 minutes  cigar shaped&#44 after nightfall&#44 Phillipsb...       4/16/2005  40.6936111  -75.190556\n",
      "54591 1957-07-10 22:00:00                                          baltimore             md      us      other                          60                        1 minute  ON THE ABOVE DATE&#44MYSELF AND THREE OTHER BO...        9/6/2002  39.2902778  -76.612500\n",
      "54592 1958-07-10 09:00:00                                        cheektowaga             ny      us   teardrop                          20                     10 -20 secs  White teardrop shaped object observed during t...       3/21/2003  42.9033333  -78.755000\n",
      "55112 1951-07-01 03:00:00                                      otis orchards             wa      us       disk                         120                      ~2 minutes  Cigar shaped Disc darting back and forth (East...      12/23/2013  47.7005556 -117.105278\n",
      "55113 1951-07-01 14:00:00                                            atlanta             ga      us        NaN                         120                         minutes  As I stepped from my car I spied a really wier...       12/2/2000  33.7488889  -84.388056\n",
      "55114 1952-07-01 15:00:00                                             sebeka             mn      us      other                        1800                          30 min  Silver donut shape object sighted over rural M...      12/12/2011       46.63  -95.088611\n",
      "55115 1952-07-01 22:00:00                                            detroit             mi      us     sphere                         300                       5 minutes  object sits stationary for 5 minutes and then ...      10/31/2003  42.3313889  -83.045833\n",
      "55116 1953-07-01 05:30:00                      colorado springs (mtsn nw of)             co      us       disk                          10                      10 seconds  Absolutely huge UFO hovered 40 feet above hous...       7/25/2004  38.8338889 -104.820833\n",
      "55117 1954-07-01 22:00:00                                        los angeles             ca      us     circle                          15                      15 seconds  In 1954&#44 I saw a red glowing disc traveling...        2/4/2013  34.0522222 -118.242778\n",
      "55118 1955-07-01 14:00:00         carnation (on tolt river&#44 cascade mts.)             wa      us       disk                         480                     5-8 minutes  1955 daytime sighting of a saucer craft by a f...       4/15/2000  47.6480556 -121.912778\n",
      "55119 1955-07-01 22:00:00                                             dierks             ar      us      cigar                          10                      10 seconds  Cigar-shaped craft&#44 8 feet long with flashi...       4/16/2005  34.1191667  -94.016389\n",
      "55120 1956-07-01 16:00:00                             beatrice (14 mi sw of)             ne      us      other                         120                       2 minutes  Large pale silver dome seen over a hill and al...       7/13/2005  40.2680556  -96.746667\n",
      "55121 1957-07-01 13:00:00                                  mullens/pineville             wv     NaN       oval                         180                       3 minutes  USAF JETS BELIEVED TO HAVE SHOT AT OR DESTROYE...       1/11/2002    37.58218  -81.381465\n",
      "55122 1957-07-01 13:00:00                                            talcott             wv      us     sphere                          15                    10 - 15 sec.  A sphere that looked like a white light came a...        7/5/2008  37.6513889  -80.754444\n",
      "55123 1957-07-01 20:00:00                                            del rio             tx      us      cigar                          15                       half hour        Owners New Car Has Paint Purned Off By UFO.      12/23/2002     29.3625 -100.896389\n",
      "55124 1958-07-01 21:00:00                                             muncie             in      us    unknown                         300                       5 minutes  A star sized object circled the sky and then s...       4/27/2004  40.1933333  -85.386389\n",
      "55125 1959-07-01 01:00:00                                         strathmore             ca      us       disk                         240                       4 minutes  the gathering of static electricity from atmos...        2/1/2007  36.1455556 -119.059722\n",
      "55126 1959-07-01 20:00:00                                        castle rock             wa      us      cigar                          30                      30 seconds  Large&#44 cigar-shaped aircraft with evenly sp...       4/27/2007  46.2752778 -122.906389\n",
      "55127 1960-07-01 12:00:00                                            unknown             nv     NaN       disk                        1800                      30 minutes                 Real Evidence of UFOin the 60&#39s       8/12/2008    38.80261 -116.419389\n",
      "55128 1960-07-01 19:00:00                                   windsor (canada)             on      ca      other                         900                   12-15 minutes  Humming object with domed upper portion&#44 fl...       8/11/2004   45.583333  -72.000000\n",
      "55129 1960-07-01 20:00:00                                           portland             or      us    unknown                        1800                       15-30 min     Stationary Lights Over Portland OR Around 1960       5/15/2006  45.5236111 -122.675000\n",
      "55130 1960-07-01 22:00:00                                   midland (canada)             on      ca       disk                        1020                      17 minutes        4 disc shapped crafts over Gerogen Bay ont.      11/19/2012       44.75  -79.900000\n",
      "55648 1954-07-12 17:30:00                         morroco (4 miles south of)             in     NaN   changing                         900                        10-15min  I WAS 12&#44 RIDING WITH AN UNCLE AUNT AND GRA...       3/21/2003   40.946146  -87.453363\n",
      "55649 1956-07-12 19:00:00                                            wichita             ks      us    unknown                          90                         9o sec.  Small&#44 Silent&#44 Metalic&#44 And Very &#44...       7/16/2003  37.6922222  -97.337222\n",
      "55650 1956-07-12 21:10:00                                 edmondton (canada)             ab     NaN     circle                        1200                      20 minutes  Object approached Edmondton&#44 Alberta Airpor...       12/7/2006   53.544389 -113.490927\n",
      "55898 1952-07-13 21:00:00                                          arlington             va      us       oval                        1200                          20 min  1952 green disc-shaped object circling over Wa...       1/17/2004  38.8902778  -77.084444\n",
      "55899 1953-07-13 21:00:00                                washington&#44 d.c.             dc     NaN      light                         300                        3-5 min.  Four of us saw a ball of light come out of the...       3/11/2006   38.907231  -77.036464\n",
      "55900 1957-07-13 09:00:00                                         chesapeake             oh      us       disk                         600                      10 minutes                A silent&#44spinning daylight disc.        7/4/2012  38.4277778  -82.457222\n",
      "56183 1956-07-14 19:30:00                                         sacramento             ca      us       disk                         420                       7 minutes  Circular object&#44 slow moving&#44 disappeare...      11/21/2010  38.5816667 -121.493333\n",
      "56448 1950-07-15 21:30:00                                             newark             nj      us     sphere                         300                           5 min  As a student of astronomy&#44 this writer witn...       5/24/1999  40.7355556  -74.172778\n",
      "56449 1950-07-15 23:00:00                         los padres national forest             ca     NaN  formation                          20                      20 seconds  Is&#39nt it fun how the Gov. tries to block th...      12/23/2002   34.597241 -119.510771\n",
      "56450 1951-07-15 14:00:00                     spokane valley (otis orchards)             wa      us     sphere                       10800                       2-3 hours                   UFO over the Spokane Valley 1951        7/4/2012  47.6733333 -117.238333\n",
      "56451 1952-07-15 12:00:00                                         wilmington             ca      us       disk                         120                     1-2 minutes  Three flying saucers suddenly appeared  in the...       4/16/2005       33.78 -118.261667\n",
      "56452 1952-07-15 12:30:00                                            unknown             ca     NaN       disk                           2                         seconds  This movie was filmed in 1952&#44 a huge year ...        7/5/2013   33.460706 -117.606351\n",
      "56453 1952-07-15 13:00:00                                         litchfield             pa      us      other                         300                       5 minutes  We now cannot believe there was jets where we ...       2/14/2006     41.9675  -76.430556\n",
      "56454 1952-07-15 14:00:00                                         south gate             ca      us     circle                          60                        1 minute  I was about 11 years old at the time&#44 and a...       1/28/1999  33.9547222 -118.211111\n",
      "56455 1952-07-15 18:30:00                                         north bend             wa      us      other                         180                     2-3 minutes  old sighting (1952 0r &#3953) of daylight obje...       2/22/2005  47.4958333 -121.785556\n",
      "56456 1952-07-15 19:00:00                              new york city (bronx)             ny      us      other                         120                       2 minutes  My friends and I were sitting on the roof of a...       4/16/2005  40.7141667  -74.006389\n",
      "56457 1953-07-15 13:00:00                                          nashville             tn      us   cylinder                         300                  4 to 5 minutes     cylindrical object &quot;examining&quot; trees        9/2/2005  36.1658333  -86.784444\n",
      "56458 1954-07-15 11:00:00                                       philadelphia             pa      us       disk                        3600                          1 hour  I saw 2 alabaster white perfectly round object...       4/16/2005  39.9522222  -75.164167\n",
      "56459 1954-07-15 14:00:00            greenfield (rural area&#44 6 miles so.)             in      us      cigar                         300                           5 min  This all occured when I was still a child and ...       8/16/2002      39.785  -85.769444\n",
      "56460 1954-07-15 21:00:00                                        kansas city             ks      us    chevron                         180                       3 minutes  MISSOURI INVESTIGATORS GROUP Report:  Two brot...       6/12/2008  39.1141667  -94.627222\n",
      "56461 1954-07-15 21:00:00                                            oakdale             ny      us       disk                          45                      45 seconds  Three highly luminesce objects in a &quot;V&qu...       8/28/2002  40.7438889  -73.139167\n",
      "56462 1954-07-15 22:00:00                                     bridge hampton             ny     NaN      light                           1              less then 1 second  High speed object zig-zagging down at a 170 De...       5/27/2003   40.937878  -72.300916\n",
      "56463 1954-07-15 22:00:00                               new toronto (canada)             on      ca     circle                         600                      10 minutes  it was a white round object which was the same...       6/12/2002        43.6  -79.500000\n",
      "56464 1955-07-15 14:00:00                                      woodland park             co      us       oval                          15                      10-15 sec.                           Orange disk in night sky      10/31/2003  38.9938889 -105.056389\n",
      "56465 1956-07-15 00:00:00             yellowstone park (near south entrance)             wy     NaN       disk                          60                          60 sec  Three year old boy witnesses from back the sea...       1/28/1999   44.427963 -110.588455\n",
      "56466 1956-07-15 05:00:00                                         sugarcreek             oh      us       disk                          30                      30 seconds  I drove right underneath it with my truck.  Th...       4/13/2010  40.5030556  -81.641111\n",
      "56467 1956-07-16 00:00:00                                       east hampton             ct      us       disk                         120                       2 minutes  Saucers over Lake Pocotopaug&#44 Ct. _ Summer ...      10/30/2006  41.5758333  -72.503056\n",
      "56468 1957-07-15 12:00:00                                        temple city             ca      us      light                         900                          15 min  Lights over Mt Baldy California 1957 as seen b...       8/16/2002  34.1072222 -118.056944\n",
      "56469 1957-07-15 13:00:00                                            houston             tx      us    diamond                         120                           2 min     broad daylight  incident in Houston about 1957       6/18/2004  29.7630556  -95.363056\n",
      "56470 1957-07-15 14:00:00                                       williamsport             pa      us      cigar                         120                       2 minutes  A small&#44 cigar-shaped object entered my fie...       4/15/2000  41.2411111  -77.001389\n",
      "56471 1957-07-15 15:00:00                                         long beach             ca      us       disk                         120                       2 minutes  Three disks stationary in a triangle formation...        7/4/2012  33.7669444 -118.188333\n",
      "56472 1957-07-15 22:00:00                                             denver             co      us      light                         900                      15 minutes  A supposed star&#44 at a time before there wer...       8/14/2007  39.7391667 -104.984167\n",
      "56473 1957-07-15 22:00:00                                        kresgeville             pa      us        NaN                        1200                      20 minutes  As a child&#44 I watched a &quot;star&quot; mo...       12/9/2000  40.8969444  -75.503333\n",
      "56474 1957-07-15 22:00:00                                    salt  lake city             ut      us       disk                         900                          15 min  5 Silver Saucers flying from over the Salt Lak...       4/30/2004  40.7608333 -111.890278\n",
      "56475 1957-07-15 23:30:00                                        kansas city             mo      us      light                       10800                        3hrs +/-  car ingulfed in red light&#44 missing time&#44...       8/10/1999  39.0997222  -94.578333\n",
      "56476 1958-07-15 17:30:00                                             novato             ca      us       disk                          90                       1min30sec  saw saucer in large grass field it took off st...       1/28/1999     38.1075 -122.568611\n",
      "56477 1959-07-15 12:00:00                     nort sutton (resort area near)             nh     NaN    unknown                          15                      15 seconds  North Sutton&#44 New hampshire July 15&#44 195...       3/19/2009   43.363889  -71.939444\n",
      "56478 1959-07-15 23:00:00                                         new albany             in      us      cigar                         300                       5 minutes             Cigar shaped object hovered in the sky       6/23/2004  38.2855556  -85.824167\n",
      "56479 1960-07-15 01:00:00                                           la verne             ca      us     circle                        1800                          30 min  July 1960&#44 Pomona Ca&#44  two yellowish ora...      12/12/2011  34.1008333 -117.766944\n",
      "56480 1960-07-15 10:00:00                              pacific coast highway             ca     NaN    unknown                           7                         ~7 sec.  A bright dot high over the U.S. Pacific coast ...       10/8/2007   34.320096 -119.381794\n",
      "56481 1960-07-15 16:00:00                                          goldsboro             nc      us     sphere                         120                       2 minutes  craft seen near Seymore-Johnson AFB&#44 N.C.&#...      10/12/2001  35.3847222  -77.993056\n",
      "56482 1960-07-15 21:00:00                                           amarillo             tx      us    diamond                        3600                        1 hour +                           Texas Panhandle UFO&#39s      11/20/2001  35.2219444 -101.830833\n",
      "57268 1959-07-16 18:00:00                                          worcester             ma      us      other                         180                       3 minutes  strange object sighted over worcester&#44ma ju...        6/4/2004     42.2625  -71.802778\n",
      "57482 1953-07-17 22:00:00                                             dublin             in      us       cone                        1800                      30 minutes  My brothers farmed after dark&#44 they told my...        7/4/2012  39.8122222  -85.208889\n",
      "57483 1960-07-17 22:00:00                                   bedford (canada)             on      ca       disk                          30                   20-30 seconds  Iridescent blue light passes over farmer at tr...       6/12/2008   45.116667  -72.983333\n",
      "57973 1959-07-19 01:00:00                                              salem             oh      us       disk                         180                            hour  1959 Saucers-huge- pattern of four shifting hi...       4/16/2005  40.9008333  -80.856944\n",
      "58164 1950-07-20 21:30:00                                          smithport             pa      us       disk                         120                         two min  This huge craft came over the hill from Crosbe...      12/12/2011  40.8358333  -78.876667\n",
      "58165 1958-07-20 21:30:00                                       rock springs             wy      us       disk                          60                           1 min  Friend &amp; I retuned home from movie. We liv...        4/2/1999     41.5875 -109.202222\n",
      "58724 1950-07-02 13:00:00                                   coeur d&#39alene             id      us      cigar                          10                      10 seconds  Bright Orange&#44 Cigar-Shapped Object Travell...       8/12/2008  47.6777778 -116.779444\n",
      "58725 1950-07-02 21:00:00                                      bay st. louis             ms     NaN      light                      181800                     5 1/2 hours  It was the July 4th weekend&#44 Bay St Louis M...        3/2/2004   30.308808  -89.330046\n",
      "58930 1952-07-22 09:30:00                                            okolona             ms      us       oval                         300                          5 min.  Oval UFO paces occupants in automobile for 5 m...       7/23/2000  34.0016667  -88.755278\n",
      "58931 1959-07-22 14:30:00                                          allendale             ky      us      light                         300                       5 minutes  07/22/1958    Allendale     Ky         Light i...      10/11/2005  37.3711111  -85.583056\n",
      "59561 1952-07-25 16:00:00                                             tacoma             wa      us     sphere                          30                      30 seconds  Six spheres flying in formation close to an Ai...        3/2/2004  47.2530556 -122.443056\n",
      "60517 1960-07-29 19:30:00                              melbourne (australia)            NaN      au   triangle                         180                           3 min  1960 @ 30DEG ABOVE HORIZON 3 TRIANGULAR OBJECT...      12/12/2011  -37.813938  144.963425\n",
      "60724 1952-07-30 15:00:00                                           manville             ri      us     sphere                          10                      10 seconds  Group of lights moving across sky during dayli...       6/12/2008  41.9697222  -71.474167\n",
      "60725 1958-07-30 22:00:00                                       randallstown             md      us   triangle                         240                      4  minutes  Two triangular slow&#44silent lowflying object...       4/16/2005  39.3672222  -76.795556\n",
      "61196 1951-07-03 12:00:00                                        green river             wy      us     sphere                         420                      5 to 7 min  Glowing white spherical large craft (50 to 100...      10/15/2002  41.5286111 -109.465556\n",
      "61553 1953-07-04 14:00:00                                            unknown             mt     NaN       disk                         600                      10 minutes  Video of Blue Angles airshow from 1953 shows t...       7/23/2003   44.762609 -109.028474\n",
      "61554 1953-07-04 21:00:00                                           ogallala             ne      us      other                        2700                   30-45 minutes  Bright white light with no sound&#44 hovering&...      12/12/2009  41.1280556 -101.719167\n",
      "61555 1959-07-04 20:00:00            gardner lake (extreme northeastern  us)             me     NaN       oval                         900                         15 min.  Craft desending &#44from high rate of speed to...       9/12/1999   44.775237  -67.361025\n",
      "61556 1960-07-04 21:30:00                                         new berlin             wi      us     circle                         300                       5 minutes  Large&#44 slow moving craft&#44 above the clou...       4/27/2004  42.9763889  -88.108333\n",
      "62762 1952-07-05 16:00:00                                             tacoma             wa      us     sphere                         120                       2 minutes  6 spheres flying in formation over military ba...        3/2/2004  47.2530556 -122.443056\n",
      "63341 1952-07-07 10:00:00                                          evergreen             co      us     circle                       14400                         4 hours     abducted&#44 and a lifetime of ufo experiences        3/2/2004  39.6333333 -105.316667\n",
      "63342 1952-07-07 13:00:00                                          arlington             tx      us       disk                         900                      15 minutes                        Daylight sighting of a Disk      11/26/2003  32.7355556  -97.107778\n",
      "63343 1954-07-07 20:00:00                                       walnut creek             ca      us    unknown                         300                       5 minutes  I have not reported this before. I feel it sho...       9/29/2004  37.9063889 -122.063889\n",
      "63344 1954-07-07 22:00:00                                      west columbia             sc      us  formation                         600                    abt. 10 min.  3circles together&#44 very bright lighting aro...        3/4/2003  34.0005556  -81.035000\n",
      "63345 1955-07-07 14:00:00                                 uk/england (rural)            NaN     NaN       disk                         600                      10 minutes  1955+/-&#44 multiple identical circular saucer...        2/1/2007   52.355518   -1.174320\n",
      "63346 1959-07-07 23:00:00                                         long beach             ca      us      light                          45                      45 seconds  As a young man&#44 I would lay out in the yard...       4/26/2000  33.7669444 -118.188333\n",
      "63347 1960-07-07 22:00:00                            springdale/fayetteville             ar     NaN  formation                         600                      10 minutes  Concerning a formation of lights over Springda...       4/26/2000   36.138221  -94.139650\n",
      "64108 1951-08-10 01:00:00                                  sunland / tujunga             ca     NaN     circle                           4                       4 seconds  Vehicle was observed in frontial&#44 overhead ...        9/2/2005   34.259648 -118.308275\n",
      "64109 1958-08-10 21:30:00                                           bellevue             wa      us      light                        1200                      20 minutes  At dusk&#44 a light appeared out of the  SE sk...      11/19/2012  47.6105556 -122.199444\n",
      "64110 1959-08-10 01:30:00                                             reseda             ca      us       disk                         600                      10 minutes  The saucer was roof high and I observed it ver...       4/18/2012  34.2011111 -118.535556\n",
      "64111 1960-08-10 01:00:00                                            belmont             ny      us     circle                        1200                   15-20 minutes  a bright light followed a slow zigzag path fro...        6/9/2009  42.2230556  -78.034722\n",
      "64112 1960-08-10 18:00:00                                           watchung             nj      us      cigar                          20                      20 seconds  Cigar shaped object&#44 reddish brown that hum...       9/15/2005  40.6377778  -74.451389\n",
      "64740 1950-08-01 04:00:00                                         louisville             ky      us      other                          60                        1 minute  In 1953&#44 at the age of 3 years old I was Co...      10/19/2011  38.2541667  -85.759444\n",
      "64741 1952-08-01 21:30:00                                              tampa             fl      us       oval                        9000                  2 hrs. 30 min.  Triangulation radar fix (USAF&#44 civil&#44 Na...       12/2/2000  27.9472222  -82.458611\n",
      "64742 1953-08-01 12:00:00                                           berkeley             mo      us   fireball                         300                       5 minutes    Early 50&#39s sighting in Berkeley&#44 Missouri       1/22/2004  38.7544444  -90.331111\n",
      "64743 1954-08-01 12:00:00                                        farmingdale             ny      us       oval                        1800                         30+min.  Sphere  -30 min. - Stationary&#44 bright objec...       9/24/2003     40.7325  -73.445833\n",
      "64744 1954-08-01 17:00:00                                               dyer             in      us   triangle                          15                   15 seconds+++  I saw a silent exhaustless golden glowing slow...        6/4/2004  41.4941667  -87.521667\n",
      "64745 1954-08-01 21:00:00                                             canton             pa      us       disk                          30                      30 seconds  Large&#44 silver-blue disc shaped oject which ...       4/16/2005  41.6563889  -76.853611\n",
      "64746 1954-08-01 22:00:00                                    north hollywood             ca      us      light                        1800                          30 min  Star like point of light slowly travelling acr...        2/3/2012  34.1722222 -118.378056\n",
      "64747 1956-08-01 00:00:00                                           bradford             al      us     sphere                          20                      20 seconds  moving sparkling white/ yellowish/orange/flat ...      10/10/2011  32.9947222  -86.085000\n",
      "64748 1956-08-01 20:00:00                                            harvard             ma      us    unknown                           3                     2-3 seconds                                         Lost time.        9/9/2013        42.5  -71.583333\n",
      "64749 1957-08-01 12:00:00                                               arco             id      us       disk                         180                      three min.  A surveying crew of five disturbed a landed cr...       4/13/2010  43.6366667 -113.299444\n",
      "64750 1958-08-01 19:00:00                                  derby (new haven)             ct      us       disk                         900                    10 - 15 min.  Occurred during early evening hours.  LARGE UF...       9/12/1999  41.3205556  -73.089444\n",
      "64751 1959-08-01 18:00:00                                             golden             tx      us       disk                           3                       3 seconds  children see flying saucer in small East Texas...       5/15/2006  32.7294444  -95.562778\n",
      "64752 1960-08-01 12:00:00                                          allentown             pa      us   cylinder                        3600                          1 hour  Historical color video of major USA event show...       7/23/2003  40.6083333  -75.490556\n",
      "64753 1960-08-01 15:00:00                                          taftville             ct      us       disk                          60                           1 min  Saw a white saucer-shaped object hovering over...        4/9/2004  41.5697222  -72.047778\n",
      "64754 1960-08-01 18:00:00                                             boston             ma      us       disk                        1800                      30 minutes            Observed strange large disk like craft.       5/15/2006  42.3583333  -71.060278\n",
      "64755 1960-08-01 18:00:00                                           carteret             nj      us      cigar                         600                      10 minutes  Cigar shapped object made no sounds&#44 moved ...      10/30/2006  40.5772222  -74.228611\n",
      "65599 1959-08-13 21:00:00                                               troy             ny      us    unknown                         900                      15 minutes  Single star like light zigging and zagging in ...       3/10/2011     42.7283  -73.692222\n",
      "65600 1959-08-13 22:30:00                                             jewett             ny      us      light                        1200                      20 minutes  Tumbling zig zag pattern of a shooting &quot;s...      12/12/2011     42.2703  -74.303333\n",
      "65870 1957-08-14 16:00:00                                        ticonderoga             ny      us       disk                          15                      15 seconds                                    UFO buzzed B-47      10/19/1999     43.8486  -73.423889\n",
      "65871 1957-08-14 21:00:00            california (above&#44 northern part of)             ca     NaN   fireball                           5                       5 seconds                        Red Fireball Over Califonia       1/17/2004     36.7783 -119.417932\n",
      "66139 1950-08-15 14:00:00                                          stanfield             or      us       disk                         180                   2 - 3 minutes  In 1950&#44 Eastern Oregon&#44 I saw one silve...      10/31/2008     45.7806 -119.216111\n",
      "66140 1951-08-15 13:00:00                                            altoona             pa      us       disk                        1200                       20 min. ?  This a was metalic disk object that wobbled. T...        9/2/2005     40.5186  -78.395000\n",
      "66141 1952-08-15 17:00:00                               smithson&#39s valley             tx     NaN      cigar                        1800                   20-30 minutes  2&#44500 long cigar shaped object hovered over...      10/31/2003     29.7755  -98.373667\n",
      "66142 1952-08-15 17:30:00                                      prairie grove             ar      us       disk                          20                            0:20  Two observers saw silverish 30 foot disk maneu...       6/21/2000     35.9758  -94.317500\n",
      "66143 1952-08-15 22:15:00                                           hamilton             oh      us      light                         480                          8 min.               Silent bright light passes overhead.       1/17/2004     39.3994  -84.561389\n",
      "66144 1953-08-15 11:00:00                                         louisville             ky      us     circle                          10                     6 to 10 sec                                   I heard Them&#33       4/16/2005     38.2542  -85.759444\n",
      "66145 1953-08-15 21:00:00                                   bowleys quarters             md      us     sphere                         240                         3-4 min  The speed of these speres were unbelievable th...       2/22/2005     39.3353  -76.390556\n",
      "66146 1954-08-15 21:00:00                                           puyallup             wa      us       oval                           2                   a few seconds  The object was hovering above the treetops ove...       4/16/2005     47.1856 -122.291667\n",
      "66147 1955-08-15 00:01:00                                         eagle pass             tx      us      cigar                         600                      10 minutes  Mr. Martin in 1955 has encounter with cigar sh...       12/2/2000     28.7089 -100.499167\n",
      "66148 1957-08-15 01:00:00                                           longview             wa      us   triangle                           3                       3 seconds  My uncle and I were standing outside on a warm...       6/18/2004     46.1383 -122.936944\n",
      "66149 1957-08-15 01:00:00                                             ludlow             ma      us      cigar                         300                   5 minutes max  Black silhouetted object against glow of dista...        4/2/1999       42.16  -72.476389\n",
      "66150 1957-08-15 21:00:00                                             exeter             nh      us       disk                         180                       3 minutes              UFO Incident Exeter Newhampshire 1957      10/28/2002     42.9814  -70.948333\n",
      "66151 1958-08-15 14:00:00                                             monroe             ga      us       oval                         120                       2 minutes   OVAL SHAPE SEEN IN OR AROUN 08/1958 IN MONROE GA        8/5/2012     33.7947  -83.713333\n",
      "66152 1959-08-15 15:00:00                                            roswell             nm      us    unknown                        2700                         45 min.  The experience left everyone in a quandry&#44 ...       12/7/2006     33.3942 -104.522500\n",
      "66153 1959-08-15 21:00:00                                             mohave             ca     NaN      light                         120                       2 minutes      Lites over head cut car lights and motor off.       5/11/2005     35.0525 -118.173965\n",
      "66154 1960-08-15 15:00:00                                             saugus             ma      us     circle                         300                           5 min  at ten years of age we looked at each other an...       2/18/2001     42.4647  -71.010556\n",
      "66155 1960-08-15 16:00:00                                         framingham             ma      us       oval                        1200                          20 min                The UFO over WKOX Framingham &#44MA      12/14/2006     42.2792  -71.416667\n",
      "66877 1957-08-16 21:30:00                                   smith&#39s ferry             id     NaN       disk                         600                      10 minutes  When a disk UFO passes within a few feet of th...        6/3/2010     44.3065 -116.081001\n",
      "67108 1955-08-17 21:00:00                                             covina             ca      us       disk                         600                      10 minutes  It was about 1500 ft up. It just stayed there ...       9/29/2004       34.09 -117.889444\n",
      "67109 1957-08-17 23:00:00                                         huntington             in      us   triangle                        3600                          1 hour  Directly over head at tree level a Massive&#44...       3/19/2009     40.8831  -85.497500\n",
      "67110 1960-08-17 21:10:00                       long beach (terminal island)             ca      us      other                           5                     4-5 seconds  9/17/1960 -21:10 hours-Terminal Island&#44 Cal...       3/31/2008     33.7669 -118.188333\n",
      "67871 1960-08-20 21:30:00                                         pittsburgh             pa      us     sphere                         300                     about 5min.  A white sphere 5-7 ft. in diameter was viewed ...        5/9/2003     40.4406  -79.996111\n",
      "69177 1954-08-24 05:00:00                                    parent (canada)             qc      ca      other                         240                     3-4 minutes  Capsule shaped copper coloured object hung mot...      11/21/2010     47.9167  -74.616667\n",
      "69704 1954-08-26 16:00:00                    ferndown-bournemouth (uk/wales)            NaN     NaN       disk                         300                       5 minutes  U F O Hovering over Ferndown in Bournemouth 19...       9/24/2012     50.8201   -1.878766\n",
      "70126 1960-08-28 21:00:00                                          dickinson             nd      us     circle                         120                           2 min  There was no sound no air movement and it move...       3/21/2003     46.8792 -102.789167\n",
      "71050 1957-08-03 20:00:00                                           vandalia             oh      us       disk                         300                          5-min.  Disk with light spining through it&#39s center...       1/17/2004     39.8906  -84.198889\n",
      "71288 1957-08-04 02:00:00                           bainbridge/ port deposit             md     NaN   fireball                          22                           22sec  Midwatch spots Fireball headed directly toward...       10/8/2007      39.629  -76.078383\n",
      "71767 1955-08-06 19:00:00                                     newtown square             pa      us     circle                           4                       4 seconds  A round object going from bottom to top of moo...      12/12/2011     39.9867  -75.401389\n",
      "71768 1959-08-06 20:30:00                               mexico city (mexico)            NaN     NaN  formation                          60                           1 min  Direction: West to East Seven lights type foo ...       1/21/2008     19.4326  -99.133208\n",
      "72004 1953-08-07 21:00:00                                            vallejo             ca      us      light                        3600                          60 min       At first we thought they were shooting stars        4/1/2001     38.1042 -122.255556\n",
      "72005 1957-08-07 01:00:00                                       indianapolis             in      us      light                        3600                          1 hour                        Flashing light over Indiana      11/21/2010     39.7683  -86.158056\n",
      "72267 1955-08-08 01:00:00                                       independence             mo      us   fireball                         300                    several hrs.  Flaming ball of light making right angle turns...       5/15/2006     39.0911  -94.415278\n",
      "72268 1958-08-08 15:00:00                                        scarborough             me      us       disk                         600                      10 minutes  I was a young girl around 1958 when I saw a sa...       4/16/2005     43.5781  -70.322222\n",
      "72548 1957-08-09 00:30:00                    san diego (north of&#44 at sea)             ca      us       disk                         900                      15 minutes  At least a hundred miles out to sea&#44 a long...       8/11/2004     32.7153 -117.156389\n",
      "72743 1957-09-10 19:15:00                                           st. paul             mn      us       disk                         300                    five minutes  3 UFO&#39s saucer-shaped with flashing lights ...       4/16/2005     44.9444  -93.093056\n",
      "72744 1960-09-10 10:00:00                                            wichita             ks      us       oval                        1200                         20 min.  MADE  ONY  A  HUMMING SOUND EVEN WHEN  IT TOOK...       7/25/2004     37.6922  -97.337222\n",
      "73293 1954-09-01 13:00:00                                             geneva             ny      us       disk                         120               couple of minutes  While marching on a bivouac maneuver in (?) Se...      10/15/2003     42.8689  -76.978056\n",
      "73294 1957-09-01 16:00:00                                             graham             tx      us     sphere                          30                          30 sec              Three shiny spheres over Graham Texas       1/10/2009     33.1069  -98.589167\n",
      "73295 1957-09-01 23:00:00                                        brecksville             oh      us     circle                         180                       3 minutes  20 ft in diameter glowing ufo landed a few fee...        2/1/2007     41.3197  -81.626944\n",
      "73296 1958-09-01 20:00:00                                              fargo             nd      us       disk                         900                          15 min   Flying Saucer seen while driving home from work.       5/27/2003     46.8772  -96.789444\n",
      "74266 1958-09-14 19:30:00                                            ashland             ky      us     circle                          45                      45 seconds  Near observations of a slow moving silent obje...       2/14/2008     38.4783  -82.638056\n",
      "74517 1952-09-15 14:00:00                                       norridgewock             me      us       disk                         300                     4-5 minutes  SUNNY DAY&#44 WITHIN 450 FEET&#44 LOW...REPORT...       12/2/2000     44.7131  -69.791111\n",
      "74518 1954-09-15 09:30:00                                    palmer township             pa     NaN      other                         600                    9-10 minutes  Saturn-shaped object appearing over the Pennsy...      11/28/2007     40.7168  -75.249344\n",
      "74519 1956-09-15 20:00:00                                       middle river             md      us     circle                          60                           1 min  three round blue-white disks in V formation mo...      12/16/2005     39.3342  -76.439722\n",
      "74520 1957-09-15 04:00:00                                            el paso             tx      us       disk                         600                          10 min                             Undified Flying Object       2/14/2008     31.7586 -106.486389\n",
      "74521 1957-09-15 21:30:00                                       lake jackson             tx      us   fireball                          13                          13 sec                    fireball seen on country  road.       1/10/2009     29.0336  -95.434167\n",
      "74522 1957-09-15 23:00:00                                             tacoma             wa      us       disk                          20                      20 seconds  a large disk spacecraft the size of a Boeing 7...        3/2/2004     47.2531 -122.443056\n",
      "74523 1959-09-15 01:00:00                                          goldfield             nv      us      light                          60                        1 minute  The object hovered over the pick-up&#44 and ra...       4/16/2005     37.7086 -117.234722\n",
      "74524 1959-09-15 11:30:00                                             dayton             oh      us       disk                         900                         15 mini  formation of 6 saucers moving from Wright Pate...        2/8/2005     39.7589  -84.191667\n",
      "74525 1959-09-16 00:00:00                                             fallon             nv      us       oval                        7200                         2 hours  I was an Air Force radar operator at Fallon Na...      10/28/2002     39.4736 -118.776389\n",
      "74526 1960-09-15 19:00:00                                          kingsport             tn      us     circle                         300                       5 minutes  An orange&#44 circular craft drifted over the ...       1/28/1999     36.5483  -82.561944\n",
      "74527 1960-09-15 20:30:00                                            seattle             wa      us       disk                         120    2 min. for me&#44 longer for  Triple disc sighting prior to dusk with a ligh...       4/27/2004     47.6064 -122.330833\n",
      "74528 1960-09-15 21:00:00                                         susanville             ca      us        NaN                         360                     5-6 minutes  Three craft in formation&#44 high altitude&#44...       4/27/2004     40.4164 -120.651944\n",
      "74529 1960-09-15 21:30:00                                  barrhead (canada)             ab      ca      other                        1200                      20 minutes  HBCCUFO CANADIAN REPORT:  Daddy&#44 there is a...       8/28/2003     54.1167 -114.400000\n",
      "75992 1956-09-20 16:00:00                                               hope             ar      us     circle                        1200                      20 minutes  Sitting on a pond bank on sunny afternoon when...       4/16/2005     33.6669  -93.591389\n",
      "75993 1957-09-20 00:00:00                                       hopkinsville             ky      us      cigar                         600                      10 minutes  4 matalic silver cigar shaped objects; no soun...       8/28/2003     36.8656  -87.488611\n",
      "75994 1958-09-20 22:20:00  davis jct. (on highway72 east to highway 51 no...             il     NaN   fireball                         300                            5min  red light with A GLOW AROUND IT DRIVING TO WOR...        4/2/1999     42.1017  -89.093157\n",
      "79261 1957-09-05 17:30:00                                los gatos (west of)             ca      us       disk                          60              one minute or less  3 craft seen in day light&#44 very low altitud...      10/30/2006     37.2267 -121.973611\n",
      "79262 1960-09-05 21:00:00                                            buffalo             ny      us       oval                         180                       3 minutes  Precise movements of a &quot;craft&quot; appar...       9/15/2005     42.8864  -78.878611\n",
      "79668 1958-09-07 19:00:00                                             arthur             nd      us    unknown                         900                       5-15 min.  Two lights of alternating color traveling and ...      10/31/2003     47.1042  -97.217778\n",
      "80101 1952-09-09 20:00:00                                       philadelphia             pa      us     circle                         180                       3 minutes                   saucers in a line over Phila Pa.      12/12/2009     39.9522  -75.164167\n",
      "80102 1954-09-09 12:30:00                                           beaumont             tx      us       disk                         300                       5 minutes  Aprox. 30 Disk shaped UFOs fell out of clouds ...       1/17/2004     30.0858  -94.101667\n",
      "80103 1956-09-09 05:55:00                                            norfolk             va      us      cigar                          90                     1.5 minutes  Unidentified Object Hovering over Interstate 2...       2/24/2007     36.8467  -76.285556\n"
     ]
    }
   ],
   "source": [
    "import pandas as pd \n",
    "df = pd.read_csv(r'C:\\Users\\talk2\\Documents\\ufo.csv') \n",
    "df['Date_time'] = df['Date_time'].astype('datetime64[ns]') \n",
    "print(\"\\nSighting days of the unidentified flying object (ufo) between 1949-10-10 and 1960-10-10:\") \n",
    "selected_period = df[(df['Date_time'] >= '1950-01-01 00:00:00') & (df['Date_time'] <= '1960-12-31 23:59:59')] \n",
    "print(selected_period)"
   ]
  },
  {
   "cell_type": "markdown",
   "metadata": {},
   "source": [
    "Q132. Write a Pandas program to extract the year, month, day, hour,\n",
    "      minute, second, and weekday from unidentified flying object (UFO)\n",
    "      reporting date."
   ]
  },
  {
   "cell_type": "code",
   "execution_count": 235,
   "metadata": {},
   "outputs": [
    {
     "name": "stdout",
     "output_type": "stream",
     "text": [
      "Original Dataframe:\n",
      "            Date_time                  city state/province country UFO_shape length_of_encounter_seconds described_duration_of_encounter                                        description date_documented    latitude   longitude\n",
      "0 1949-10-10 20:30:00            san marcos             tx      us  cylinder                        2700                      45 minutes  This event took place in early fall around 194...       4/27/2004  29.8830556  -97.941111\n",
      "1 1949-10-10 21:00:00          lackland afb             tx     NaN     light                        7200                         1-2 hrs  1949 Lackland AFB&#44 TX.  Lights racing acros...      12/16/2005    29.38421  -98.581082\n",
      "2 1955-10-10 17:00:00  chester (uk/england)            NaN      gb    circle                          20                      20 seconds  Green/Orange circular disc over Chester&#44 En...       1/21/2008        53.2   -2.916667\n",
      "3 1956-10-10 21:00:00                  edna             tx      us    circle                          20                        1/2 hour  My older brother and twin sister were leaving ...       1/17/2004  28.9783333  -96.645833\n",
      "4 1960-10-10 20:00:00               kaneohe             hi      us     light                         900                      15 minutes  AS a Marine 1st Lt. flying an FJ4B fighter/att...       1/22/2004  21.4180556 -157.803611\n",
      "\n",
      "Year:\n",
      "0    1949\n",
      "1    1949\n",
      "2    1955\n",
      "3    1956\n",
      "4    1960\n",
      "Name: Date_time, dtype: int64\n",
      "\n",
      "Month:\n",
      "0    10\n",
      "1    10\n",
      "2    10\n",
      "3    10\n",
      "4    10\n",
      "Name: Date_time, dtype: int64\n",
      "\n",
      "Day:\n",
      "0    10\n",
      "1    10\n",
      "2    10\n",
      "3    10\n",
      "4    10\n",
      "Name: Date_time, dtype: int64\n",
      "\n",
      "Hour:\n",
      "0    20\n",
      "1    21\n",
      "2    17\n",
      "3    21\n",
      "4    20\n",
      "Name: Date_time, dtype: int64\n",
      "\n",
      "Minute:\n",
      "0    30\n",
      "1     0\n",
      "2     0\n",
      "3     0\n",
      "4     0\n",
      "Name: Date_time, dtype: int64\n",
      "\n",
      "Second:\n",
      "0    0\n",
      "1    0\n",
      "2    0\n",
      "3    0\n",
      "4    0\n",
      "Name: Date_time, dtype: int64\n",
      "\n",
      "Weekday:\n",
      "0       Monday\n",
      "1       Monday\n",
      "2       Monday\n",
      "3    Wednesday\n",
      "4       Monday\n",
      "Name: Date_time, dtype: object\n"
     ]
    }
   ],
   "source": [
    "import pandas as pd \n",
    "df = pd.read_csv(r'C:\\Users\\talk2\\Documents\\ufo.csv')\n",
    "df['Date_time'] = df['Date_time'].astype('datetime64[ns]') \n",
    "print(\"Original Dataframe:\")\n",
    "print(df.head()) \n",
    "print(\"\\nYear:\") \n",
    "print(df.Date_time.dt.year.head()) \n",
    "print(\"\\nMonth:\") \n",
    "print(df.Date_time.dt.month.head()) \n",
    "print(\"\\nDay:\") \n",
    "print(df.Date_time.dt.day.head())\n",
    "print(\"\\nHour:\") \n",
    "print(df.Date_time.dt.hour.head()) \n",
    "print(\"\\nMinute:\") \n",
    "print(df.Date_time.dt.minute.head()) \n",
    "print(\"\\nSecond:\") \n",
    "print(df.Date_time.dt.second.head()) \n",
    "print(\"\\nWeekday:\") \n",
    "print(df.Date_time.dt.weekday_name.head()) "
   ]
  },
  {
   "cell_type": "markdown",
   "metadata": {},
   "source": [
    "Q133. Write a pandas program to count year-country wise frequency of\n",
    "      reporting dates of the unidentified flying object(UFO).\n"
   ]
  },
  {
   "cell_type": "code",
   "execution_count": 237,
   "metadata": {},
   "outputs": [
    {
     "name": "stdout",
     "output_type": "stream",
     "text": [
      "\n",
      "Country-year wise frequency of reporting dates of UFO:\n",
      "Year  country\n",
      "1910  us            1\n",
      "1920  us            1\n",
      "1925  us            1\n",
      "1929  us            1\n",
      "1931  us            2\n",
      "1934  us            1\n",
      "1936  ca            1\n",
      "      us            1\n",
      "1937  us            2\n",
      "1939  us            3\n",
      "1941  us            1\n",
      "1942  us            2\n",
      "1943  gb            1\n",
      "      us            1\n",
      "1944  us            3\n",
      "1945  us            7\n",
      "1946  ca            1\n",
      "      us            8\n",
      "1947  us           33\n",
      "1948  us            7\n",
      "1949  us           15\n",
      "1950  us           21\n",
      "1951  ca            2\n",
      "      gb            1\n",
      "      us           13\n",
      "1952  ca            1\n",
      "      gb            1\n",
      "      us           37\n",
      "1953  ca            2\n",
      "      us           26\n",
      "1954  ca            2\n",
      "      us           38\n",
      "1955  ca            1\n",
      "      gb            2\n",
      "      us           25\n",
      "1956  us           38\n",
      "1957  gb            1\n",
      "      us           62\n",
      "1958  au            1\n",
      "      ca            1\n",
      "      us           42\n",
      "1959  us           43\n",
      "1960  au            1\n",
      "      ca            5\n",
      "      gb            1\n",
      "      us           51\n",
      "1961  ca            2\n",
      "      us           41\n",
      "1962  ca            2\n",
      "      de            1\n",
      "      gb            1\n",
      "      us           56\n",
      "1963  ca            3\n",
      "      gb            1\n",
      "      us           67\n",
      "1964  ca            1\n",
      "      us           78\n",
      "1965  ca            2\n",
      "      gb            2\n",
      "      us          164\n",
      "1966  ca            7\n",
      "      gb            2\n",
      "      us          159\n",
      "1967  au            1\n",
      "      ca            2\n",
      "      gb            4\n",
      "      us          147\n",
      "1968  au            1\n",
      "      ca            4\n",
      "      de            2\n",
      "      gb            1\n",
      "      us          175\n",
      "1969  ca            9\n",
      "      de            2\n",
      "      gb            1\n",
      "      us          120\n",
      "1970  ca            9\n",
      "      de            1\n",
      "      gb            5\n",
      "      us          109\n",
      "1971  ca            5\n",
      "      de            1\n",
      "      gb            2\n",
      "      us           96\n",
      "1972  au            3\n",
      "      ca            8\n",
      "      gb            6\n",
      "      us          119\n",
      "1973  ca            8\n",
      "      de            1\n",
      "      us          187\n",
      "1974  au            2\n",
      "      ca            7\n",
      "      de            1\n",
      "      gb            5\n",
      "      us          219\n",
      "1975  au            4\n",
      "      ca           10\n",
      "      de            1\n",
      "      gb            4\n",
      "      us          246\n",
      "1976  au            3\n",
      "      ca            4\n",
      "      gb            9\n",
      "      us          222\n",
      "1977  au            1\n",
      "      ca           12\n",
      "      gb            4\n",
      "      us          206\n",
      "1978  au            2\n",
      "      ca           11\n",
      "      gb            7\n",
      "      us          257\n",
      "1979  au            1\n",
      "      ca            6\n",
      "      de            1\n",
      "      gb            7\n",
      "      us          191\n",
      "1980  au            2\n",
      "      ca            5\n",
      "      gb           10\n",
      "      us          192\n",
      "1981  au            1\n",
      "      ca            5\n",
      "      de            1\n",
      "      gb            2\n",
      "      us          134\n",
      "1982  au            2\n",
      "      ca            6\n",
      "      gb            3\n",
      "      us          134\n",
      "1983  au            3\n",
      "      ca            4\n",
      "      gb            4\n",
      "      us          121\n",
      "1984  au            1\n",
      "      ca            8\n",
      "      gb            4\n",
      "      us          144\n",
      "1985  ca            9\n",
      "      gb            2\n",
      "      us          170\n",
      "1986  au            3\n",
      "      ca            3\n",
      "      gb            6\n",
      "      us          153\n",
      "1987  au            3\n",
      "      ca           11\n",
      "      de            2\n",
      "      gb            7\n",
      "      us          176\n",
      "1988  au            4\n",
      "      ca            9\n",
      "      gb            3\n",
      "      us          188\n",
      "1989  ca            6\n",
      "      gb            4\n",
      "      us          198\n",
      "1990  au            3\n",
      "      ca           14\n",
      "      de            2\n",
      "      gb            4\n",
      "      us          191\n",
      "1991  au            2\n",
      "      ca            8\n",
      "      de            1\n",
      "      gb            1\n",
      "      us          180\n",
      "1992  au            5\n",
      "      ca           10\n",
      "      de            1\n",
      "      gb            5\n",
      "      us          183\n",
      "1993  au            2\n",
      "      ca           11\n",
      "      gb           15\n",
      "      us          228\n",
      "1994  au            1\n",
      "      ca           17\n",
      "      de            1\n",
      "      gb            4\n",
      "      us          322\n",
      "1995  au            3\n",
      "      ca           18\n",
      "      de            1\n",
      "      gb           14\n",
      "      us          915\n",
      "1996  au            8\n",
      "      ca           29\n",
      "      de            2\n",
      "      gb           24\n",
      "      us          646\n",
      "1997  au            9\n",
      "      ca           40\n",
      "      de            1\n",
      "      gb           32\n",
      "      us         1007\n",
      "1998  au           12\n",
      "      ca           61\n",
      "      de            1\n",
      "      gb           30\n",
      "      us         1398\n",
      "1999  au           19\n",
      "      ca           96\n",
      "      de            1\n",
      "      gb           33\n",
      "      us         2252\n",
      "2000  au           22\n",
      "      ca          101\n",
      "      de            3\n",
      "      gb           78\n",
      "      us         2180\n",
      "2001  au           36\n",
      "      ca          136\n",
      "      de            3\n",
      "      gb          116\n",
      "      us         2445\n",
      "2002  au           47\n",
      "      ca          166\n",
      "      de            3\n",
      "      gb          130\n",
      "      us         2437\n",
      "2003  au           50\n",
      "      ca          294\n",
      "      de            7\n",
      "      gb          130\n",
      "      us         2957\n",
      "2004  au           43\n",
      "      ca          265\n",
      "      de            5\n",
      "      gb          109\n",
      "      us         3242\n",
      "2005  au           48\n",
      "      ca          183\n",
      "      de            3\n",
      "      gb          115\n",
      "      us         3220\n",
      "2006  au           37\n",
      "      ca          143\n",
      "      de            4\n",
      "      gb          163\n",
      "      us         2883\n",
      "2007  au           27\n",
      "      ca          160\n",
      "      de            9\n",
      "      gb          124\n",
      "      us         3468\n",
      "2008  au           17\n",
      "      ca          119\n",
      "      de           15\n",
      "      gb          138\n",
      "      us         4013\n",
      "2009  au           14\n",
      "      ca          134\n",
      "      de            6\n",
      "      gb          202\n",
      "      us         3677\n",
      "2010  au           16\n",
      "      ca          137\n",
      "      de            4\n",
      "      gb          114\n",
      "      us         3545\n",
      "2011  au           13\n",
      "      ca          127\n",
      "      de            3\n",
      "      gb           51\n",
      "      us         4376\n",
      "2012  au           19\n",
      "      ca          240\n",
      "      de            6\n",
      "      gb           82\n",
      "      us         6311\n",
      "2013  au           32\n",
      "      ca          247\n",
      "      de            6\n",
      "      gb           48\n",
      "      us         6054\n",
      "2014  au           14\n",
      "      ca           50\n",
      "      de            3\n",
      "      gb           30\n",
      "      us         2029\n",
      "dtype: int64\n"
     ]
    }
   ],
   "source": [
    "import pandas as pd \n",
    "df = pd.read_csv(r'C:\\Users\\talk2\\Documents\\ufo.csv') \n",
    "df['Date_time'] = df['Date_time'].astype('datetime64[ns]') \n",
    "df['Year'] = df['Date_time'].apply(lambda x: \"%d\" % (x.year)) \n",
    "result = df.groupby(['Year', 'country']).size() \n",
    "print(\"\\nCountry-year wise frequency of reporting dates of UFO:\") \n",
    "print(result)"
   ]
  },
  {
   "cell_type": "markdown",
   "metadata": {},
   "source": [
    "Q134. Write a pandas program to get the difference (in days) between\n",
    "      documented date and reporting date of unidentified flying object\n",
    "      (UFO).\n"
   ]
  },
  {
   "cell_type": "code",
   "execution_count": 238,
   "metadata": {},
   "outputs": [
    {
     "name": "stdout",
     "output_type": "stream",
     "text": [
      "\n",
      "Difference (in days) between documented date and reporting date of UFO:\n",
      "                Date_time                  city state/province country UFO_shape length_of_encounter_seconds described_duration_of_encounter                                        description date_documented    latitude   longitude  Difference\n",
      "0     1949-10-10 20:30:00            san marcos             tx      us  cylinder                        2700                      45 minutes  This event took place in early fall around 194...      2004-04-27  29.8830556  -97.941111       19922\n",
      "1     1949-10-10 21:00:00          lackland afb             tx     NaN     light                        7200                         1-2 hrs  1949 Lackland AFB&#44 TX.  Lights racing acros...      2005-12-16    29.38421  -98.581082       20520\n",
      "2     1955-10-10 17:00:00  chester (uk/england)            NaN      gb    circle                          20                      20 seconds  Green/Orange circular disc over Chester&#44 En...      2008-01-21        53.2   -2.916667       19095\n",
      "3     1956-10-10 21:00:00                  edna             tx      us    circle                          20                        1/2 hour  My older brother and twin sister were leaving ...      2004-01-17  28.9783333  -96.645833       17264\n",
      "4     1960-10-10 20:00:00               kaneohe             hi      us     light                         900                      15 minutes  AS a Marine 1st Lt. flying an FJ4B fighter/att...      2004-01-22  21.4180556 -157.803611       15808\n",
      "...                   ...                   ...            ...     ...       ...                         ...                             ...                                                ...             ...         ...         ...         ...\n",
      "80327 2013-09-09 21:15:00             nashville             tn      us     light                         600                      10 minutes  Round from the distance/slowly changing colors...      2013-09-30     36.1658  -86.784444          20\n",
      "80328 2013-09-09 22:00:00                 boise             id      us    circle                        1200                      20 minutes  Boise&#44 ID&#44 spherical&#44 20 min&#44 10 r...      2013-09-30     43.6136 -116.202500          20\n",
      "80329 2013-09-09 22:00:00                  napa             ca      us     other                        1200                            hour                                       Napa UFO&#44      2013-09-30     38.2972 -122.284444          20\n",
      "80330 2013-09-09 22:20:00                vienna             va      us    circle                           5                       5 seconds  Saw a five gold lit cicular craft moving fastl...      2013-09-30     38.9011  -77.265556          20\n",
      "80331 2013-09-09 23:00:00                edmond             ok      us     cigar                        1020                      17 minutes  2 witnesses 2  miles apart&#44 Red &amp; White...      2013-09-30     35.6528  -97.477778          20\n",
      "\n",
      "[80332 rows x 12 columns]\n"
     ]
    }
   ],
   "source": [
    "import pandas as pd \n",
    "df = pd.read_csv(r'C:\\Users\\talk2\\Documents\\ufo.csv') \n",
    "df['Date_time'] = df['Date_time'].astype('datetime64[ns]') \n",
    "df['date_documented'] = df['date_documented'].astype('datetime64[ns]') \n",
    "#print(\"Original Dataframe:\") \n",
    "#print(df.head()) \n",
    "print(\"\\nDifference (in days) between documented date and reporting date of UFO:\") \n",
    "df['Difference'] = (df['date_documented'] - df['Date_time']).dt.days \n",
    "print(df) "
   ]
  },
  {
   "cell_type": "markdown",
   "metadata": {},
   "source": [
    "Q135. Write a pandas program to generate sequences of fixedfrequency dates and time spans."
   ]
  },
  {
   "cell_type": "code",
   "execution_count": 246,
   "metadata": {},
   "outputs": [
    {
     "name": "stdout",
     "output_type": "stream",
     "text": [
      "Hourly frequency:\n",
      "DatetimeIndex(['2018-01-01 00:00:00', '2018-01-01 01:00:00', '2018-01-01 02:00:00', '2018-01-01 03:00:00', '2018-01-01 04:00:00', '2018-01-01 05:00:00', '2018-01-01 06:00:00', '2018-01-01 07:00:00', '2018-01-01 08:00:00', '2018-01-01 09:00:00', '2018-01-01 10:00:00', '2018-01-01 11:00:00'], dtype='datetime64[ns]', freq='H')\n",
      "\n",
      "Minutely frequency:\n",
      "DatetimeIndex(['2018-01-01 00:00:00', '2018-01-01 00:01:00', '2018-01-01 00:02:00', '2018-01-01 00:03:00', '2018-01-01 00:04:00', '2018-01-01 00:05:00', '2018-01-01 00:06:00', '2018-01-01 00:07:00', '2018-01-01 00:08:00', '2018-01-01 00:09:00', '2018-01-01 00:10:00', '2018-01-01 00:11:00'], dtype='datetime64[ns]', freq='T')\n",
      "\n",
      "Secondly frequency:\n",
      "DatetimeIndex(['2018-01-01 00:00:00', '2018-01-01 00:00:01', '2018-01-01 00:00:02', '2018-01-01 00:00:03', '2018-01-01 00:00:04', '2018-01-01 00:00:05', '2018-01-01 00:00:06', '2018-01-01 00:00:07', '2018-01-01 00:00:08', '2018-01-01 00:00:09', '2018-01-01 00:00:10', '2018-01-01 00:00:11'], dtype='datetime64[ns]', freq='S')\n",
      "nMultiple Hourly frequency:\n",
      "DatetimeIndex(['2018-01-01 00:00:00', '2018-01-01 02:00:00', '2018-01-01 04:00:00', '2018-01-01 06:00:00', '2018-01-01 08:00:00', '2018-01-01 10:00:00', '2018-01-01 12:00:00', '2018-01-01 14:00:00', '2018-01-01 16:00:00', '2018-01-01 18:00:00', '2018-01-01 20:00:00', '2018-01-01 22:00:00'], dtype='datetime64[ns]', freq='2H')\n",
      "\n",
      "Multiple Minutely frequency:\n",
      "DatetimeIndex(['2018-01-01 00:00:00', '2018-01-01 00:05:00', '2018-01-01 00:10:00', '2018-01-01 00:15:00', '2018-01-01 00:20:00', '2018-01-01 00:25:00', '2018-01-01 00:30:00', '2018-01-01 00:35:00', '2018-01-01 00:40:00', '2018-01-01 00:45:00', '2018-01-01 00:50:00', '2018-01-01 00:55:00'], dtype='datetime64[ns]', freq='5T')\n",
      "\n",
      "Multiple Secondly frequency:\n",
      "DatetimeIndex(['2018-03-30', '2018-06-29', '2018-09-28', '2018-12-31', '2019-03-29', '2019-06-28', '2019-09-30', '2019-12-31', '2020-03-31', '2020-06-30', '2020-09-30', '2020-12-31'], dtype='datetime64[ns]', freq='BQ-DEC')\n",
      "\n",
      "Weekly frequency:\n",
      "DatetimeIndex(['2018-01-07', '2018-01-14', '2018-01-21', '2018-01-28', '2018-02-04', '2018-02-11', '2018-02-18', '2018-02-25', '2018-03-04', '2018-03-11', '2018-03-18', '2018-03-25'], dtype='datetime64[ns]', freq='W-SUN')\n",
      "\n",
      "Combine together day and intraday offsets-1:\n",
      "DatetimeIndex(['2018-01-01 00:00:00', '2018-01-01 02:20:00', '2018-01-01 04:40:00', '2018-01-01 07:00:00', '2018-01-01 09:20:00', '2018-01-01 11:40:00', '2018-01-01 14:00:00', '2018-01-01 16:20:00', '2018-01-01 18:40:00', '2018-01-01 21:00:00', '2018-01-01 23:20:00', '2018-01-02 01:40:00'], dtype='datetime64[ns]', freq='140T')\n",
      "\n",
      "Combine together day and intraday offsets-2:\n",
      "DatetimeIndex(['2018-01-01 00:00:00', '2018-01-02 00:00:00.000010', '2018-01-03 00:00:00.000020', '2018-01-04 00:00:00.000030', '2018-01-05 00:00:00.000040', '2018-01-06 00:00:00.000050', '2018-01-07 00:00:00.000060', '2018-01-08 00:00:00.000070', '2018-01-09 00:00:00.000080', '2018-01-10 00:00:00.000090', '2018-01-11 00:00:00.000100', '2018-01-12 00:00:00.000110'], dtype='datetime64[ns]', freq='86400000010U')\n"
     ]
    }
   ],
   "source": [
    "import pandas as pd\n",
    "dtr = pd.date_range('2018-01-01', periods=12, freq='H') \n",
    "print(\"Hourly frequency:\") \n",
    "print(dtr) \n",
    "dtr = pd.date_range('2018-01-01', periods=12, freq='min') \n",
    "print(\"\\nMinutely frequency:\") \n",
    "print(dtr) \n",
    "dtr = pd.date_range('2018-01-01', periods=12, freq='S') \n",
    "print(\"\\nSecondly frequency:\") \n",
    "print(dtr) \n",
    "dtr = pd.date_range('2018-01-01', periods=12, freq='2H') \n",
    "print(\"nMultiple Hourly frequency:\") \n",
    "print(dtr) \n",
    "dtr = pd.date_range('2018-01-01', periods=12, freq='5min') \n",
    "print(\"\\nMultiple Minutely frequency:\") \n",
    "print(dtr) \n",
    "dtr = pd.date_range('2018-01-01', periods=12, freq='BQ') \n",
    "print(\"\\nMultiple Secondly frequency:\") \n",
    "print(dtr) \n",
    "dtr = pd.date_range('2018-01-01', periods=12, freq='w') \n",
    "print(\"\\nWeekly frequency:\") \n",
    "print(dtr) \n",
    "dtr = pd.date_range('2018-01-01', periods=12, freq='2h20min') \n",
    "print(\"\\nCombine together day and intraday offsets-1:\") \n",
    "print(dtr) \n",
    "dtr = pd.date_range('2018-01-01', periods=12, freq='1D10U') \n",
    "print(\"\\nCombine together day and intraday offsets-2:\") \n",
    "print(dtr)  "
   ]
  },
  {
   "cell_type": "markdown",
   "metadata": {},
   "source": [
    "Q136. Write a pandas program to manipulate and convert date times\n",
    "      with timezone information."
   ]
  },
  {
   "cell_type": "code",
   "execution_count": 222,
   "metadata": {},
   "outputs": [
    {
     "name": "stdout",
     "output_type": "stream",
     "text": [
      "DatetimeIndex(['2018-01-01 00:00:00+00:00', '2018-01-01 01:00:00+00:00', '2018-01-01 02:00:00+00:00'], dtype='datetime64[ns, UTC]', freq='H')\n",
      "\n",
      "From UTC to America/Los_Angeles:\n",
      "DatetimeIndex(['2017-12-31 16:00:00-08:00', '2017-12-31 17:00:00-08:00', '2017-12-31 18:00:00-08:00'], dtype='datetime64[ns, America/Los_Angeles]', freq='H')\n"
     ]
    }
   ],
   "source": [
    "import pandas as pd \n",
    "dtt = pd.date_range('2018-01-01', periods=3, freq='H') \n",
    "dtt = dtt.tz_localize('UTC') \n",
    "print(dtt) \n",
    "print(\"\\nFrom UTC to America/Los_Angeles:\") \n",
    "dtt = dtt.tz_convert('America/Los_Angeles') \n",
    "print(dtt) "
   ]
  },
  {
   "cell_type": "markdown",
   "metadata": {},
   "source": [
    "Q137. Write a pandas program to create the graphical analysis of UFO\n",
    "      (unidentified flying object) Sightings year."
   ]
  },
  {
   "cell_type": "code",
   "execution_count": 239,
   "metadata": {},
   "outputs": [
    {
     "name": "stderr",
     "output_type": "stream",
     "text": [
      "C:\\Users\\talk2\\Anaconda3\\lib\\site-packages\\IPython\\core\\interactiveshell.py:3058: DtypeWarning: Columns (5,9) have mixed types. Specify dtype option on import or set low_memory=False.\n",
      "  interactivity=interactivity, compiler=compiler, result=result)\n",
      "C:\\Users\\talk2\\Anaconda3\\lib\\site-packages\\ipykernel_launcher.py:10: FutureWarning: The 'get_values' method is deprecated and will be removed in a future version. Use '.to_numpy()' or '.array' instead.\n",
      "  # Remove the CWD from sys.path while we load stuff.\n"
     ]
    },
    {
     "data": {
      "image/png": "[encoded data removed]",
      "text/plain": [
       "<Figure size 1080x576 with 1 Axes>"
      ]
     },
     "metadata": {
      "needs_background": "light"
     },
     "output_type": "display_data"
    }
   ],
   "source": [
    "import pandas as pd \n",
    "import matplotlib.pyplot as plt \n",
    "import seaborn as sns \n",
    "df = pd.read_csv(r'C:\\Users\\talk2\\Documents\\ufo.csv') \n",
    "df['Date_time'] = df['Date_time'].astype('datetime64[ns]') \n",
    "df[\"ufo_yr\"] = df.Date_time.dt.year \n",
    "years_data = df.ufo_yr.value_counts() \n",
    "years_index = years_data.index  \n",
    "# x ticks \n",
    "years_values = years_data.get_values() \n",
    "plt.figure(figsize=(15,8)) \n",
    "plt.xticks(rotation = 60) \n",
    "plt.title('UFO Sightings by Year') \n",
    "plt.xlabel(\"Year\") \n",
    "plt.ylabel(\"Number of reports\") \n",
    "years_plot = sns.barplot(x=years_index[:60],y=years_values[:60], palette = \"Reds\") \n"
   ]
  },
  {
   "cell_type": "markdown",
   "metadata": {},
   "source": [
    "Q138. Write a pandas program to create a comparison of the top 10\n",
    "      years in which the (UFO) was sighted VS each Month."
   ]
  },
  {
   "cell_type": "code",
   "execution_count": 241,
   "metadata": {},
   "outputs": [
    {
     "name": "stdout",
     "output_type": "stream",
     "text": [
      "\n",
      "Comparison of the top 10 years in which the UFO was sighted vs each month:\n",
      "Date_time   1    2    3    4    5    6    7    8    9    10   11   12\n",
      "Date_time                                                            \n",
      "2003       287  230  169  204  219  270  408  500  467  424  438  342\n",
      "2004       265  267  370  359  353  373  404  498  376  414  294  280\n",
      "2005       231  256  327  295  271  367  418  319  475  442  417  254\n",
      "2007       400  242  329  292  276  382  436  429  417  395  341  327\n",
      "2008       431  346  305  402  310  441  533  471  356  483  418  316\n",
      "2009       455  365  313  293  338  358  543  465  569  287  292  262\n",
      "2010       256  172  236  268  305  340  791  481  414  421  315  280\n",
      "2011       297  256  311  294  281  371  716  599  504  590  402  483\n",
      "2012       530  357  488  463  471  694  877  828  693  617  714  614\n",
      "2013       358  264  367  388  487  584  900  842  716  718  717  692\n"
     ]
    }
   ],
   "source": [
    "import pandas as pd\n",
    "#Source: https://bit.ly/1l9yjm9 \n",
    "df = pd.read_csv(r'C:\\Users\\talk2\\Documents\\ufo.csv') \n",
    "df['Date_time'] = df['Date_time'].astype('datetime64[ns]') \n",
    "most_sightings_years = df['Date_time'].dt.year.value_counts().head(10) \n",
    "def is_top_years(year):    \n",
    "    if year in most_sightings_years.index:        \n",
    "        return year \n",
    "month_vs_year = df.pivot_table(columns=df['Date_time'].dt.month,index=df['Date_time'].dt.year.apply(is_top_years),aggfunc='count',values='city') \n",
    "month_vs_year.index = month_vs_year.index.astype(int) \n",
    "month_vs_year.columns = month_vs_year.columns.astype(int) \n",
    "print(\"\\nComparison of the top 10 years in which the UFO was sighted vs each month:\") \n",
    "print(month_vs_year.head(10)) "
   ]
  },
  {
   "cell_type": "markdown",
   "metadata": {},
   "source": [
    "Q139. Write a pandas program to create a heatmap (rectangular data as\n",
    "      a colour-encoded matrix) for comparison of top 10 years in\n",
    "      which (UFO ) was sighted VS each Month."
   ]
  },
  {
   "cell_type": "code",
   "execution_count": 242,
   "metadata": {},
   "outputs": [
    {
     "name": "stdout",
     "output_type": "stream",
     "text": [
      "\n",
      "Heatmap for comparison of the top 10 years in which the UFO was sighted vs each month:\n"
     ]
    },
    {
     "data": {
      "image/png": "[encoded data removed]",
      "text/plain": [
       "<Figure size 720x576 with 2 Axes>"
      ]
     },
     "metadata": {
      "needs_background": "light"
     },
     "output_type": "display_data"
    }
   ],
   "source": [
    "import pandas as pd \n",
    "import matplotlib.pyplot as plt \n",
    "import seaborn as sns \n",
    "#Source: https://bit.ly/1l9yjm9 \n",
    "df = pd.read_csv(r'C:\\Users\\talk2\\Documents\\ufo.csv') \n",
    "df['Date_time'] = df['Date_time'].astype('datetime64[ns]') \n",
    "most_sightings_years = df['Date_time'].dt.year.value_counts().head(10)\n",
    "def is_top_years(year):    \n",
    "    if year in most_sightings_years.index:\n",
    "          return year\n",
    "month_vs_year = df.pivot_table(columns=df['Date_time'].dt.month,index=df['Date_time'].dt.year.apply(is_top_years),aggfunc='count',values='city')\n",
    "month_vs_year.columns = month_vs_year.columns.astype(int) \n",
    "print(\"\\nHeatmap for comparison of the top 10 years in which the UFO was sighted vs each month:\") \n",
    "plt.figure(figsize=(10,8))\n",
    "ax = sns.heatmap(month_vs_year, vmin=0, vmax=4) \n",
    "ax.set_xlabel('Month').set_size(20) \n",
    "ax.set_ylabel('Year').set_size(20) "
   ]
  },
  {
   "cell_type": "markdown",
   "metadata": {},
   "source": [
    "Q140. Write a pandas program to create a Timewheel of Hour VS Year\n",
    "      comparison of the top 10 years in which the (UFO) was sighted"
   ]
  },
  {
   "cell_type": "code",
   "execution_count": 245,
   "metadata": {},
   "outputs": [
    {
     "name": "stdout",
     "output_type": "stream",
     "text": [
      "\n",
      "Comparison of the top 10 years in which the UFO was sighted vs each month:\n"
     ]
    },
    {
     "data": {
      "image/png": "[encoded data removed]",
      "text/plain": [
       "<Figure size 576x576 with 1 Axes>"
      ]
     },
     "metadata": {},
     "output_type": "display_data"
    }
   ],
   "source": [
    "import pandas as pd \n",
    "import matplotlib.pyplot as plt \n",
    "import matplotlib as mpl \n",
    "import matplotlib.cm as cm \n",
    "#Source: https://bit.ly/2XDY2XN \n",
    "df = pd.read_csv(r'C:\\Users\\talk2\\Documents\\ufo.csv') \n",
    "df['Date_time'] = df['Date_time'].astype('datetime64[ns]') \n",
    "most_sightings_years = df['Date_time'].dt.year.value_counts().head(10) \n",
    "def is_top_years(year):\n",
    "    if year in most_sightings_years.index:\n",
    "        return year \n",
    "month_vs_year = df.pivot_table(columns=df['Date_time'].dt.month,index=df['Date_time'].dt.year.apply(is_top_years),aggfunc='count',values='city') \n",
    "month_vs_year.index = month_vs_year.index.astype(int) \n",
    "month_vs_year.columns = month_vs_year.columns.astype(int) \n",
    "print(\"\\nComparison of the top 10 years in which the UFO was sighted vs each month:\") \n",
    "def pie_heatmap(table, cmap='coolwarm_r', vmin=None, vmax=None,inner_r=0.25, pie_args={}):\n",
    "    n, m = table.shape    \n",
    "    vmin= table.min().min() if vmin is None else vmin    \n",
    "    vmax= table.max().max() if vmax is None else vmax \n",
    "    centre_circle = plt.Circle((0,0),inner_r,edgecolor='black',facecolor='white',fill=True,linewidth=0.25)    \n",
    "    plt.gcf().gca().add_artist(centre_circle)    \n",
    "    norm = mpl.colors.Normalize(vmin=vmin, vmax=vmax)\n",
    "    cmapper = cm.ScalarMappable(norm=norm, cmap=cmap) \n",
    "    for i, (row_name, row) in enumerate(table.iterrows()):\n",
    "        labels = None if i > 0 else table.columns\n",
    "        wedges = plt.pie([1] * m,radius=inner_r+float(n-i)/n, \n",
    "colors=[cmapper.to_rgba(x) for x in row.values],            \n",
    "       labels=labels, startangle=90, counterclock=False, wedgeprops={'linewidth':1}, **pie_args)\n",
    "        plt.setp(wedges[0], edgecolor='grey',linewidth=1.5)        \n",
    "        wedges = plt.pie([1], radius=inner_r+float(n-i-1)/n, colors=['w'], \n",
    "labels=[row_name], startangle=-90, wedgeprops={'linewidth':0})        \n",
    "plt.figure(figsize=(8,8)) \n",
    "plt.title(\"Timewheel of Hour Vs Year\",y=1.08,fontsize=30) \n",
    "pie_heatmap(month_vs_year, vmin=-20,vmax=80,inner_r=0.2) \n",
    " \n",
    "    "
   ]
  },
  {
   "cell_type": "markdown",
   "metadata": {},
   "source": [
    "Q141. Write a python program to draw the line using given axis values\n",
    "      with the suitable label in the x-axis, y-axis, and a title."
   ]
  },
  {
   "cell_type": "code",
   "execution_count": 200,
   "metadata": {},
   "outputs": [
    {
     "data": {
      "text/plain": [
       "Text(0.5, 1.0, 'Sample graph!')"
      ]
     },
     "execution_count": 200,
     "metadata": {},
     "output_type": "execute_result"
    },
    {
     "data": {
      "image/png": "[encoded data removed]",
      "text/plain": [
       "<Figure size 432x288 with 1 Axes>"
      ]
     },
     "metadata": {
      "needs_background": "light"
     },
     "output_type": "display_data"
    }
   ],
   "source": [
    "import matplotlib.pyplot as plt \n",
    "# x axis values \n",
    "x = [1,2,3] \n",
    "# y axis values \n",
    "y = [2,4,1] \n",
    "# Plot lines and/or markers to the Axes. \n",
    "plt.plot(x, y) \n",
    "# Set the x axis label of the current axis. \n",
    "plt.xlabel('x - axis') \n",
    "# Set the y axis label of the current axis. \n",
    "plt.ylabel('y - axis') \n",
    "# Set a title  \n",
    "plt.title('Sample graph!') # Display a figure. plt.show() "
   ]
  },
  {
   "cell_type": "markdown",
   "metadata": {},
   "source": [
    "Q142. Write a python program to draw the line charts of the financial\n",
    "      data of the Alphabet Inc., between October."
   ]
  },
  {
   "cell_type": "code",
   "execution_count": 221,
   "metadata": {},
   "outputs": [
    {
     "data": {
      "image/png": "[encoded data removed]",
      "text/plain": [
       "<Figure size 432x288 with 1 Axes>"
      ]
     },
     "metadata": {
      "needs_background": "light"
     },
     "output_type": "display_data"
    }
   ],
   "source": [
    "import matplotlib.pyplot as plt \n",
    "import pandas as pd \n",
    "df = pd.read_csv(r'C:\\Users\\talk2\\Documents\\fdata.csv', sep=',', parse_dates=True, index_col=0) \n",
    "df.plot() \n",
    "plt.show() "
   ]
  },
  {
   "cell_type": "markdown",
   "metadata": {},
   "source": [
    "Q143. Write a Python program to plot two or more lines on same plot\n",
    "      with the suitable legends of each line."
   ]
  },
  {
   "cell_type": "code",
   "execution_count": 202,
   "metadata": {},
   "outputs": [
    {
     "data": {
      "image/png": "[encoded data removed]",
      "text/plain": [
       "<Figure size 432x288 with 1 Axes>"
      ]
     },
     "metadata": {
      "needs_background": "light"
     },
     "output_type": "display_data"
    }
   ],
   "source": [
    "import matplotlib.pyplot as plt \n",
    "# line 1 points \n",
    "x1 = [10,20,30] \n",
    "y1 = [20,40,10] \n",
    "# plotting the line 1 points  \n",
    "\n",
    "plt.plot(x1, y1, label = \"line 1\") \n",
    "# line 2 points \n",
    "x2 = [10,20,30] \n",
    "y2 = [40,10,30] \n",
    "# plotting the line 2 points  \n",
    "plt.plot(x2, y2, label = \"line 2\") \n",
    "plt.xlabel('x - axis') \n",
    "# Set the y axis label of the current axis. \n",
    "plt.ylabel('y - axis') \n",
    "# Set a title of the current axes. \n",
    "plt.title('Two or more lines on same plot with suitable legends ') \n",
    "# show a legend on the plot \n",
    "plt.legend()  \n",
    "# Display a figure. \n",
    "plt.show() \n",
    " "
   ]
  },
  {
   "cell_type": "markdown",
   "metadata": {},
   "source": [
    "Q144. Write a python programming to display a bar chart of the\n",
    "      popularity of programming languages."
   ]
  },
  {
   "cell_type": "code",
   "execution_count": 203,
   "metadata": {},
   "outputs": [
    {
     "data": {
      "image/png": "[encoded data removed]",
      "text/plain": [
       "<Figure size 432x288 with 1 Axes>"
      ]
     },
     "metadata": {
      "needs_background": "light"
     },
     "output_type": "display_data"
    }
   ],
   "source": [
    "import matplotlib.pyplot as plt \n",
    "x = ['Java', 'Python', 'PHP', 'JavaScript', 'C#', 'C++'] \n",
    "popularity = [22.2, 17.6, 8.8, 8, 7.7, 6.7] \n",
    "x_pos = [i for i, _ in enumerate(x)] \n",
    "plt.bar(x_pos, popularity, color='blue') \n",
    "plt.xlabel(\"Languages\") \n",
    "plt.ylabel(\"Popularity\") \n",
    "plt.title(\"PopularitY of Programming Language\\n\" + \"Worldwide, Oct 2017 compared to a year ago\") \n",
    "plt.xticks(x_pos, x) \n",
    "# Turn on the grid \n",
    "plt.minorticks_on() \n",
    "plt.grid(which='major', linestyle='-', linewidth='0.5', color='red') \n",
    "# Customize the minor grid \n",
    "plt.grid(which='minor', linestyle=':', linewidth='0.5', color='black') \n",
    "plt.show() "
   ]
  },
  {
   "cell_type": "markdown",
   "metadata": {},
   "source": [
    "Q145. Write a python programming to display a horizontal bar chart of\n",
    "      the popularity of programming languages."
   ]
  },
  {
   "cell_type": "code",
   "execution_count": 204,
   "metadata": {},
   "outputs": [
    {
     "data": {
      "image/png": "[encoded data removed]",
      "text/plain": [
       "<Figure size 432x288 with 1 Axes>"
      ]
     },
     "metadata": {
      "needs_background": "light"
     },
     "output_type": "display_data"
    }
   ],
   "source": [
    "import matplotlib.pyplot as plt \n",
    "x = ['Java', 'Python', 'PHP', 'JS', 'C#', 'C++'] \n",
    "popularity = [22.2, 17.6, 8.8, 8, 7.7, 6.7] \n",
    "x_pos = [i for i, _ in enumerate(x)] \n",
    "plt.barh(x_pos, popularity, color='green') \n",
    "plt.xlabel(\"Popularity\") \n",
    "plt.ylabel(\"Languages\") \n",
    "plt.title(\"PopularitY of Programming Language\\n\" + \"Worldwide, Oct 2017 compared to a year ago\") \n",
    "plt.yticks(x_pos, x) \n",
    "# Turn on the grid \n",
    "plt.minorticks_on() \n",
    "plt.grid(which='major', linestyle='-', linewidth='0.5', color='red') \n",
    "# Customize the minor grid \n",
    "plt.grid(which='minor', linestyle=':', linewidth='0.5', color='black') \n",
    "plt.show() "
   ]
  },
  {
   "cell_type": "markdown",
   "metadata": {},
   "source": [
    "Q146. Write a python programming to display a bar chart of the\n",
    "      Popularity of programming languages. Increase bottom margin."
   ]
  },
  {
   "cell_type": "code",
   "execution_count": 205,
   "metadata": {},
   "outputs": [
    {
     "data": {
      "image/png": "[encoded data removed]",
      "text/plain": [
       "<Figure size 432x288 with 1 Axes>"
      ]
     },
     "metadata": {
      "needs_background": "light"
     },
     "output_type": "display_data"
    }
   ],
   "source": [
    "x = ['Java', 'Python', 'PHP', 'JS', 'C#', 'C++'] \n",
    "popularity = [22.2, 17.6, 8.8, 8, 7.7, 6.7] \n",
    "x_pos = [i for i, _ in enumerate(x)] \n",
    "plt.bar(x_pos, popularity, color='green') \n",
    "plt.xlabel(\"Popularity\") \n",
    "plt.ylabel(\"Languages\") \n",
    "plt.title(\"PopularitY of Programming Language\\n\" + \"Worldwide, Oct 2017 compared to a year ago\") \n",
    "# Rotation of the bars names \n",
    "plt.xticks(x_pos, x, rotation=90) \n",
    "# Custom the subplot layout \n",
    "plt.subplots_adjust(bottom=0.4, top=.8) \n",
    "# Turn on the grid \n",
    "plt.minorticks_on() \n",
    "plt.grid(which='major', linestyle='-', linewidth='0.5', color='red') \n",
    "# Customize the minor grid \n",
    "plt.grid(which='minor', linestyle=':', linewidth='0.5', color='black') \n",
    "plt.show()"
   ]
  },
  {
   "cell_type": "markdown",
   "metadata": {},
   "source": [
    "Q147. Write a python program to create the bar plot from a DataFrame."
   ]
  },
  {
   "cell_type": "code",
   "execution_count": 206,
   "metadata": {},
   "outputs": [
    {
     "data": {
      "image/png": "[encoded data removed]",
      "text/plain": [
       "<Figure size 432x288 with 1 Axes>"
      ]
     },
     "metadata": {
      "needs_background": "light"
     },
     "output_type": "display_data"
    }
   ],
   "source": [
    "from pandas import DataFrame \n",
    "import matplotlib.pyplot as plt \n",
    "import numpy as np \n",
    " \n",
    "a=np.array([[4,8,5,7,6],[2,3,4,2,6],[4,7,4,7,8],[2,6,4,8,6],[2,4,3,3,2]]) \n",
    "df=DataFrame(a, columns=['a','b','c','d','e'], index=[2,4,6,8,10]) \n",
    " \n",
    "df.plot(kind='bar') \n",
    "# Turn on the grid \n",
    "plt.minorticks_on() \n",
    "plt.grid(which='major', linestyle='-', linewidth='0.5', color='green') \n",
    "plt.grid(which='minor', linestyle=':', linewidth='0.5', color='black') \n",
    " \n",
    "plt.show()"
   ]
  },
  {
   "cell_type": "markdown",
   "metadata": {},
   "source": [
    "Q148. Write a python program to draw the scatter plot comparing two\n",
    "      subject marks of Mathematics and Science. Use marks of 10 students.\n"
   ]
  },
  {
   "cell_type": "code",
   "execution_count": 212,
   "metadata": {},
   "outputs": [
    {
     "data": {
      "image/png": "[encoded data removed]",
      "text/plain": [
       "<Figure size 432x288 with 1 Axes>"
      ]
     },
     "metadata": {
      "needs_background": "light"
     },
     "output_type": "display_data"
    }
   ],
   "source": [
    "import matplotlib.pyplot as plt \n",
    "import pandas as pd \n",
    "math_marks = [88, 92, 80, 89, 100, 80, 60, 100, 80, 34] \n",
    "science_marks = [35, 79, 79, 48, 100, 88, 32, 45, 20, 30] \n",
    "marks_range = [10, 20, 30, 40, 50, 60, 70, 80, 90, 100] \n",
    "plt.scatter(marks_range, math_marks, label='Math marks', color='r') \n",
    "plt.scatter(marks_range, science_marks, label='Science marks', color='g') \n",
    "plt.title('Scatter Plot') \n",
    "plt.xlabel('Marks Range') \n",
    "plt.ylabel('Marks Scored') \n",
    "plt.legend() \n",
    "plt.show()"
   ]
  },
  {
   "cell_type": "markdown",
   "metadata": {},
   "source": [
    "Q149. Write a python program to draw the scatter plot for three different\n",
    "      groups comparing weights and heights."
   ]
  },
  {
   "cell_type": "code",
   "execution_count": 220,
   "metadata": {},
   "outputs": [
    {
     "data": {
      "image/png": "[encoded data removed]",
      "text/plain": [
       "<Figure size 432x288 with 1 Axes>"
      ]
     },
     "metadata": {
      "needs_background": "light"
     },
     "output_type": "display_data"
    }
   ],
   "source": [
    "import matplotlib.pyplot as plt \n",
    "import numpy as np  \n",
    "weight1=[67,57.2,59.6,59.64,55.8,61.2,60.45,61,56.23,56] \n",
    "height1=[101.7,197.6,98.3,125.1,113.7,157.7,136,148.9,125.3,114.9]  \n",
    "weight2=[61.9,64,62.1,64.2,62.3,65.4,62.4,61.4,62.5,63.6] \n",
    "height2=[152.8,155.3,135.1,125.2,151.3,135,182.2,195.9,165.1,125.1]  \n",
    "weight3=[68.2,67.2,68.4,68.7,71,71.3,70.8,70,71.1,71.7] \n",
    "height3=[165.8,170.9,192.8,135.4,161.4,136.1,167.1,235.1,181.1,177.3] \n",
    "weight=np.concatenate((weight1,weight2,weight3)) \n",
    "height=np.concatenate((height1,height2,height3)) \n",
    "plt.scatter(weight, height, marker='*')\n",
    "plt.xlabel('weight', fontsize=16) \n",
    "plt.ylabel('height', fontsize=16) \n",
    "plt.title('Group wise Weight vs Height scatter plot',fontsize=20) \n",
    "plt.show()"
   ]
  },
  {
   "cell_type": "markdown",
   "metadata": {},
   "source": [
    "Q150. Write a python program to draw a scatter plot to find sea-level\n",
    "      rise in past 100 years."
   ]
  },
  {
   "cell_type": "code",
   "execution_count": 217,
   "metadata": {},
   "outputs": [
    {
     "data": {
      "image/png": "[encoded data removed]",
      "text/plain": [
       "<Figure size 432x288 with 1 Axes>"
      ]
     },
     "metadata": {
      "needs_background": "light"
     },
     "output_type": "display_data"
    }
   ],
   "source": [
    "import matplotlib.pyplot as plt \n",
    "import pandas as pd \n",
    "data = pd.read_csv(r'C:\\Users\\talk2\\Documents\\sea-level_csv.csv') \n",
    "year = data['Year'] \n",
    "sea_levels = data['CSIRO Adjusted Sea Level'] \n",
    "plt.scatter(year, sea_levels, edgecolors='g') \n",
    "plt.xlabel('Year') \n",
    "plt.ylabel('Sea Level (inches)') \n",
    "plt.title('Rise in Sealevel') \n",
    "plt.show() \n",
    " "
   ]
  },
  {
   "cell_type": "code",
   "execution_count": null,
   "metadata": {},
   "outputs": [],
   "source": []
  },
  {
   "cell_type": "code",
   "execution_count": null,
   "metadata": {},
   "outputs": [],
   "source": []
  },
  {
   "cell_type": "code",
   "execution_count": null,
   "metadata": {},
   "outputs": [],
   "source": []
  },
  {
   "cell_type": "code",
   "execution_count": null,
   "metadata": {},
   "outputs": [],
   "source": []
  },
  {
   "cell_type": "code",
   "execution_count": null,
   "metadata": {},
   "outputs": [],
   "source": []
  },
  {
   "cell_type": "code",
   "execution_count": null,
   "metadata": {},
   "outputs": [],
   "source": []
  },
  {
   "cell_type": "code",
   "execution_count": null,
   "metadata": {},
   "outputs": [],
   "source": []
  },
  {
   "cell_type": "code",
   "execution_count": null,
   "metadata": {},
   "outputs": [],
   "source": []
  },
  {
   "cell_type": "code",
   "execution_count": null,
   "metadata": {},
   "outputs": [],
   "source": []
  },
  {
   "cell_type": "code",
   "execution_count": null,
   "metadata": {},
   "outputs": [],
   "source": []
  },
  {
   "cell_type": "code",
   "execution_count": null,
   "metadata": {},
   "outputs": [],
   "source": []
  },
  {
   "cell_type": "code",
   "execution_count": null,
   "metadata": {},
   "outputs": [],
   "source": []
  }
 ],
 "metadata": {
  "kernelspec": {
   "display_name": "Python 3",
   "language": "python",
   "name": "python3"
  },
  "language_info": {
   "codemirror_mode": {
    "name": "ipython",
    "version": 3
   },
   "file_extension": ".py",
   "mimetype": "text/x-python",
   "name": "python",
   "nbconvert_exporter": "python",
   "pygments_lexer": "ipython3",
   "version": "3.7.4"
  }
 },
 "nbformat": 4,
 "nbformat_minor": 1
}
